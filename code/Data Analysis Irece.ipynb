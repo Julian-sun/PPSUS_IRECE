{
 "cells": [
  {
   "cell_type": "code",
   "execution_count": 2,
   "metadata": {},
   "outputs": [],
   "source": [
    "import pandas as pd\n",
    "import numpy as np\n",
    "import matplotlib.pyplot as plt"
   ]
  },
  {
   "cell_type": "markdown",
   "metadata": {},
   "source": [
    "# Data from SG"
   ]
  },
  {
   "cell_type": "code",
   "execution_count": 64,
   "metadata": {},
   "outputs": [],
   "source": [
    "df = pd.read_csv('/Users/julianeoliveira/Desktop/github/Datasets from the gitcomputations/Irece/sg_irece.csv',low_memory=False)"
   ]
  },
  {
   "cell_type": "code",
   "execution_count": null,
   "metadata": {},
   "outputs": [],
   "source": [
    "df.head()"
   ]
  },
  {
   "cell_type": "code",
   "execution_count": 65,
   "metadata": {},
   "outputs": [],
   "source": [
    "df['ones'] = 1"
   ]
  },
  {
   "cell_type": "code",
   "execution_count": 34,
   "metadata": {},
   "outputs": [
    {
     "name": "stdout",
     "output_type": "stream",
     "text": [
      "<class 'pandas.core.frame.DataFrame'>\n",
      "RangeIndex: 32855 entries, 0 to 32854\n",
      "Data columns (total 29 columns):\n",
      " #   Column                    Non-Null Count  Dtype  \n",
      "---  ------                    --------------  -----  \n",
      " 0   id                        32855 non-null  object \n",
      " 1   estadoNotificacao         32855 non-null  object \n",
      " 2   estadoNotificacaoIBGE     1805 non-null   object \n",
      " 3   municipioNotificacao      32847 non-null  object \n",
      " 4   municipioNotificacaoIBGE  1805 non-null   float64\n",
      " 5   profissionalSaude         32848 non-null  object \n",
      " 6   profissionalSeguranca     32663 non-null  object \n",
      " 7   cbo                       2763 non-null   object \n",
      " 8   sexo                      32855 non-null  int64  \n",
      " 9   racaCor                   32517 non-null  object \n",
      " 10  estado                    32849 non-null  object \n",
      " 11  estadoIBGE                14317 non-null  object \n",
      " 12  municipio                 32855 non-null  object \n",
      " 13  municipioIBGE             32855 non-null  int64  \n",
      " 14  dataNotificacao           32842 non-null  object \n",
      " 15  sintomas                  32848 non-null  object \n",
      " 16  outrosSintomas            14848 non-null  object \n",
      " 17  dataInicioSintomas        32465 non-null  object \n",
      " 18  condicoes                 1348 non-null   object \n",
      " 19  estadoTeste               32855 non-null  float64\n",
      " 20  dataTeste                 29317 non-null  object \n",
      " 21  tipoTeste                 32855 non-null  float64\n",
      " 22  resultadoTeste            32855 non-null  float64\n",
      " 23  classificacaoFinal        32855 non-null  float64\n",
      " 24  evolucaoCaso              32855 non-null  float64\n",
      " 25  dataEncerramento          30453 non-null  object \n",
      " 26  cnes                      22599 non-null  float64\n",
      " 27  idade                     32854 non-null  float64\n",
      " 28  ones                      32855 non-null  int64  \n",
      "dtypes: float64(8), int64(3), object(18)\n",
      "memory usage: 7.3+ MB\n"
     ]
    }
   ],
   "source": [
    "df.info()"
   ]
  },
  {
   "cell_type": "code",
   "execution_count": null,
   "metadata": {
    "scrolled": false
   },
   "outputs": [],
   "source": [
    "df.filter(['estado','estadoIBGE', 'municipio', 'municipioIBGE']).head()"
   ]
  },
  {
   "cell_type": "code",
   "execution_count": null,
   "metadata": {},
   "outputs": [],
   "source": [
    "df.filter(['dataInicioSintomas','dataNotificacao', 'dataTeste']).head()"
   ]
  },
  {
   "cell_type": "markdown",
   "metadata": {},
   "source": [
    "## Contagens de casos "
   ]
  },
  {
   "cell_type": "code",
   "execution_count": null,
   "metadata": {
    "scrolled": false
   },
   "outputs": [],
   "source": [
    "df.filter(['estadoTeste', 'dataTeste', 'tipoTeste', 'resultadoTeste',\n",
    "       'classificacaoFinal', 'evolucaoCaso',])"
   ]
  },
  {
   "cell_type": "markdown",
   "metadata": {},
   "source": [
    "### Padronização"
   ]
  },
  {
   "cell_type": "code",
   "execution_count": 66,
   "metadata": {
    "scrolled": true
   },
   "outputs": [],
   "source": [
    "df.estadoTeste=df.estadoTeste.replace({'Concluído': 0, 'Coletado': 1, 'Solicitado':2,'Exame Não Solicitado':3})\n",
    "\n",
    "df.tipoTeste=df.tipoTeste.replace({'RT-PCR': 0, 'TESTE RÁPIDO - ANTICORPO': 1, 'TESTE RÁPIDO - ANTÍGENO':2,\n",
    "                                   'Enzimaimunoensaio - ELISA IgM':3,'Quimioluminescência - CLIA':4,\n",
    "                                  'Imunoensaio por Eletroquimioluminescência - ECLIA IgG':5,\n",
    "                                  'Enzimaimunoensaio – ELISA':6})\n",
    "\n",
    "df.resultadoTeste=df.resultadoTeste.replace({'Negativo': 0, 'Positivo': 1, 'Inconclusivo ou Indeterminado':88})\n",
    "\n",
    "df.classificacaoFinal=df.classificacaoFinal.replace({'Descartado': 0, 'Confirmado Laboratorial': 1,\n",
    "                                                     'Síndrome Gripal Não Especificada':2,\n",
    "                                                     'Confirmado Clínico-Imagem':3,\n",
    "                                                    'Confirmado Clínico-Epidemiológico':4,\n",
    "                                                    'Confirmado por Critério Clínico':5})\n",
    "\n",
    "df.evolucaoCaso = df.evolucaoCaso.replace({'Cura': 0, 'Cancelado': 1, 'Em tratamento domiciliar':2,\n",
    "                                           'Óbito':3,'Ignorado':1,'Internado':4,'Internado em UTI':5})\n",
    "\n",
    "df.sexo = df.sexo.replace({'Feminino': 0, 'Masculino': 1})\n",
    "\n",
    "df.estadoTeste=df.estadoTeste.fillna(99)\n",
    "df.tipoTeste=df.tipoTeste.fillna(99)\n",
    "df.resultadoTeste=df.resultadoTeste.fillna(99)\n",
    "df.classificacaoFinal=df.classificacaoFinal.fillna(99)\n",
    "df.evolucaoCaso=df.evolucaoCaso.fillna(99)\n",
    "df.sexo=df.sexo.fillna(99)\n",
    "\n",
    "#df['idade']= df['idade'].mask(df2['idade']<18, '0-17','0-17')\n",
    "\n",
    "df.loc[(df.idade <18), 'faixa']='0-17'\n",
    "df.loc[((df.idade <30)&(df.idade >=18)), 'faixa']='18-29'\n",
    "df.loc[((df.idade <40)&(df.idade >=30)), 'faixa']='30-39'\n",
    "df.loc[((df.idade <50)&(df.idade >=40)), 'faixa']='40-49'\n",
    "df.loc[((df.idade <65)&(df.idade >=50)), 'faixa']='50-64'\n",
    "df.loc[((df.idade <75)&(df.idade >=65)), 'faixa']='65-74'\n",
    "df.loc[((df.idade <85)&(df.idade >=75)), 'faixa']='75-84'\n",
    "df.loc[(df.idade >=85), 'faixa']='85+'"
   ]
  },
  {
   "cell_type": "code",
   "execution_count": 76,
   "metadata": {
    "scrolled": true
   },
   "outputs": [
    {
     "data": {
      "text/plain": [
       "30-39    7435\n",
       "18-29    7386\n",
       "40-49    6325\n",
       "50-64    4817\n",
       "0-17     4546\n",
       "65-74    1331\n",
       "75-84     721\n",
       "85+       293\n",
       "Name: faixa, dtype: int64"
      ]
     },
     "execution_count": 76,
     "metadata": {},
     "output_type": "execute_result"
    }
   ],
   "source": [
    "df['faixa'].value_counts()"
   ]
  },
  {
   "cell_type": "code",
   "execution_count": 39,
   "metadata": {},
   "outputs": [
    {
     "data": {
      "text/plain": [
       "Series([], Name: idade, dtype: int64)"
      ]
     },
     "execution_count": 39,
     "metadata": {},
     "output_type": "execute_result"
    }
   ],
   "source": [
    "df.idade.value_counts()"
   ]
  },
  {
   "cell_type": "code",
   "execution_count": 6,
   "metadata": {},
   "outputs": [
    {
     "data": {
      "text/plain": [
       "0    18165\n",
       "1    14690\n",
       "Name: sexo, dtype: int64"
      ]
     },
     "execution_count": 6,
     "metadata": {},
     "output_type": "execute_result"
    }
   ],
   "source": [
    "df.sexo.value_counts()"
   ]
  },
  {
   "cell_type": "code",
   "execution_count": 7,
   "metadata": {
    "scrolled": false
   },
   "outputs": [
    {
     "data": {
      "text/plain": [
       "0.0     28910\n",
       "99.0     1812\n",
       "1.0       802\n",
       "2.0       712\n",
       "3.0       619\n",
       "Name: estadoTeste, dtype: int64"
      ]
     },
     "execution_count": 7,
     "metadata": {},
     "output_type": "execute_result"
    }
   ],
   "source": [
    "df.estadoTeste.value_counts()"
   ]
  },
  {
   "cell_type": "code",
   "execution_count": 9,
   "metadata": {},
   "outputs": [
    {
     "data": {
      "text/plain": [
       "87.99269517577233"
      ]
     },
     "execution_count": 9,
     "metadata": {},
     "output_type": "execute_result"
    }
   ],
   "source": [
    "# Porcentagem de caso suspeitos testados (estadoTeste = 0)*100/total de casos suspeitos \n",
    "28910*100/32855"
   ]
  },
  {
   "cell_type": "code",
   "execution_count": 8,
   "metadata": {},
   "outputs": [
    {
     "data": {
      "text/plain": [
       "0.0     19034\n",
       "1.0      6847\n",
       "2.0      4038\n",
       "99.0     2909\n",
       "3.0        10\n",
       "4.0         9\n",
       "5.0         7\n",
       "6.0         1\n",
       "Name: tipoTeste, dtype: int64"
      ]
     },
     "execution_count": 8,
     "metadata": {},
     "output_type": "execute_result"
    }
   ],
   "source": [
    "df.tipoTeste.value_counts()"
   ]
  },
  {
   "cell_type": "code",
   "execution_count": 10,
   "metadata": {
    "scrolled": true
   },
   "outputs": [
    {
     "data": {
      "text/plain": [
       "0.0     19251\n",
       "1.0      9464\n",
       "99.0     4055\n",
       "88.0       85\n",
       "Name: resultadoTeste, dtype: int64"
      ]
     },
     "execution_count": 10,
     "metadata": {},
     "output_type": "execute_result"
    }
   ],
   "source": [
    "df.resultadoTeste.value_counts()"
   ]
  },
  {
   "cell_type": "code",
   "execution_count": 11,
   "metadata": {},
   "outputs": [
    {
     "data": {
      "text/plain": [
       "0.0     19473\n",
       "1.0      9462\n",
       "99.0     2367\n",
       "2.0      1532\n",
       "3.0        11\n",
       "4.0         7\n",
       "5.0         3\n",
       "Name: classificacaoFinal, dtype: int64"
      ]
     },
     "execution_count": 11,
     "metadata": {},
     "output_type": "execute_result"
    }
   ],
   "source": [
    "df.classificacaoFinal.value_counts()"
   ]
  },
  {
   "cell_type": "code",
   "execution_count": 12,
   "metadata": {
    "scrolled": false
   },
   "outputs": [
    {
     "data": {
      "text/plain": [
       "0.0     29354\n",
       "99.0     1992\n",
       "1.0       797\n",
       "2.0       449\n",
       "3.0       179\n",
       "4.0        79\n",
       "5.0         5\n",
       "Name: evolucaoCaso, dtype: int64"
      ]
     },
     "execution_count": 12,
     "metadata": {},
     "output_type": "execute_result"
    }
   ],
   "source": [
    "df.evolucaoCaso.value_counts()"
   ]
  },
  {
   "cell_type": "code",
   "execution_count": 80,
   "metadata": {},
   "outputs": [],
   "source": [
    "# Correção da variável classificação final considerando os valores positivos dos testes\n",
    "df['classificacaoFinal'] = np.where(df['resultadoTeste'] ==1, 1, df['classificacaoFinal'])"
   ]
  },
  {
   "cell_type": "code",
   "execution_count": 81,
   "metadata": {},
   "outputs": [],
   "source": [
    "data = df.groupby(['tipoTeste','estadoTeste','resultadoTeste','classificacaoFinal'])['ones'].count().reset_index()"
   ]
  },
  {
   "cell_type": "code",
   "execution_count": 82,
   "metadata": {
    "scrolled": true
   },
   "outputs": [
    {
     "data": {
      "text/plain": [
       "11372"
      ]
     },
     "execution_count": 82,
     "metadata": {},
     "output_type": "execute_result"
    }
   ],
   "source": [
    "# Contar casos que deram positivos na classificação final ou pelo teste\n",
    "\n",
    "data[(data.classificacaoFinal != 0) & (data.classificacaoFinal != 99)].ones.sum()\n",
    "\n",
    "#data[(data.classificacaoFinal == 0) & (data.resultadoTeste == 1)].ones.sum()\n",
    "#data[(data.classificacaoFinal == 99) & (data.resultadoTeste == 1)].ones.sum()"
   ]
  },
  {
   "cell_type": "markdown",
   "metadata": {},
   "source": [
    "# Analises dos casos confirmados"
   ]
  },
  {
   "cell_type": "code",
   "execution_count": 83,
   "metadata": {
    "scrolled": true
   },
   "outputs": [],
   "source": [
    "df2 = df[(df.classificacaoFinal != 0) & (df.classificacaoFinal != 99)] #.ones.sum()"
   ]
  },
  {
   "cell_type": "code",
   "execution_count": 84,
   "metadata": {},
   "outputs": [
    {
     "data": {
      "text/html": [
       "<div>\n",
       "<style scoped>\n",
       "    .dataframe tbody tr th:only-of-type {\n",
       "        vertical-align: middle;\n",
       "    }\n",
       "\n",
       "    .dataframe tbody tr th {\n",
       "        vertical-align: top;\n",
       "    }\n",
       "\n",
       "    .dataframe thead th {\n",
       "        text-align: right;\n",
       "    }\n",
       "</style>\n",
       "<table border=\"1\" class=\"dataframe\">\n",
       "  <thead>\n",
       "    <tr style=\"text-align: right;\">\n",
       "      <th></th>\n",
       "      <th>id</th>\n",
       "      <th>estadoNotificacao</th>\n",
       "      <th>estadoNotificacaoIBGE</th>\n",
       "      <th>municipioNotificacao</th>\n",
       "      <th>municipioNotificacaoIBGE</th>\n",
       "      <th>profissionalSaude</th>\n",
       "      <th>profissionalSeguranca</th>\n",
       "      <th>cbo</th>\n",
       "      <th>sexo</th>\n",
       "      <th>racaCor</th>\n",
       "      <th>...</th>\n",
       "      <th>dataTeste</th>\n",
       "      <th>tipoTeste</th>\n",
       "      <th>resultadoTeste</th>\n",
       "      <th>classificacaoFinal</th>\n",
       "      <th>evolucaoCaso</th>\n",
       "      <th>dataEncerramento</th>\n",
       "      <th>cnes</th>\n",
       "      <th>idade</th>\n",
       "      <th>ones</th>\n",
       "      <th>faixa</th>\n",
       "    </tr>\n",
       "  </thead>\n",
       "  <tbody>\n",
       "    <tr>\n",
       "      <th>16</th>\n",
       "      <td>GcDEf0OynQ</td>\n",
       "      <td>Bahia</td>\n",
       "      <td>NaN</td>\n",
       "      <td>Irecê</td>\n",
       "      <td>NaN</td>\n",
       "      <td>Não</td>\n",
       "      <td>Não</td>\n",
       "      <td>NaN</td>\n",
       "      <td>0</td>\n",
       "      <td>Parda</td>\n",
       "      <td>...</td>\n",
       "      <td>NaN</td>\n",
       "      <td>0.0</td>\n",
       "      <td>1.0</td>\n",
       "      <td>1.0</td>\n",
       "      <td>0.0</td>\n",
       "      <td>2020-12-23</td>\n",
       "      <td>NaN</td>\n",
       "      <td>29.0</td>\n",
       "      <td>1</td>\n",
       "      <td>18-29</td>\n",
       "    </tr>\n",
       "    <tr>\n",
       "      <th>28</th>\n",
       "      <td>h2WlTSonVU</td>\n",
       "      <td>Bahia</td>\n",
       "      <td>NaN</td>\n",
       "      <td>Irecê</td>\n",
       "      <td>NaN</td>\n",
       "      <td>Não</td>\n",
       "      <td>Não</td>\n",
       "      <td>NaN</td>\n",
       "      <td>1</td>\n",
       "      <td>Parda</td>\n",
       "      <td>...</td>\n",
       "      <td>NaN</td>\n",
       "      <td>99.0</td>\n",
       "      <td>99.0</td>\n",
       "      <td>2.0</td>\n",
       "      <td>0.0</td>\n",
       "      <td>2020-07-25</td>\n",
       "      <td>NaN</td>\n",
       "      <td>52.0</td>\n",
       "      <td>1</td>\n",
       "      <td>50-64</td>\n",
       "    </tr>\n",
       "    <tr>\n",
       "      <th>29</th>\n",
       "      <td>VjAEBQGNcV</td>\n",
       "      <td>Bahia</td>\n",
       "      <td>NaN</td>\n",
       "      <td>Irecê</td>\n",
       "      <td>NaN</td>\n",
       "      <td>Não</td>\n",
       "      <td>Não</td>\n",
       "      <td>NaN</td>\n",
       "      <td>0</td>\n",
       "      <td>Parda</td>\n",
       "      <td>...</td>\n",
       "      <td>NaN</td>\n",
       "      <td>99.0</td>\n",
       "      <td>99.0</td>\n",
       "      <td>2.0</td>\n",
       "      <td>0.0</td>\n",
       "      <td>2020-07-25</td>\n",
       "      <td>NaN</td>\n",
       "      <td>27.0</td>\n",
       "      <td>1</td>\n",
       "      <td>18-29</td>\n",
       "    </tr>\n",
       "    <tr>\n",
       "      <th>33</th>\n",
       "      <td>Q8ja04hoYC</td>\n",
       "      <td>Bahia</td>\n",
       "      <td>NaN</td>\n",
       "      <td>Salvador</td>\n",
       "      <td>NaN</td>\n",
       "      <td>Não</td>\n",
       "      <td>Não</td>\n",
       "      <td>NaN</td>\n",
       "      <td>1</td>\n",
       "      <td>Amarela</td>\n",
       "      <td>...</td>\n",
       "      <td>NaN</td>\n",
       "      <td>99.0</td>\n",
       "      <td>99.0</td>\n",
       "      <td>2.0</td>\n",
       "      <td>1.0</td>\n",
       "      <td>2020-07-30</td>\n",
       "      <td>4073.0</td>\n",
       "      <td>79.0</td>\n",
       "      <td>1</td>\n",
       "      <td>75-84</td>\n",
       "    </tr>\n",
       "    <tr>\n",
       "      <th>36</th>\n",
       "      <td>OXuDs0wZ4k</td>\n",
       "      <td>Bahia</td>\n",
       "      <td>NaN</td>\n",
       "      <td>Irecê</td>\n",
       "      <td>NaN</td>\n",
       "      <td>Não</td>\n",
       "      <td>Não</td>\n",
       "      <td>NaN</td>\n",
       "      <td>1</td>\n",
       "      <td>Amarela</td>\n",
       "      <td>...</td>\n",
       "      <td>NaN</td>\n",
       "      <td>99.0</td>\n",
       "      <td>99.0</td>\n",
       "      <td>2.0</td>\n",
       "      <td>0.0</td>\n",
       "      <td>2020-08-18</td>\n",
       "      <td>NaN</td>\n",
       "      <td>18.0</td>\n",
       "      <td>1</td>\n",
       "      <td>18-29</td>\n",
       "    </tr>\n",
       "    <tr>\n",
       "      <th>...</th>\n",
       "      <td>...</td>\n",
       "      <td>...</td>\n",
       "      <td>...</td>\n",
       "      <td>...</td>\n",
       "      <td>...</td>\n",
       "      <td>...</td>\n",
       "      <td>...</td>\n",
       "      <td>...</td>\n",
       "      <td>...</td>\n",
       "      <td>...</td>\n",
       "      <td>...</td>\n",
       "      <td>...</td>\n",
       "      <td>...</td>\n",
       "      <td>...</td>\n",
       "      <td>...</td>\n",
       "      <td>...</td>\n",
       "      <td>...</td>\n",
       "      <td>...</td>\n",
       "      <td>...</td>\n",
       "      <td>...</td>\n",
       "      <td>...</td>\n",
       "    </tr>\n",
       "    <tr>\n",
       "      <th>32833</th>\n",
       "      <td>lgtCdFuX49</td>\n",
       "      <td>Bahia</td>\n",
       "      <td>BA</td>\n",
       "      <td>Irecê</td>\n",
       "      <td>2914604.0</td>\n",
       "      <td>Não</td>\n",
       "      <td>Não</td>\n",
       "      <td>NaN</td>\n",
       "      <td>0</td>\n",
       "      <td>Ignorado</td>\n",
       "      <td>...</td>\n",
       "      <td>NaN</td>\n",
       "      <td>99.0</td>\n",
       "      <td>99.0</td>\n",
       "      <td>1.0</td>\n",
       "      <td>0.0</td>\n",
       "      <td>2021-11-24</td>\n",
       "      <td>6249817.0</td>\n",
       "      <td>55.0</td>\n",
       "      <td>1</td>\n",
       "      <td>50-64</td>\n",
       "    </tr>\n",
       "    <tr>\n",
       "      <th>32834</th>\n",
       "      <td>iBLqwk9HLu</td>\n",
       "      <td>Bahia</td>\n",
       "      <td>BA</td>\n",
       "      <td>Irecê</td>\n",
       "      <td>2914604.0</td>\n",
       "      <td>Não</td>\n",
       "      <td>Não</td>\n",
       "      <td>NaN</td>\n",
       "      <td>1</td>\n",
       "      <td>Ignorado</td>\n",
       "      <td>...</td>\n",
       "      <td>NaN</td>\n",
       "      <td>99.0</td>\n",
       "      <td>99.0</td>\n",
       "      <td>1.0</td>\n",
       "      <td>0.0</td>\n",
       "      <td>2021-11-24</td>\n",
       "      <td>6249817.0</td>\n",
       "      <td>42.0</td>\n",
       "      <td>1</td>\n",
       "      <td>40-49</td>\n",
       "    </tr>\n",
       "    <tr>\n",
       "      <th>32835</th>\n",
       "      <td>7CWWNoEGBI</td>\n",
       "      <td>Bahia</td>\n",
       "      <td>BA</td>\n",
       "      <td>Irecê</td>\n",
       "      <td>2914604.0</td>\n",
       "      <td>Não</td>\n",
       "      <td>Não</td>\n",
       "      <td>NaN</td>\n",
       "      <td>0</td>\n",
       "      <td>Ignorado</td>\n",
       "      <td>...</td>\n",
       "      <td>NaN</td>\n",
       "      <td>99.0</td>\n",
       "      <td>99.0</td>\n",
       "      <td>1.0</td>\n",
       "      <td>0.0</td>\n",
       "      <td>2021-11-25</td>\n",
       "      <td>6249817.0</td>\n",
       "      <td>38.0</td>\n",
       "      <td>1</td>\n",
       "      <td>30-39</td>\n",
       "    </tr>\n",
       "    <tr>\n",
       "      <th>32837</th>\n",
       "      <td>T8O95JmkRx</td>\n",
       "      <td>Bahia</td>\n",
       "      <td>BA</td>\n",
       "      <td>Irecê</td>\n",
       "      <td>2914604.0</td>\n",
       "      <td>Não</td>\n",
       "      <td>Não</td>\n",
       "      <td>NaN</td>\n",
       "      <td>0</td>\n",
       "      <td>Ignorado</td>\n",
       "      <td>...</td>\n",
       "      <td>NaN</td>\n",
       "      <td>99.0</td>\n",
       "      <td>99.0</td>\n",
       "      <td>1.0</td>\n",
       "      <td>0.0</td>\n",
       "      <td>2021-11-26</td>\n",
       "      <td>6249817.0</td>\n",
       "      <td>33.0</td>\n",
       "      <td>1</td>\n",
       "      <td>30-39</td>\n",
       "    </tr>\n",
       "    <tr>\n",
       "      <th>32854</th>\n",
       "      <td>x51TnEWx0w</td>\n",
       "      <td>Bahia</td>\n",
       "      <td>BA</td>\n",
       "      <td>Lapão</td>\n",
       "      <td>2919157.0</td>\n",
       "      <td>Não</td>\n",
       "      <td>Não</td>\n",
       "      <td>NaN</td>\n",
       "      <td>0</td>\n",
       "      <td>Parda</td>\n",
       "      <td>...</td>\n",
       "      <td>NaN</td>\n",
       "      <td>99.0</td>\n",
       "      <td>99.0</td>\n",
       "      <td>1.0</td>\n",
       "      <td>2.0</td>\n",
       "      <td>2021-09-27</td>\n",
       "      <td>2483637.0</td>\n",
       "      <td>59.0</td>\n",
       "      <td>1</td>\n",
       "      <td>50-64</td>\n",
       "    </tr>\n",
       "  </tbody>\n",
       "</table>\n",
       "<p>11372 rows × 30 columns</p>\n",
       "</div>"
      ],
      "text/plain": [
       "               id estadoNotificacao estadoNotificacaoIBGE  \\\n",
       "16     GcDEf0OynQ             Bahia                   NaN   \n",
       "28     h2WlTSonVU             Bahia                   NaN   \n",
       "29     VjAEBQGNcV             Bahia                   NaN   \n",
       "33     Q8ja04hoYC             Bahia                   NaN   \n",
       "36     OXuDs0wZ4k             Bahia                   NaN   \n",
       "...           ...               ...                   ...   \n",
       "32833  lgtCdFuX49             Bahia                    BA   \n",
       "32834  iBLqwk9HLu             Bahia                    BA   \n",
       "32835  7CWWNoEGBI             Bahia                    BA   \n",
       "32837  T8O95JmkRx             Bahia                    BA   \n",
       "32854  x51TnEWx0w             Bahia                    BA   \n",
       "\n",
       "      municipioNotificacao  municipioNotificacaoIBGE profissionalSaude  \\\n",
       "16                   Irecê                       NaN               Não   \n",
       "28                   Irecê                       NaN               Não   \n",
       "29                   Irecê                       NaN               Não   \n",
       "33                Salvador                       NaN               Não   \n",
       "36                   Irecê                       NaN               Não   \n",
       "...                    ...                       ...               ...   \n",
       "32833                Irecê                 2914604.0               Não   \n",
       "32834                Irecê                 2914604.0               Não   \n",
       "32835                Irecê                 2914604.0               Não   \n",
       "32837                Irecê                 2914604.0               Não   \n",
       "32854                Lapão                 2919157.0               Não   \n",
       "\n",
       "      profissionalSeguranca  cbo  sexo   racaCor  ... dataTeste tipoTeste  \\\n",
       "16                      Não  NaN     0     Parda  ...       NaN       0.0   \n",
       "28                      Não  NaN     1     Parda  ...       NaN      99.0   \n",
       "29                      Não  NaN     0     Parda  ...       NaN      99.0   \n",
       "33                      Não  NaN     1   Amarela  ...       NaN      99.0   \n",
       "36                      Não  NaN     1   Amarela  ...       NaN      99.0   \n",
       "...                     ...  ...   ...       ...  ...       ...       ...   \n",
       "32833                   Não  NaN     0  Ignorado  ...       NaN      99.0   \n",
       "32834                   Não  NaN     1  Ignorado  ...       NaN      99.0   \n",
       "32835                   Não  NaN     0  Ignorado  ...       NaN      99.0   \n",
       "32837                   Não  NaN     0  Ignorado  ...       NaN      99.0   \n",
       "32854                   Não  NaN     0     Parda  ...       NaN      99.0   \n",
       "\n",
       "      resultadoTeste  classificacaoFinal evolucaoCaso dataEncerramento  \\\n",
       "16               1.0                 1.0          0.0       2020-12-23   \n",
       "28              99.0                 2.0          0.0       2020-07-25   \n",
       "29              99.0                 2.0          0.0       2020-07-25   \n",
       "33              99.0                 2.0          1.0       2020-07-30   \n",
       "36              99.0                 2.0          0.0       2020-08-18   \n",
       "...              ...                 ...          ...              ...   \n",
       "32833           99.0                 1.0          0.0       2021-11-24   \n",
       "32834           99.0                 1.0          0.0       2021-11-24   \n",
       "32835           99.0                 1.0          0.0       2021-11-25   \n",
       "32837           99.0                 1.0          0.0       2021-11-26   \n",
       "32854           99.0                 1.0          2.0       2021-09-27   \n",
       "\n",
       "            cnes idade ones  faixa  \n",
       "16           NaN  29.0    1  18-29  \n",
       "28           NaN  52.0    1  50-64  \n",
       "29           NaN  27.0    1  18-29  \n",
       "33        4073.0  79.0    1  75-84  \n",
       "36           NaN  18.0    1  18-29  \n",
       "...          ...   ...  ...    ...  \n",
       "32833  6249817.0  55.0    1  50-64  \n",
       "32834  6249817.0  42.0    1  40-49  \n",
       "32835  6249817.0  38.0    1  30-39  \n",
       "32837  6249817.0  33.0    1  30-39  \n",
       "32854  2483637.0  59.0    1  50-64  \n",
       "\n",
       "[11372 rows x 30 columns]"
      ]
     },
     "execution_count": 84,
     "metadata": {},
     "output_type": "execute_result"
    }
   ],
   "source": [
    "df2"
   ]
  },
  {
   "cell_type": "code",
   "execution_count": 85,
   "metadata": {
    "scrolled": true
   },
   "outputs": [
    {
     "name": "stdout",
     "output_type": "stream",
     "text": [
      "<class 'pandas.core.frame.DataFrame'>\n",
      "Int64Index: 11372 entries, 16 to 32854\n",
      "Data columns (total 30 columns):\n",
      " #   Column                    Non-Null Count  Dtype  \n",
      "---  ------                    --------------  -----  \n",
      " 0   id                        11372 non-null  object \n",
      " 1   estadoNotificacao         11372 non-null  object \n",
      " 2   estadoNotificacaoIBGE     209 non-null    object \n",
      " 3   municipioNotificacao      11372 non-null  object \n",
      " 4   municipioNotificacaoIBGE  209 non-null    float64\n",
      " 5   profissionalSaude         11372 non-null  object \n",
      " 6   profissionalSeguranca     11357 non-null  object \n",
      " 7   cbo                       468 non-null    object \n",
      " 8   sexo                      11372 non-null  int64  \n",
      " 9   racaCor                   11363 non-null  object \n",
      " 10  estado                    11372 non-null  object \n",
      " 11  estadoIBGE                5959 non-null   object \n",
      " 12  municipio                 11372 non-null  object \n",
      " 13  municipioIBGE             11372 non-null  int64  \n",
      " 14  dataNotificacao           11364 non-null  object \n",
      " 15  sintomas                  11372 non-null  object \n",
      " 16  outrosSintomas            5117 non-null   object \n",
      " 17  dataInicioSintomas        11337 non-null  object \n",
      " 18  condicoes                 499 non-null    object \n",
      " 19  estadoTeste               11372 non-null  float64\n",
      " 20  dataTeste                 10911 non-null  object \n",
      " 21  tipoTeste                 11372 non-null  float64\n",
      " 22  resultadoTeste            11372 non-null  float64\n",
      " 23  classificacaoFinal        11372 non-null  float64\n",
      " 24  evolucaoCaso              11372 non-null  float64\n",
      " 25  dataEncerramento          11106 non-null  object \n",
      " 26  cnes                      8592 non-null   float64\n",
      " 27  idade                     11372 non-null  float64\n",
      " 28  ones                      11372 non-null  int64  \n",
      " 29  faixa                     11372 non-null  object \n",
      "dtypes: float64(8), int64(3), object(19)\n",
      "memory usage: 2.7+ MB\n"
     ]
    }
   ],
   "source": [
    "df2.info()"
   ]
  },
  {
   "cell_type": "code",
   "execution_count": 19,
   "metadata": {},
   "outputs": [
    {
     "data": {
      "text/plain": [
       "0.0     10423\n",
       "2.0       442\n",
       "99.0      235\n",
       "3.0       157\n",
       "1.0        98\n",
       "4.0        15\n",
       "5.0         2\n",
       "Name: evolucaoCaso, dtype: int64"
      ]
     },
     "execution_count": 19,
     "metadata": {},
     "output_type": "execute_result"
    }
   ],
   "source": [
    "df2.evolucaoCaso.value_counts()"
   ]
  },
  {
   "cell_type": "code",
   "execution_count": 20,
   "metadata": {},
   "outputs": [
    {
     "data": {
      "text/html": [
       "<div>\n",
       "<style scoped>\n",
       "    .dataframe tbody tr th:only-of-type {\n",
       "        vertical-align: middle;\n",
       "    }\n",
       "\n",
       "    .dataframe tbody tr th {\n",
       "        vertical-align: top;\n",
       "    }\n",
       "\n",
       "    .dataframe thead th {\n",
       "        text-align: right;\n",
       "    }\n",
       "</style>\n",
       "<table border=\"1\" class=\"dataframe\">\n",
       "  <thead>\n",
       "    <tr style=\"text-align: right;\">\n",
       "      <th></th>\n",
       "      <th>dataInicioSintomas</th>\n",
       "      <th>dataNotificacao</th>\n",
       "      <th>dataTeste</th>\n",
       "    </tr>\n",
       "  </thead>\n",
       "  <tbody>\n",
       "    <tr>\n",
       "      <th>16</th>\n",
       "      <td>2020-06-12</td>\n",
       "      <td>2020-06-16</td>\n",
       "      <td>NaN</td>\n",
       "    </tr>\n",
       "    <tr>\n",
       "      <th>28</th>\n",
       "      <td>2020-07-15</td>\n",
       "      <td>2020-07-23</td>\n",
       "      <td>NaN</td>\n",
       "    </tr>\n",
       "    <tr>\n",
       "      <th>29</th>\n",
       "      <td>2020-07-20</td>\n",
       "      <td>2020-07-23</td>\n",
       "      <td>NaN</td>\n",
       "    </tr>\n",
       "    <tr>\n",
       "      <th>33</th>\n",
       "      <td>2020-07-24</td>\n",
       "      <td>2020-07-31</td>\n",
       "      <td>NaN</td>\n",
       "    </tr>\n",
       "    <tr>\n",
       "      <th>36</th>\n",
       "      <td>2020-07-25</td>\n",
       "      <td>2020-08-03</td>\n",
       "      <td>NaN</td>\n",
       "    </tr>\n",
       "  </tbody>\n",
       "</table>\n",
       "</div>"
      ],
      "text/plain": [
       "   dataInicioSintomas dataNotificacao dataTeste\n",
       "16         2020-06-12      2020-06-16       NaN\n",
       "28         2020-07-15      2020-07-23       NaN\n",
       "29         2020-07-20      2020-07-23       NaN\n",
       "33         2020-07-24      2020-07-31       NaN\n",
       "36         2020-07-25      2020-08-03       NaN"
      ]
     },
     "execution_count": 20,
     "metadata": {},
     "output_type": "execute_result"
    }
   ],
   "source": [
    "df2.filter(['dataInicioSintomas','dataNotificacao', 'dataTeste']).head()"
   ]
  },
  {
   "cell_type": "code",
   "execution_count": 21,
   "metadata": {},
   "outputs": [
    {
     "name": "stderr",
     "output_type": "stream",
     "text": [
      "<ipython-input-21-67dcf83ceec8>:3: SettingWithCopyWarning: \n",
      "A value is trying to be set on a copy of a slice from a DataFrame.\n",
      "Try using .loc[row_indexer,col_indexer] = value instead\n",
      "\n",
      "See the caveats in the documentation: https://pandas.pydata.org/pandas-docs/stable/user_guide/indexing.html#returning-a-view-versus-a-copy\n",
      "  df2['dataInicioSintomas']= np.where(df2['dataInicioSintomas'].isnull(), df2['dataNotificacao'], df2['dataInicioSintomas'])\n"
     ]
    }
   ],
   "source": [
    "# Correção da variável data de primeiros sintomas considerando os valores da data de notificação\n",
    "\n",
    "df2['dataInicioSintomas']= np.where(df2['dataInicioSintomas'].isnull(), df2['dataNotificacao'], df2['dataInicioSintomas'])\n",
    "\n",
    "#df['col1'] = np.where(df['col1'] == 0, df['col2'], df['col1'])"
   ]
  },
  {
   "cell_type": "code",
   "execution_count": 22,
   "metadata": {},
   "outputs": [
    {
     "name": "stderr",
     "output_type": "stream",
     "text": [
      "<ipython-input-22-cf3717d7f31e>:1: SettingWithCopyWarning: \n",
      "A value is trying to be set on a copy of a slice from a DataFrame.\n",
      "Try using .loc[row_indexer,col_indexer] = value instead\n",
      "\n",
      "See the caveats in the documentation: https://pandas.pydata.org/pandas-docs/stable/user_guide/indexing.html#returning-a-view-versus-a-copy\n",
      "  df2['dataInicioSintomas'] = pd.to_datetime(df2['dataInicioSintomas'])\n"
     ]
    }
   ],
   "source": [
    "df2['dataInicioSintomas'] = pd.to_datetime(df2['dataInicioSintomas'])"
   ]
  },
  {
   "cell_type": "code",
   "execution_count": 23,
   "metadata": {},
   "outputs": [],
   "source": [
    "series =df2.groupby(['dataInicioSintomas'])['ones'].sum().reset_index()"
   ]
  },
  {
   "cell_type": "code",
   "execution_count": 24,
   "metadata": {
    "scrolled": false
   },
   "outputs": [
    {
     "data": {
      "text/html": [
       "<div>\n",
       "<style scoped>\n",
       "    .dataframe tbody tr th:only-of-type {\n",
       "        vertical-align: middle;\n",
       "    }\n",
       "\n",
       "    .dataframe tbody tr th {\n",
       "        vertical-align: top;\n",
       "    }\n",
       "\n",
       "    .dataframe thead th {\n",
       "        text-align: right;\n",
       "    }\n",
       "</style>\n",
       "<table border=\"1\" class=\"dataframe\">\n",
       "  <thead>\n",
       "    <tr style=\"text-align: right;\">\n",
       "      <th></th>\n",
       "      <th>dataInicioSintomas</th>\n",
       "      <th>ones</th>\n",
       "    </tr>\n",
       "  </thead>\n",
       "  <tbody>\n",
       "    <tr>\n",
       "      <th>0</th>\n",
       "      <td>2020-02-18</td>\n",
       "      <td>1</td>\n",
       "    </tr>\n",
       "    <tr>\n",
       "      <th>1</th>\n",
       "      <td>2020-02-27</td>\n",
       "      <td>1</td>\n",
       "    </tr>\n",
       "    <tr>\n",
       "      <th>2</th>\n",
       "      <td>2020-03-18</td>\n",
       "      <td>1</td>\n",
       "    </tr>\n",
       "    <tr>\n",
       "      <th>3</th>\n",
       "      <td>2020-03-25</td>\n",
       "      <td>1</td>\n",
       "    </tr>\n",
       "    <tr>\n",
       "      <th>4</th>\n",
       "      <td>2020-04-07</td>\n",
       "      <td>1</td>\n",
       "    </tr>\n",
       "    <tr>\n",
       "      <th>...</th>\n",
       "      <td>...</td>\n",
       "      <td>...</td>\n",
       "    </tr>\n",
       "    <tr>\n",
       "      <th>549</th>\n",
       "      <td>2021-11-30</td>\n",
       "      <td>4</td>\n",
       "    </tr>\n",
       "    <tr>\n",
       "      <th>550</th>\n",
       "      <td>2021-12-04</td>\n",
       "      <td>1</td>\n",
       "    </tr>\n",
       "    <tr>\n",
       "      <th>551</th>\n",
       "      <td>2021-12-05</td>\n",
       "      <td>1</td>\n",
       "    </tr>\n",
       "    <tr>\n",
       "      <th>552</th>\n",
       "      <td>2021-12-06</td>\n",
       "      <td>1</td>\n",
       "    </tr>\n",
       "    <tr>\n",
       "      <th>553</th>\n",
       "      <td>2022-01-07</td>\n",
       "      <td>3</td>\n",
       "    </tr>\n",
       "  </tbody>\n",
       "</table>\n",
       "<p>554 rows × 2 columns</p>\n",
       "</div>"
      ],
      "text/plain": [
       "    dataInicioSintomas  ones\n",
       "0           2020-02-18     1\n",
       "1           2020-02-27     1\n",
       "2           2020-03-18     1\n",
       "3           2020-03-25     1\n",
       "4           2020-04-07     1\n",
       "..                 ...   ...\n",
       "549         2021-11-30     4\n",
       "550         2021-12-04     1\n",
       "551         2021-12-05     1\n",
       "552         2021-12-06     1\n",
       "553         2022-01-07     3\n",
       "\n",
       "[554 rows x 2 columns]"
      ]
     },
     "execution_count": 24,
     "metadata": {},
     "output_type": "execute_result"
    }
   ],
   "source": [
    "series"
   ]
  },
  {
   "cell_type": "code",
   "execution_count": 25,
   "metadata": {},
   "outputs": [],
   "source": [
    "series['week'] = series['dataInicioSintomas'].dt.strftime('%Y-%U')"
   ]
  },
  {
   "cell_type": "code",
   "execution_count": 26,
   "metadata": {
    "scrolled": true
   },
   "outputs": [
    {
     "data": {
      "image/png": "[encoded data removed]",
      "text/plain": [
       "<Figure size 432x288 with 1 Axes>"
      ]
     },
     "metadata": {
      "needs_background": "light"
     },
     "output_type": "display_data"
    }
   ],
   "source": [
    "plt.plot(series.dataInicioSintomas,series.ones)\n",
    "plt.xticks(rotation=45)\n",
    "\n",
    "plt.xlabel(\"Dias\")\n",
    "\n",
    "plt.ylabel(\"Casos\")\n",
    "\n",
    "plt.title('Serie de casos confirmados no SG')\n",
    "\n",
    "plt.grid()\n",
    "\n",
    "plt.tight_layout()"
   ]
  },
  {
   "cell_type": "code",
   "execution_count": 27,
   "metadata": {},
   "outputs": [],
   "source": [
    "series2 = series.groupby(['week'])['ones'].sum().reset_index()"
   ]
  },
  {
   "cell_type": "code",
   "execution_count": 28,
   "metadata": {},
   "outputs": [
    {
     "data": {
      "text/html": [
       "<div>\n",
       "<style scoped>\n",
       "    .dataframe tbody tr th:only-of-type {\n",
       "        vertical-align: middle;\n",
       "    }\n",
       "\n",
       "    .dataframe tbody tr th {\n",
       "        vertical-align: top;\n",
       "    }\n",
       "\n",
       "    .dataframe thead th {\n",
       "        text-align: right;\n",
       "    }\n",
       "</style>\n",
       "<table border=\"1\" class=\"dataframe\">\n",
       "  <thead>\n",
       "    <tr style=\"text-align: right;\">\n",
       "      <th></th>\n",
       "      <th>week</th>\n",
       "      <th>ones</th>\n",
       "    </tr>\n",
       "  </thead>\n",
       "  <tbody>\n",
       "    <tr>\n",
       "      <th>0</th>\n",
       "      <td>2020-07</td>\n",
       "      <td>1</td>\n",
       "    </tr>\n",
       "    <tr>\n",
       "      <th>1</th>\n",
       "      <td>2020-08</td>\n",
       "      <td>1</td>\n",
       "    </tr>\n",
       "    <tr>\n",
       "      <th>2</th>\n",
       "      <td>2020-11</td>\n",
       "      <td>1</td>\n",
       "    </tr>\n",
       "    <tr>\n",
       "      <th>3</th>\n",
       "      <td>2020-12</td>\n",
       "      <td>1</td>\n",
       "    </tr>\n",
       "    <tr>\n",
       "      <th>4</th>\n",
       "      <td>2020-14</td>\n",
       "      <td>2</td>\n",
       "    </tr>\n",
       "    <tr>\n",
       "      <th>...</th>\n",
       "      <td>...</td>\n",
       "      <td>...</td>\n",
       "    </tr>\n",
       "    <tr>\n",
       "      <th>89</th>\n",
       "      <td>2021-46</td>\n",
       "      <td>23</td>\n",
       "    </tr>\n",
       "    <tr>\n",
       "      <th>90</th>\n",
       "      <td>2021-47</td>\n",
       "      <td>17</td>\n",
       "    </tr>\n",
       "    <tr>\n",
       "      <th>91</th>\n",
       "      <td>2021-48</td>\n",
       "      <td>12</td>\n",
       "    </tr>\n",
       "    <tr>\n",
       "      <th>92</th>\n",
       "      <td>2021-49</td>\n",
       "      <td>2</td>\n",
       "    </tr>\n",
       "    <tr>\n",
       "      <th>93</th>\n",
       "      <td>2022-01</td>\n",
       "      <td>3</td>\n",
       "    </tr>\n",
       "  </tbody>\n",
       "</table>\n",
       "<p>94 rows × 2 columns</p>\n",
       "</div>"
      ],
      "text/plain": [
       "       week  ones\n",
       "0   2020-07     1\n",
       "1   2020-08     1\n",
       "2   2020-11     1\n",
       "3   2020-12     1\n",
       "4   2020-14     2\n",
       "..      ...   ...\n",
       "89  2021-46    23\n",
       "90  2021-47    17\n",
       "91  2021-48    12\n",
       "92  2021-49     2\n",
       "93  2022-01     3\n",
       "\n",
       "[94 rows x 2 columns]"
      ]
     },
     "execution_count": 28,
     "metadata": {},
     "output_type": "execute_result"
    }
   ],
   "source": [
    "series2"
   ]
  },
  {
   "cell_type": "code",
   "execution_count": 29,
   "metadata": {},
   "outputs": [
    {
     "data": {
      "image/png": "[encoded data removed]",
      "text/plain": [
       "<Figure size 432x288 with 1 Axes>"
      ]
     },
     "metadata": {
      "needs_background": "light"
     },
     "output_type": "display_data"
    }
   ],
   "source": [
    "plt.plot(series2.week,series2.ones)\n",
    "\n",
    "plt.xticks(rotation=45)\n",
    "\n",
    "plt.xlabel(\"Semanas\")\n",
    "\n",
    "plt.ylabel(\"Casos\")\n",
    "\n",
    "plt.title('Serie de casos confirmados no SG')\n",
    "\n",
    "plt.grid()\n",
    "\n",
    "plt.tight_layout()"
   ]
  },
  {
   "cell_type": "markdown",
   "metadata": {},
   "source": [
    "# Contagem das categorias por casos confirmados"
   ]
  },
  {
   "cell_type": "code",
   "execution_count": 30,
   "metadata": {},
   "outputs": [
    {
     "data": {
      "text/plain": [
       "0    6190\n",
       "1    5182\n",
       "Name: sexo, dtype: int64"
      ]
     },
     "execution_count": 30,
     "metadata": {},
     "output_type": "execute_result"
    }
   ],
   "source": [
    "df2.sexo.value_counts()"
   ]
  },
  {
   "cell_type": "code",
   "execution_count": 33,
   "metadata": {},
   "outputs": [
    {
     "data": {
      "text/plain": [
       "54.43193809356314"
      ]
     },
     "execution_count": 33,
     "metadata": {},
     "output_type": "execute_result"
    }
   ],
   "source": [
    "6190*100/11372"
   ]
  },
  {
   "cell_type": "code",
   "execution_count": 32,
   "metadata": {},
   "outputs": [
    {
     "data": {
      "text/plain": [
       "45.56806190643686"
      ]
     },
     "execution_count": 32,
     "metadata": {},
     "output_type": "execute_result"
    }
   ],
   "source": [
    "5182*100/11372"
   ]
  },
  {
   "cell_type": "code",
   "execution_count": 89,
   "metadata": {},
   "outputs": [],
   "source": [
    "dta = df2['faixa'].value_counts().reset_index()"
   ]
  },
  {
   "cell_type": "code",
   "execution_count": 93,
   "metadata": {},
   "outputs": [],
   "source": [
    "dta['perc'] = round(dta.faixa*100/11372,2)"
   ]
  },
  {
   "cell_type": "code",
   "execution_count": 94,
   "metadata": {},
   "outputs": [
    {
     "data": {
      "text/html": [
       "<div>\n",
       "<style scoped>\n",
       "    .dataframe tbody tr th:only-of-type {\n",
       "        vertical-align: middle;\n",
       "    }\n",
       "\n",
       "    .dataframe tbody tr th {\n",
       "        vertical-align: top;\n",
       "    }\n",
       "\n",
       "    .dataframe thead th {\n",
       "        text-align: right;\n",
       "    }\n",
       "</style>\n",
       "<table border=\"1\" class=\"dataframe\">\n",
       "  <thead>\n",
       "    <tr style=\"text-align: right;\">\n",
       "      <th></th>\n",
       "      <th>index</th>\n",
       "      <th>faixa</th>\n",
       "      <th>perc</th>\n",
       "    </tr>\n",
       "  </thead>\n",
       "  <tbody>\n",
       "    <tr>\n",
       "      <th>0</th>\n",
       "      <td>30-39</td>\n",
       "      <td>2631</td>\n",
       "      <td>23.14</td>\n",
       "    </tr>\n",
       "    <tr>\n",
       "      <th>1</th>\n",
       "      <td>18-29</td>\n",
       "      <td>2536</td>\n",
       "      <td>22.30</td>\n",
       "    </tr>\n",
       "    <tr>\n",
       "      <th>2</th>\n",
       "      <td>40-49</td>\n",
       "      <td>2215</td>\n",
       "      <td>19.48</td>\n",
       "    </tr>\n",
       "    <tr>\n",
       "      <th>3</th>\n",
       "      <td>50-64</td>\n",
       "      <td>1825</td>\n",
       "      <td>16.05</td>\n",
       "    </tr>\n",
       "    <tr>\n",
       "      <th>4</th>\n",
       "      <td>0-17</td>\n",
       "      <td>1264</td>\n",
       "      <td>11.12</td>\n",
       "    </tr>\n",
       "    <tr>\n",
       "      <th>5</th>\n",
       "      <td>65-74</td>\n",
       "      <td>507</td>\n",
       "      <td>4.46</td>\n",
       "    </tr>\n",
       "    <tr>\n",
       "      <th>6</th>\n",
       "      <td>75-84</td>\n",
       "      <td>286</td>\n",
       "      <td>2.51</td>\n",
       "    </tr>\n",
       "    <tr>\n",
       "      <th>7</th>\n",
       "      <td>85+</td>\n",
       "      <td>108</td>\n",
       "      <td>0.95</td>\n",
       "    </tr>\n",
       "  </tbody>\n",
       "</table>\n",
       "</div>"
      ],
      "text/plain": [
       "   index  faixa   perc\n",
       "0  30-39   2631  23.14\n",
       "1  18-29   2536  22.30\n",
       "2  40-49   2215  19.48\n",
       "3  50-64   1825  16.05\n",
       "4   0-17   1264  11.12\n",
       "5  65-74    507   4.46\n",
       "6  75-84    286   2.51\n",
       "7    85+    108   0.95"
      ]
     },
     "execution_count": 94,
     "metadata": {},
     "output_type": "execute_result"
    }
   ],
   "source": [
    "dta"
   ]
  },
  {
   "cell_type": "code",
   "execution_count": 96,
   "metadata": {},
   "outputs": [
    {
     "data": {
      "text/plain": [
       "100.00999999999999"
      ]
     },
     "execution_count": 96,
     "metadata": {},
     "output_type": "execute_result"
    }
   ],
   "source": [
    "dta.perc.sum()"
   ]
  },
  {
   "cell_type": "code",
   "execution_count": null,
   "metadata": {},
   "outputs": [],
   "source": []
  }
 ],
 "metadata": {
  "kernelspec": {
   "display_name": "Python 3",
   "language": "python",
   "name": "python3"
  },
  "language_info": {
   "codemirror_mode": {
    "name": "ipython",
    "version": 3
   },
   "file_extension": ".py",
   "mimetype": "text/x-python",
   "name": "python",
   "nbconvert_exporter": "python",
   "pygments_lexer": "ipython3",
   "version": "3.8.5"
  }
 },
 "nbformat": 4,
 "nbformat_minor": 4
}
