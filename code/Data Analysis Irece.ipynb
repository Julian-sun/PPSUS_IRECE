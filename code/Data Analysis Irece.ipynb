{
 "cells": [
  {
   "cell_type": "code",
   "execution_count": 2,
   "metadata": {},
   "outputs": [],
   "source": [
    "import pandas as pd"
   ]
  },
  {
   "cell_type": "markdown",
   "metadata": {},
   "source": [
    "# Data from SG"
   ]
  },
  {
   "cell_type": "code",
   "execution_count": 4,
   "metadata": {},
   "outputs": [],
   "source": [
    "df = pd.read_csv('/Users/julianeoliveira/Desktop/github/Datasets from the gitcomputations/Irece/sg_irece.csv',low_memory=False)"
   ]
  },
  {
   "cell_type": "code",
   "execution_count": 5,
   "metadata": {},
   "outputs": [
    {
     "data": {
      "text/html": [
       "<div>\n",
       "<style scoped>\n",
       "    .dataframe tbody tr th:only-of-type {\n",
       "        vertical-align: middle;\n",
       "    }\n",
       "\n",
       "    .dataframe tbody tr th {\n",
       "        vertical-align: top;\n",
       "    }\n",
       "\n",
       "    .dataframe thead th {\n",
       "        text-align: right;\n",
       "    }\n",
       "</style>\n",
       "<table border=\"1\" class=\"dataframe\">\n",
       "  <thead>\n",
       "    <tr style=\"text-align: right;\">\n",
       "      <th></th>\n",
       "      <th>id</th>\n",
       "      <th>estadoNotificacao</th>\n",
       "      <th>estadoNotificacaoIBGE</th>\n",
       "      <th>municipioNotificacao</th>\n",
       "      <th>municipioNotificacaoIBGE</th>\n",
       "      <th>profissionalSaude</th>\n",
       "      <th>profissionalSeguranca</th>\n",
       "      <th>cbo</th>\n",
       "      <th>sexo</th>\n",
       "      <th>racaCor</th>\n",
       "      <th>...</th>\n",
       "      <th>condicoes</th>\n",
       "      <th>estadoTeste</th>\n",
       "      <th>dataTeste</th>\n",
       "      <th>tipoTeste</th>\n",
       "      <th>resultadoTeste</th>\n",
       "      <th>classificacaoFinal</th>\n",
       "      <th>evolucaoCaso</th>\n",
       "      <th>dataEncerramento</th>\n",
       "      <th>cnes</th>\n",
       "      <th>idade</th>\n",
       "    </tr>\n",
       "  </thead>\n",
       "  <tbody>\n",
       "    <tr>\n",
       "      <th>0</th>\n",
       "      <td>aR35LpJ5Yu</td>\n",
       "      <td>Alagoas</td>\n",
       "      <td>NaN</td>\n",
       "      <td>Maceió</td>\n",
       "      <td>NaN</td>\n",
       "      <td>Não</td>\n",
       "      <td>Não</td>\n",
       "      <td>NaN</td>\n",
       "      <td>Masculino</td>\n",
       "      <td>Parda</td>\n",
       "      <td>...</td>\n",
       "      <td>NaN</td>\n",
       "      <td>Solicitado</td>\n",
       "      <td>NaN</td>\n",
       "      <td>NaN</td>\n",
       "      <td>NaN</td>\n",
       "      <td>NaN</td>\n",
       "      <td>NaN</td>\n",
       "      <td>NaN</td>\n",
       "      <td>2005808.0</td>\n",
       "      <td>66.0</td>\n",
       "    </tr>\n",
       "    <tr>\n",
       "      <th>1</th>\n",
       "      <td>wq6wsOpQAA</td>\n",
       "      <td>Alagoas</td>\n",
       "      <td>NaN</td>\n",
       "      <td>Maceió</td>\n",
       "      <td>NaN</td>\n",
       "      <td>Não</td>\n",
       "      <td>Não</td>\n",
       "      <td>NaN</td>\n",
       "      <td>Feminino</td>\n",
       "      <td>Parda</td>\n",
       "      <td>...</td>\n",
       "      <td>Doenças cardíacas crônicas</td>\n",
       "      <td>Exame Não Solicitado</td>\n",
       "      <td>NaN</td>\n",
       "      <td>NaN</td>\n",
       "      <td>NaN</td>\n",
       "      <td>NaN</td>\n",
       "      <td>NaN</td>\n",
       "      <td>NaN</td>\n",
       "      <td>2005727.0</td>\n",
       "      <td>29.0</td>\n",
       "    </tr>\n",
       "    <tr>\n",
       "      <th>2</th>\n",
       "      <td>nBLA0EFemN</td>\n",
       "      <td>Alagoas</td>\n",
       "      <td>NaN</td>\n",
       "      <td>Maceió</td>\n",
       "      <td>NaN</td>\n",
       "      <td>Não</td>\n",
       "      <td>Não</td>\n",
       "      <td>NaN</td>\n",
       "      <td>Masculino</td>\n",
       "      <td>Parda</td>\n",
       "      <td>...</td>\n",
       "      <td>NaN</td>\n",
       "      <td>Concluído</td>\n",
       "      <td>2020-06-05</td>\n",
       "      <td>TESTE RÁPIDO - ANTICORPO</td>\n",
       "      <td>Negativo</td>\n",
       "      <td>NaN</td>\n",
       "      <td>NaN</td>\n",
       "      <td>NaN</td>\n",
       "      <td>2005808.0</td>\n",
       "      <td>66.0</td>\n",
       "    </tr>\n",
       "    <tr>\n",
       "      <th>3</th>\n",
       "      <td>1zpeU1ElwN</td>\n",
       "      <td>Bahia</td>\n",
       "      <td>NaN</td>\n",
       "      <td>Salvador</td>\n",
       "      <td>NaN</td>\n",
       "      <td>Não</td>\n",
       "      <td>Não</td>\n",
       "      <td>NaN</td>\n",
       "      <td>Feminino</td>\n",
       "      <td>NaN</td>\n",
       "      <td>...</td>\n",
       "      <td>NaN</td>\n",
       "      <td>Solicitado</td>\n",
       "      <td>NaN</td>\n",
       "      <td>RT-PCR</td>\n",
       "      <td>NaN</td>\n",
       "      <td>Descartado</td>\n",
       "      <td>Cura</td>\n",
       "      <td>2020-10-15</td>\n",
       "      <td>3814378.0</td>\n",
       "      <td>38.0</td>\n",
       "    </tr>\n",
       "    <tr>\n",
       "      <th>4</th>\n",
       "      <td>DNhpq6ZMSp</td>\n",
       "      <td>Bahia</td>\n",
       "      <td>NaN</td>\n",
       "      <td>Irecê</td>\n",
       "      <td>NaN</td>\n",
       "      <td>Não</td>\n",
       "      <td>Não</td>\n",
       "      <td>NaN</td>\n",
       "      <td>Masculino</td>\n",
       "      <td>NaN</td>\n",
       "      <td>...</td>\n",
       "      <td>NaN</td>\n",
       "      <td>Solicitado</td>\n",
       "      <td>NaN</td>\n",
       "      <td>NaN</td>\n",
       "      <td>NaN</td>\n",
       "      <td>NaN</td>\n",
       "      <td>Cancelado</td>\n",
       "      <td>NaN</td>\n",
       "      <td>NaN</td>\n",
       "      <td>52.0</td>\n",
       "    </tr>\n",
       "  </tbody>\n",
       "</table>\n",
       "<p>5 rows × 28 columns</p>\n",
       "</div>"
      ],
      "text/plain": [
       "           id estadoNotificacao estadoNotificacaoIBGE municipioNotificacao  \\\n",
       "0  aR35LpJ5Yu           Alagoas                   NaN               Maceió   \n",
       "1  wq6wsOpQAA           Alagoas                   NaN               Maceió   \n",
       "2  nBLA0EFemN           Alagoas                   NaN               Maceió   \n",
       "3  1zpeU1ElwN             Bahia                   NaN             Salvador   \n",
       "4  DNhpq6ZMSp             Bahia                   NaN                Irecê   \n",
       "\n",
       "   municipioNotificacaoIBGE profissionalSaude profissionalSeguranca  cbo  \\\n",
       "0                       NaN               Não                   Não  NaN   \n",
       "1                       NaN               Não                   Não  NaN   \n",
       "2                       NaN               Não                   Não  NaN   \n",
       "3                       NaN               Não                   Não  NaN   \n",
       "4                       NaN               Não                   Não  NaN   \n",
       "\n",
       "        sexo racaCor  ...                   condicoes           estadoTeste  \\\n",
       "0  Masculino   Parda  ...                         NaN            Solicitado   \n",
       "1   Feminino   Parda  ...  Doenças cardíacas crônicas  Exame Não Solicitado   \n",
       "2  Masculino   Parda  ...                         NaN             Concluído   \n",
       "3   Feminino     NaN  ...                         NaN            Solicitado   \n",
       "4  Masculino     NaN  ...                         NaN            Solicitado   \n",
       "\n",
       "    dataTeste                 tipoTeste resultadoTeste classificacaoFinal  \\\n",
       "0         NaN                       NaN            NaN                NaN   \n",
       "1         NaN                       NaN            NaN                NaN   \n",
       "2  2020-06-05  TESTE RÁPIDO - ANTICORPO       Negativo                NaN   \n",
       "3         NaN                    RT-PCR            NaN         Descartado   \n",
       "4         NaN                       NaN            NaN                NaN   \n",
       "\n",
       "  evolucaoCaso dataEncerramento       cnes idade  \n",
       "0          NaN              NaN  2005808.0  66.0  \n",
       "1          NaN              NaN  2005727.0  29.0  \n",
       "2          NaN              NaN  2005808.0  66.0  \n",
       "3         Cura       2020-10-15  3814378.0  38.0  \n",
       "4    Cancelado              NaN        NaN  52.0  \n",
       "\n",
       "[5 rows x 28 columns]"
      ]
     },
     "execution_count": 5,
     "metadata": {},
     "output_type": "execute_result"
    }
   ],
   "source": [
    "df.head()"
   ]
  },
  {
   "cell_type": "code",
   "execution_count": 28,
   "metadata": {},
   "outputs": [],
   "source": [
    "df['ones'] = 1"
   ]
  },
  {
   "cell_type": "code",
   "execution_count": 7,
   "metadata": {},
   "outputs": [
    {
     "data": {
      "text/plain": [
       "Index(['id', 'estadoNotificacao', 'estadoNotificacaoIBGE',\n",
       "       'municipioNotificacao', 'municipioNotificacaoIBGE', 'profissionalSaude',\n",
       "       'profissionalSeguranca', 'cbo', 'sexo', 'racaCor', 'estado',\n",
       "       'estadoIBGE', 'municipio', 'municipioIBGE', 'dataNotificacao',\n",
       "       'sintomas', 'outrosSintomas', 'dataInicioSintomas', 'condicoes',\n",
       "       'estadoTeste', 'dataTeste', 'tipoTeste', 'resultadoTeste',\n",
       "       'classificacaoFinal', 'evolucaoCaso', 'dataEncerramento', 'cnes',\n",
       "       'idade'],\n",
       "      dtype='object')"
      ]
     },
     "execution_count": 7,
     "metadata": {},
     "output_type": "execute_result"
    }
   ],
   "source": [
    "df.columns"
   ]
  },
  {
   "cell_type": "code",
   "execution_count": 20,
   "metadata": {},
   "outputs": [
    {
     "name": "stdout",
     "output_type": "stream",
     "text": [
      "<class 'pandas.core.frame.DataFrame'>\n",
      "RangeIndex: 32855 entries, 0 to 32854\n",
      "Data columns (total 28 columns):\n",
      " #   Column                    Non-Null Count  Dtype  \n",
      "---  ------                    --------------  -----  \n",
      " 0   id                        32855 non-null  object \n",
      " 1   estadoNotificacao         32855 non-null  object \n",
      " 2   estadoNotificacaoIBGE     1805 non-null   object \n",
      " 3   municipioNotificacao      32847 non-null  object \n",
      " 4   municipioNotificacaoIBGE  1805 non-null   float64\n",
      " 5   profissionalSaude         32848 non-null  object \n",
      " 6   profissionalSeguranca     32663 non-null  object \n",
      " 7   cbo                       2763 non-null   object \n",
      " 8   sexo                      32855 non-null  object \n",
      " 9   racaCor                   32517 non-null  object \n",
      " 10  estado                    32849 non-null  object \n",
      " 11  estadoIBGE                14317 non-null  object \n",
      " 12  municipio                 32855 non-null  object \n",
      " 13  municipioIBGE             32855 non-null  int64  \n",
      " 14  dataNotificacao           32842 non-null  object \n",
      " 15  sintomas                  32848 non-null  object \n",
      " 16  outrosSintomas            14848 non-null  object \n",
      " 17  dataInicioSintomas        32465 non-null  object \n",
      " 18  condicoes                 1348 non-null   object \n",
      " 19  estadoTeste               31043 non-null  object \n",
      " 20  dataTeste                 29317 non-null  object \n",
      " 21  tipoTeste                 29946 non-null  object \n",
      " 22  resultadoTeste            28800 non-null  object \n",
      " 23  classificacaoFinal        30488 non-null  object \n",
      " 24  evolucaoCaso              30863 non-null  object \n",
      " 25  dataEncerramento          30453 non-null  object \n",
      " 26  cnes                      22599 non-null  float64\n",
      " 27  idade                     32854 non-null  float64\n",
      "dtypes: float64(3), int64(1), object(24)\n",
      "memory usage: 7.0+ MB\n"
     ]
    }
   ],
   "source": [
    "df.info()"
   ]
  },
  {
   "cell_type": "code",
   "execution_count": 11,
   "metadata": {
    "scrolled": true
   },
   "outputs": [
    {
     "data": {
      "text/html": [
       "<div>\n",
       "<style scoped>\n",
       "    .dataframe tbody tr th:only-of-type {\n",
       "        vertical-align: middle;\n",
       "    }\n",
       "\n",
       "    .dataframe tbody tr th {\n",
       "        vertical-align: top;\n",
       "    }\n",
       "\n",
       "    .dataframe thead th {\n",
       "        text-align: right;\n",
       "    }\n",
       "</style>\n",
       "<table border=\"1\" class=\"dataframe\">\n",
       "  <thead>\n",
       "    <tr style=\"text-align: right;\">\n",
       "      <th></th>\n",
       "      <th>estado</th>\n",
       "      <th>estadoIBGE</th>\n",
       "      <th>municipio</th>\n",
       "      <th>municipioIBGE</th>\n",
       "    </tr>\n",
       "  </thead>\n",
       "  <tbody>\n",
       "    <tr>\n",
       "      <th>0</th>\n",
       "      <td>Bahia</td>\n",
       "      <td>NaN</td>\n",
       "      <td>Irecê</td>\n",
       "      <td>2914604</td>\n",
       "    </tr>\n",
       "    <tr>\n",
       "      <th>1</th>\n",
       "      <td>Bahia</td>\n",
       "      <td>NaN</td>\n",
       "      <td>Irecê</td>\n",
       "      <td>2914604</td>\n",
       "    </tr>\n",
       "    <tr>\n",
       "      <th>2</th>\n",
       "      <td>Bahia</td>\n",
       "      <td>NaN</td>\n",
       "      <td>Irecê</td>\n",
       "      <td>2914604</td>\n",
       "    </tr>\n",
       "    <tr>\n",
       "      <th>3</th>\n",
       "      <td>Bahia</td>\n",
       "      <td>NaN</td>\n",
       "      <td>Irecê</td>\n",
       "      <td>2914604</td>\n",
       "    </tr>\n",
       "    <tr>\n",
       "      <th>4</th>\n",
       "      <td>Bahia</td>\n",
       "      <td>NaN</td>\n",
       "      <td>Irecê</td>\n",
       "      <td>2914604</td>\n",
       "    </tr>\n",
       "  </tbody>\n",
       "</table>\n",
       "</div>"
      ],
      "text/plain": [
       "  estado estadoIBGE municipio  municipioIBGE\n",
       "0  Bahia        NaN     Irecê        2914604\n",
       "1  Bahia        NaN     Irecê        2914604\n",
       "2  Bahia        NaN     Irecê        2914604\n",
       "3  Bahia        NaN     Irecê        2914604\n",
       "4  Bahia        NaN     Irecê        2914604"
      ]
     },
     "execution_count": 11,
     "metadata": {},
     "output_type": "execute_result"
    }
   ],
   "source": [
    "df.filter(['estado','estadoIBGE', 'municipio', 'municipioIBGE']).head()"
   ]
  },
  {
   "cell_type": "markdown",
   "metadata": {},
   "source": [
    "## Contagens de casos "
   ]
  },
  {
   "cell_type": "code",
   "execution_count": 13,
   "metadata": {
    "scrolled": true
   },
   "outputs": [
    {
     "data": {
      "text/html": [
       "<div>\n",
       "<style scoped>\n",
       "    .dataframe tbody tr th:only-of-type {\n",
       "        vertical-align: middle;\n",
       "    }\n",
       "\n",
       "    .dataframe tbody tr th {\n",
       "        vertical-align: top;\n",
       "    }\n",
       "\n",
       "    .dataframe thead th {\n",
       "        text-align: right;\n",
       "    }\n",
       "</style>\n",
       "<table border=\"1\" class=\"dataframe\">\n",
       "  <thead>\n",
       "    <tr style=\"text-align: right;\">\n",
       "      <th></th>\n",
       "      <th>estadoTeste</th>\n",
       "      <th>dataTeste</th>\n",
       "      <th>tipoTeste</th>\n",
       "      <th>resultadoTeste</th>\n",
       "      <th>classificacaoFinal</th>\n",
       "      <th>evolucaoCaso</th>\n",
       "    </tr>\n",
       "  </thead>\n",
       "  <tbody>\n",
       "    <tr>\n",
       "      <th>0</th>\n",
       "      <td>Solicitado</td>\n",
       "      <td>NaN</td>\n",
       "      <td>NaN</td>\n",
       "      <td>NaN</td>\n",
       "      <td>NaN</td>\n",
       "      <td>NaN</td>\n",
       "    </tr>\n",
       "    <tr>\n",
       "      <th>1</th>\n",
       "      <td>Exame Não Solicitado</td>\n",
       "      <td>NaN</td>\n",
       "      <td>NaN</td>\n",
       "      <td>NaN</td>\n",
       "      <td>NaN</td>\n",
       "      <td>NaN</td>\n",
       "    </tr>\n",
       "    <tr>\n",
       "      <th>2</th>\n",
       "      <td>Concluído</td>\n",
       "      <td>2020-06-05</td>\n",
       "      <td>TESTE RÁPIDO - ANTICORPO</td>\n",
       "      <td>Negativo</td>\n",
       "      <td>NaN</td>\n",
       "      <td>NaN</td>\n",
       "    </tr>\n",
       "    <tr>\n",
       "      <th>3</th>\n",
       "      <td>Solicitado</td>\n",
       "      <td>NaN</td>\n",
       "      <td>RT-PCR</td>\n",
       "      <td>NaN</td>\n",
       "      <td>Descartado</td>\n",
       "      <td>Cura</td>\n",
       "    </tr>\n",
       "    <tr>\n",
       "      <th>4</th>\n",
       "      <td>Solicitado</td>\n",
       "      <td>NaN</td>\n",
       "      <td>NaN</td>\n",
       "      <td>NaN</td>\n",
       "      <td>NaN</td>\n",
       "      <td>Cancelado</td>\n",
       "    </tr>\n",
       "    <tr>\n",
       "      <th>...</th>\n",
       "      <td>...</td>\n",
       "      <td>...</td>\n",
       "      <td>...</td>\n",
       "      <td>...</td>\n",
       "      <td>...</td>\n",
       "      <td>...</td>\n",
       "    </tr>\n",
       "    <tr>\n",
       "      <th>32850</th>\n",
       "      <td>NaN</td>\n",
       "      <td>NaN</td>\n",
       "      <td>NaN</td>\n",
       "      <td>NaN</td>\n",
       "      <td>Descartado</td>\n",
       "      <td>Cura</td>\n",
       "    </tr>\n",
       "    <tr>\n",
       "      <th>32851</th>\n",
       "      <td>NaN</td>\n",
       "      <td>NaN</td>\n",
       "      <td>NaN</td>\n",
       "      <td>NaN</td>\n",
       "      <td>Descartado</td>\n",
       "      <td>Internado</td>\n",
       "    </tr>\n",
       "    <tr>\n",
       "      <th>32852</th>\n",
       "      <td>NaN</td>\n",
       "      <td>NaN</td>\n",
       "      <td>NaN</td>\n",
       "      <td>NaN</td>\n",
       "      <td>Descartado</td>\n",
       "      <td>Internado</td>\n",
       "    </tr>\n",
       "    <tr>\n",
       "      <th>32853</th>\n",
       "      <td>NaN</td>\n",
       "      <td>NaN</td>\n",
       "      <td>NaN</td>\n",
       "      <td>NaN</td>\n",
       "      <td>NaN</td>\n",
       "      <td>NaN</td>\n",
       "    </tr>\n",
       "    <tr>\n",
       "      <th>32854</th>\n",
       "      <td>NaN</td>\n",
       "      <td>NaN</td>\n",
       "      <td>NaN</td>\n",
       "      <td>NaN</td>\n",
       "      <td>Confirmado Laboratorial</td>\n",
       "      <td>Em tratamento domiciliar</td>\n",
       "    </tr>\n",
       "  </tbody>\n",
       "</table>\n",
       "<p>32855 rows × 6 columns</p>\n",
       "</div>"
      ],
      "text/plain": [
       "                estadoTeste   dataTeste                 tipoTeste  \\\n",
       "0                Solicitado         NaN                       NaN   \n",
       "1      Exame Não Solicitado         NaN                       NaN   \n",
       "2                 Concluído  2020-06-05  TESTE RÁPIDO - ANTICORPO   \n",
       "3                Solicitado         NaN                    RT-PCR   \n",
       "4                Solicitado         NaN                       NaN   \n",
       "...                     ...         ...                       ...   \n",
       "32850                   NaN         NaN                       NaN   \n",
       "32851                   NaN         NaN                       NaN   \n",
       "32852                   NaN         NaN                       NaN   \n",
       "32853                   NaN         NaN                       NaN   \n",
       "32854                   NaN         NaN                       NaN   \n",
       "\n",
       "      resultadoTeste       classificacaoFinal              evolucaoCaso  \n",
       "0                NaN                      NaN                       NaN  \n",
       "1                NaN                      NaN                       NaN  \n",
       "2           Negativo                      NaN                       NaN  \n",
       "3                NaN               Descartado                      Cura  \n",
       "4                NaN                      NaN                 Cancelado  \n",
       "...              ...                      ...                       ...  \n",
       "32850            NaN               Descartado                      Cura  \n",
       "32851            NaN               Descartado                 Internado  \n",
       "32852            NaN               Descartado                 Internado  \n",
       "32853            NaN                      NaN                       NaN  \n",
       "32854            NaN  Confirmado Laboratorial  Em tratamento domiciliar  \n",
       "\n",
       "[32855 rows x 6 columns]"
      ]
     },
     "execution_count": 13,
     "metadata": {},
     "output_type": "execute_result"
    }
   ],
   "source": [
    "df.filter(['estadoTeste', 'dataTeste', 'tipoTeste', 'resultadoTeste',\n",
    "       'classificacaoFinal', 'evolucaoCaso',])"
   ]
  },
  {
   "cell_type": "markdown",
   "metadata": {},
   "source": [
    "### Padronização"
   ]
  },
  {
   "cell_type": "code",
   "execution_count": null,
   "metadata": {},
   "outputs": [],
   "source": [
    "df.estadoTeste=df.estadoTeste.replace({'Concluído': 0, 'Coletado': 1, 'Solicitado':2,'Exame Não Solicitado':3})\n",
    "\n",
    "df.tipoTeste=df.tipoTeste.replace({'RT-PCR': 0, 'TESTE RÁPIDO - ANTICORPO': 1, 'TESTE RÁPIDO - ANTÍGENO':2,\n",
    "                                   'Enzimaimunoensaio - ELISA IgM':3,'Quimioluminescência - CLIA':4,\n",
    "                                  'Imunoensaio por Eletroquimioluminescência - ECLIA IgG':5,\n",
    "                                  'Enzimaimunoensaio – ELISA':6})\n",
    "\n",
    "df.resultadoTeste=df.resultadoTeste.replace({'Negativo': 0, 'Positivo': 1, 'Inconclusivo ou Indeterminado':88})\n",
    "\n",
    "df.classificacaoFinal=df.classificacaoFinal.replace({'Descartado': 0, 'Confirmado Laboratorial': 1,\n",
    "                                                     'Síndrome Gripal Não Especificada':2,\n",
    "                                                     'Confirmado Clínico-Imagem':3,\n",
    "                                                    'Confirmado Clínico-Epidemiológico':4,\n",
    "                                                    'Confirmado por Critério Clínico':5})\n",
    "\n",
    "df.estadoTeste=df.estadoTeste.fillna(99)\n",
    "df.tipoTeste=df.tipoTeste.fillna(99)"
   ]
  },
  {
   "cell_type": "code",
   "execution_count": 15,
   "metadata": {
    "scrolled": true
   },
   "outputs": [
    {
     "data": {
      "text/plain": [
       "Concluído               28910\n",
       "Coletado                  802\n",
       "Solicitado                712\n",
       "Exame Não Solicitado      619\n",
       "Name: estadoTeste, dtype: int64"
      ]
     },
     "execution_count": 15,
     "metadata": {},
     "output_type": "execute_result"
    }
   ],
   "source": [
    "df.estadoTeste.value_counts()"
   ]
  },
  {
   "cell_type": "code",
   "execution_count": null,
   "metadata": {},
   "outputs": [],
   "source": []
  },
  {
   "cell_type": "code",
   "execution_count": null,
   "metadata": {},
   "outputs": [],
   "source": []
  },
  {
   "cell_type": "code",
   "execution_count": 41,
   "metadata": {
    "scrolled": true
   },
   "outputs": [
    {
     "data": {
      "text/plain": [
       "0.0     28910\n",
       "99.0     1812\n",
       "1.0       802\n",
       "2.0       712\n",
       "3.0       619\n",
       "Name: estadoTeste, dtype: int64"
      ]
     },
     "execution_count": 41,
     "metadata": {},
     "output_type": "execute_result"
    }
   ],
   "source": [
    "df.estadoTeste.value_counts()"
   ]
  },
  {
   "cell_type": "code",
   "execution_count": 22,
   "metadata": {
    "scrolled": false
   },
   "outputs": [
    {
     "data": {
      "text/plain": [
       "RT-PCR                                                   19034\n",
       "TESTE RÁPIDO - ANTICORPO                                  6847\n",
       "TESTE RÁPIDO - ANTÍGENO                                   4038\n",
       "Enzimaimunoensaio - ELISA IgM                               10\n",
       "Quimioluminescência - CLIA                                   9\n",
       "Imunoensaio por Eletroquimioluminescência - ECLIA IgG        7\n",
       "Enzimaimunoensaio – ELISA                                    1\n",
       "Name: tipoTeste, dtype: int64"
      ]
     },
     "execution_count": 22,
     "metadata": {},
     "output_type": "execute_result"
    }
   ],
   "source": [
    "df.tipoTeste.value_counts() # 2909 nulos"
   ]
  },
  {
   "cell_type": "code",
   "execution_count": 43,
   "metadata": {},
   "outputs": [],
   "source": []
  },
  {
   "cell_type": "code",
   "execution_count": 44,
   "metadata": {},
   "outputs": [],
   "source": []
  },
  {
   "cell_type": "code",
   "execution_count": 45,
   "metadata": {},
   "outputs": [
    {
     "data": {
      "text/plain": [
       "0.0     19034\n",
       "1.0      6847\n",
       "2.0      4038\n",
       "99.0     2909\n",
       "3.0        10\n",
       "4.0         9\n",
       "5.0         7\n",
       "6.0         1\n",
       "Name: tipoTeste, dtype: int64"
      ]
     },
     "execution_count": 45,
     "metadata": {},
     "output_type": "execute_result"
    }
   ],
   "source": [
    "df.tipoTeste.value_counts()"
   ]
  },
  {
   "cell_type": "code",
   "execution_count": 24,
   "metadata": {
    "scrolled": true
   },
   "outputs": [
    {
     "data": {
      "text/plain": [
       "Negativo                         19251\n",
       "Positivo                          9464\n",
       "Inconclusivo ou Indeterminado       85\n",
       "Name: resultadoTeste, dtype: int64"
      ]
     },
     "execution_count": 24,
     "metadata": {},
     "output_type": "execute_result"
    }
   ],
   "source": [
    "df.resultadoTeste.value_counts()"
   ]
  },
  {
   "cell_type": "code",
   "execution_count": 47,
   "metadata": {},
   "outputs": [],
   "source": []
  },
  {
   "cell_type": "code",
   "execution_count": 48,
   "metadata": {},
   "outputs": [],
   "source": []
  },
  {
   "cell_type": "code",
   "execution_count": 50,
   "metadata": {
    "scrolled": true
   },
   "outputs": [
    {
     "data": {
      "text/plain": [
       "0.0     19251\n",
       "1.0      9464\n",
       "99.0     4055\n",
       "88.0       85\n",
       "Name: resultadoTeste, dtype: int64"
      ]
     },
     "execution_count": 50,
     "metadata": {},
     "output_type": "execute_result"
    }
   ],
   "source": [
    "df.resultadoTeste.value_counts()"
   ]
  },
  {
   "cell_type": "code",
   "execution_count": 55,
   "metadata": {},
   "outputs": [
    {
     "data": {
      "text/plain": [
       "Descartado                           19473\n",
       "Confirmado Laboratorial               9462\n",
       "Síndrome Gripal Não Especificada      1532\n",
       "Confirmado Clínico-Imagem               11\n",
       "Confirmado Clínico-Epidemiológico        7\n",
       "Confirmado por Critério Clínico          3\n",
       "Name: classificacaoFinal, dtype: int64"
      ]
     },
     "execution_count": 55,
     "metadata": {},
     "output_type": "execute_result"
    }
   ],
   "source": [
    "df.classificacaoFinal.value_counts()"
   ]
  },
  {
   "cell_type": "code",
   "execution_count": 56,
   "metadata": {},
   "outputs": [],
   "source": []
  },
  {
   "cell_type": "code",
   "execution_count": 57,
   "metadata": {},
   "outputs": [],
   "source": [
    "df.classificacaoFinal=df.classificacaoFinal.fillna(99)"
   ]
  },
  {
   "cell_type": "code",
   "execution_count": 58,
   "metadata": {
    "scrolled": true
   },
   "outputs": [
    {
     "data": {
      "text/plain": [
       "0.0     19473\n",
       "1.0      9462\n",
       "99.0     2367\n",
       "2.0      1532\n",
       "3.0        11\n",
       "4.0         7\n",
       "5.0         3\n",
       "Name: classificacaoFinal, dtype: int64"
      ]
     },
     "execution_count": 58,
     "metadata": {},
     "output_type": "execute_result"
    }
   ],
   "source": [
    "df.classificacaoFinal.value_counts()"
   ]
  },
  {
   "cell_type": "code",
   "execution_count": 61,
   "metadata": {},
   "outputs": [
    {
     "data": {
      "text/plain": [
       "Cura                        29354\n",
       "Cancelado                     657\n",
       "Em tratamento domiciliar      449\n",
       "Óbito                         179\n",
       "Ignorado                      140\n",
       "Internado                      79\n",
       "Internado em UTI                5\n",
       "Name: evolucaoCaso, dtype: int64"
      ]
     },
     "execution_count": 61,
     "metadata": {},
     "output_type": "execute_result"
    }
   ],
   "source": [
    "df.evolucaoCaso.value_counts()"
   ]
  },
  {
   "cell_type": "code",
   "execution_count": 59,
   "metadata": {},
   "outputs": [
    {
     "data": {
      "text/html": [
       "<div>\n",
       "<style scoped>\n",
       "    .dataframe tbody tr th:only-of-type {\n",
       "        vertical-align: middle;\n",
       "    }\n",
       "\n",
       "    .dataframe tbody tr th {\n",
       "        vertical-align: top;\n",
       "    }\n",
       "\n",
       "    .dataframe thead th {\n",
       "        text-align: right;\n",
       "    }\n",
       "</style>\n",
       "<table border=\"1\" class=\"dataframe\">\n",
       "  <thead>\n",
       "    <tr style=\"text-align: right;\">\n",
       "      <th></th>\n",
       "      <th>tipoTeste</th>\n",
       "      <th>estadoTeste</th>\n",
       "      <th>resultadoTeste</th>\n",
       "      <th>classificacaoFinal</th>\n",
       "      <th>ones</th>\n",
       "    </tr>\n",
       "  </thead>\n",
       "  <tbody>\n",
       "    <tr>\n",
       "      <th>0</th>\n",
       "      <td>0.0</td>\n",
       "      <td>0.0</td>\n",
       "      <td>0.0</td>\n",
       "      <td>0.0</td>\n",
       "      <td>10576</td>\n",
       "    </tr>\n",
       "    <tr>\n",
       "      <th>1</th>\n",
       "      <td>0.0</td>\n",
       "      <td>0.0</td>\n",
       "      <td>0.0</td>\n",
       "      <td>1.0</td>\n",
       "      <td>68</td>\n",
       "    </tr>\n",
       "    <tr>\n",
       "      <th>2</th>\n",
       "      <td>0.0</td>\n",
       "      <td>0.0</td>\n",
       "      <td>0.0</td>\n",
       "      <td>2.0</td>\n",
       "      <td>701</td>\n",
       "    </tr>\n",
       "    <tr>\n",
       "      <th>3</th>\n",
       "      <td>0.0</td>\n",
       "      <td>0.0</td>\n",
       "      <td>0.0</td>\n",
       "      <td>3.0</td>\n",
       "      <td>8</td>\n",
       "    </tr>\n",
       "    <tr>\n",
       "      <th>4</th>\n",
       "      <td>0.0</td>\n",
       "      <td>0.0</td>\n",
       "      <td>0.0</td>\n",
       "      <td>4.0</td>\n",
       "      <td>3</td>\n",
       "    </tr>\n",
       "    <tr>\n",
       "      <th>...</th>\n",
       "      <td>...</td>\n",
       "      <td>...</td>\n",
       "      <td>...</td>\n",
       "      <td>...</td>\n",
       "      <td>...</td>\n",
       "    </tr>\n",
       "    <tr>\n",
       "      <th>90</th>\n",
       "      <td>99.0</td>\n",
       "      <td>99.0</td>\n",
       "      <td>99.0</td>\n",
       "      <td>0.0</td>\n",
       "      <td>1403</td>\n",
       "    </tr>\n",
       "    <tr>\n",
       "      <th>91</th>\n",
       "      <td>99.0</td>\n",
       "      <td>99.0</td>\n",
       "      <td>99.0</td>\n",
       "      <td>1.0</td>\n",
       "      <td>202</td>\n",
       "    </tr>\n",
       "    <tr>\n",
       "      <th>92</th>\n",
       "      <td>99.0</td>\n",
       "      <td>99.0</td>\n",
       "      <td>99.0</td>\n",
       "      <td>2.0</td>\n",
       "      <td>5</td>\n",
       "    </tr>\n",
       "    <tr>\n",
       "      <th>93</th>\n",
       "      <td>99.0</td>\n",
       "      <td>99.0</td>\n",
       "      <td>99.0</td>\n",
       "      <td>4.0</td>\n",
       "      <td>2</td>\n",
       "    </tr>\n",
       "    <tr>\n",
       "      <th>94</th>\n",
       "      <td>99.0</td>\n",
       "      <td>99.0</td>\n",
       "      <td>99.0</td>\n",
       "      <td>99.0</td>\n",
       "      <td>200</td>\n",
       "    </tr>\n",
       "  </tbody>\n",
       "</table>\n",
       "<p>95 rows × 5 columns</p>\n",
       "</div>"
      ],
      "text/plain": [
       "    tipoTeste  estadoTeste  resultadoTeste  classificacaoFinal   ones\n",
       "0         0.0          0.0             0.0                 0.0  10576\n",
       "1         0.0          0.0             0.0                 1.0     68\n",
       "2         0.0          0.0             0.0                 2.0    701\n",
       "3         0.0          0.0             0.0                 3.0      8\n",
       "4         0.0          0.0             0.0                 4.0      3\n",
       "..        ...          ...             ...                 ...    ...\n",
       "90       99.0         99.0            99.0                 0.0   1403\n",
       "91       99.0         99.0            99.0                 1.0    202\n",
       "92       99.0         99.0            99.0                 2.0      5\n",
       "93       99.0         99.0            99.0                 4.0      2\n",
       "94       99.0         99.0            99.0                99.0    200\n",
       "\n",
       "[95 rows x 5 columns]"
      ]
     },
     "execution_count": 59,
     "metadata": {},
     "output_type": "execute_result"
    }
   ],
   "source": [
    "df.groupby(['tipoTeste','estadoTeste','resultadoTeste','classificacaoFinal'])['ones'].count().reset_index()"
   ]
  },
  {
   "cell_type": "code",
   "execution_count": 51,
   "metadata": {},
   "outputs": [
    {
     "data": {
      "text/plain": [
       "29946"
      ]
     },
     "execution_count": 51,
     "metadata": {},
     "output_type": "execute_result"
    }
   ],
   "source": [
    "32855 -2909"
   ]
  },
  {
   "cell_type": "code",
   "execution_count": 52,
   "metadata": {},
   "outputs": [
    {
     "data": {
      "text/plain": [
       "91.14594430071526"
      ]
     },
     "execution_count": 52,
     "metadata": {},
     "output_type": "execute_result"
    }
   ],
   "source": [
    "29946*100/32855 # realizaram teste laboratórial"
   ]
  },
  {
   "cell_type": "code",
   "execution_count": 53,
   "metadata": {},
   "outputs": [
    {
     "data": {
      "text/plain": [
       "31.603553062178587"
      ]
     },
     "execution_count": 53,
     "metadata": {},
     "output_type": "execute_result"
    }
   ],
   "source": [
    "9464*100/29946"
   ]
  },
  {
   "cell_type": "code",
   "execution_count": 54,
   "metadata": {},
   "outputs": [
    {
     "data": {
      "text/plain": [
       "28.80535687110029"
      ]
     },
     "execution_count": 54,
     "metadata": {},
     "output_type": "execute_result"
    }
   ],
   "source": [
    "9464*100/32855"
   ]
  },
  {
   "cell_type": "code",
   "execution_count": null,
   "metadata": {},
   "outputs": [],
   "source": []
  }
 ],
 "metadata": {
  "kernelspec": {
   "display_name": "Python 3",
   "language": "python",
   "name": "python3"
  },
  "language_info": {
   "codemirror_mode": {
    "name": "ipython",
    "version": 3
   },
   "file_extension": ".py",
   "mimetype": "text/x-python",
   "name": "python",
   "nbconvert_exporter": "python",
   "pygments_lexer": "ipython3",
   "version": "3.8.5"
  }
 },
 "nbformat": 4,
 "nbformat_minor": 4
}
