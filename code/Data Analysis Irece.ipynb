{
 "cells": [
  {
   "cell_type": "code",
   "execution_count": 1,
   "metadata": {},
   "outputs": [],
   "source": [
    "import pandas as pd"
   ]
  },
  {
   "cell_type": "markdown",
   "metadata": {},
   "source": [
    "# Data from SG"
   ]
  },
  {
   "cell_type": "code",
   "execution_count": 2,
   "metadata": {},
   "outputs": [],
   "source": [
    "df = pd.read_csv('/Users/julianeoliveira/Desktop/github/Datasets from the gitcomputations/Irece/sg_irece.csv',low_memory=False)"
   ]
  },
  {
   "cell_type": "code",
   "execution_count": 3,
   "metadata": {},
   "outputs": [
    {
     "data": {
      "text/html": [
       "<div>\n",
       "<style scoped>\n",
       "    .dataframe tbody tr th:only-of-type {\n",
       "        vertical-align: middle;\n",
       "    }\n",
       "\n",
       "    .dataframe tbody tr th {\n",
       "        vertical-align: top;\n",
       "    }\n",
       "\n",
       "    .dataframe thead th {\n",
       "        text-align: right;\n",
       "    }\n",
       "</style>\n",
       "<table border=\"1\" class=\"dataframe\">\n",
       "  <thead>\n",
       "    <tr style=\"text-align: right;\">\n",
       "      <th></th>\n",
       "      <th>id</th>\n",
       "      <th>estadoNotificacao</th>\n",
       "      <th>estadoNotificacaoIBGE</th>\n",
       "      <th>municipioNotificacao</th>\n",
       "      <th>municipioNotificacaoIBGE</th>\n",
       "      <th>profissionalSaude</th>\n",
       "      <th>profissionalSeguranca</th>\n",
       "      <th>cbo</th>\n",
       "      <th>sexo</th>\n",
       "      <th>racaCor</th>\n",
       "      <th>...</th>\n",
       "      <th>condicoes</th>\n",
       "      <th>estadoTeste</th>\n",
       "      <th>dataTeste</th>\n",
       "      <th>tipoTeste</th>\n",
       "      <th>resultadoTeste</th>\n",
       "      <th>classificacaoFinal</th>\n",
       "      <th>evolucaoCaso</th>\n",
       "      <th>dataEncerramento</th>\n",
       "      <th>cnes</th>\n",
       "      <th>idade</th>\n",
       "    </tr>\n",
       "  </thead>\n",
       "  <tbody>\n",
       "    <tr>\n",
       "      <th>0</th>\n",
       "      <td>aR35LpJ5Yu</td>\n",
       "      <td>Alagoas</td>\n",
       "      <td>NaN</td>\n",
       "      <td>Maceió</td>\n",
       "      <td>NaN</td>\n",
       "      <td>Não</td>\n",
       "      <td>Não</td>\n",
       "      <td>NaN</td>\n",
       "      <td>Masculino</td>\n",
       "      <td>Parda</td>\n",
       "      <td>...</td>\n",
       "      <td>NaN</td>\n",
       "      <td>Solicitado</td>\n",
       "      <td>NaN</td>\n",
       "      <td>NaN</td>\n",
       "      <td>NaN</td>\n",
       "      <td>NaN</td>\n",
       "      <td>NaN</td>\n",
       "      <td>NaN</td>\n",
       "      <td>2005808.0</td>\n",
       "      <td>66.0</td>\n",
       "    </tr>\n",
       "    <tr>\n",
       "      <th>1</th>\n",
       "      <td>wq6wsOpQAA</td>\n",
       "      <td>Alagoas</td>\n",
       "      <td>NaN</td>\n",
       "      <td>Maceió</td>\n",
       "      <td>NaN</td>\n",
       "      <td>Não</td>\n",
       "      <td>Não</td>\n",
       "      <td>NaN</td>\n",
       "      <td>Feminino</td>\n",
       "      <td>Parda</td>\n",
       "      <td>...</td>\n",
       "      <td>Doenças cardíacas crônicas</td>\n",
       "      <td>Exame Não Solicitado</td>\n",
       "      <td>NaN</td>\n",
       "      <td>NaN</td>\n",
       "      <td>NaN</td>\n",
       "      <td>NaN</td>\n",
       "      <td>NaN</td>\n",
       "      <td>NaN</td>\n",
       "      <td>2005727.0</td>\n",
       "      <td>29.0</td>\n",
       "    </tr>\n",
       "    <tr>\n",
       "      <th>2</th>\n",
       "      <td>nBLA0EFemN</td>\n",
       "      <td>Alagoas</td>\n",
       "      <td>NaN</td>\n",
       "      <td>Maceió</td>\n",
       "      <td>NaN</td>\n",
       "      <td>Não</td>\n",
       "      <td>Não</td>\n",
       "      <td>NaN</td>\n",
       "      <td>Masculino</td>\n",
       "      <td>Parda</td>\n",
       "      <td>...</td>\n",
       "      <td>NaN</td>\n",
       "      <td>Concluído</td>\n",
       "      <td>2020-06-05</td>\n",
       "      <td>TESTE RÁPIDO - ANTICORPO</td>\n",
       "      <td>Negativo</td>\n",
       "      <td>NaN</td>\n",
       "      <td>NaN</td>\n",
       "      <td>NaN</td>\n",
       "      <td>2005808.0</td>\n",
       "      <td>66.0</td>\n",
       "    </tr>\n",
       "    <tr>\n",
       "      <th>3</th>\n",
       "      <td>1zpeU1ElwN</td>\n",
       "      <td>Bahia</td>\n",
       "      <td>NaN</td>\n",
       "      <td>Salvador</td>\n",
       "      <td>NaN</td>\n",
       "      <td>Não</td>\n",
       "      <td>Não</td>\n",
       "      <td>NaN</td>\n",
       "      <td>Feminino</td>\n",
       "      <td>NaN</td>\n",
       "      <td>...</td>\n",
       "      <td>NaN</td>\n",
       "      <td>Solicitado</td>\n",
       "      <td>NaN</td>\n",
       "      <td>RT-PCR</td>\n",
       "      <td>NaN</td>\n",
       "      <td>Descartado</td>\n",
       "      <td>Cura</td>\n",
       "      <td>2020-10-15</td>\n",
       "      <td>3814378.0</td>\n",
       "      <td>38.0</td>\n",
       "    </tr>\n",
       "    <tr>\n",
       "      <th>4</th>\n",
       "      <td>DNhpq6ZMSp</td>\n",
       "      <td>Bahia</td>\n",
       "      <td>NaN</td>\n",
       "      <td>Irecê</td>\n",
       "      <td>NaN</td>\n",
       "      <td>Não</td>\n",
       "      <td>Não</td>\n",
       "      <td>NaN</td>\n",
       "      <td>Masculino</td>\n",
       "      <td>NaN</td>\n",
       "      <td>...</td>\n",
       "      <td>NaN</td>\n",
       "      <td>Solicitado</td>\n",
       "      <td>NaN</td>\n",
       "      <td>NaN</td>\n",
       "      <td>NaN</td>\n",
       "      <td>NaN</td>\n",
       "      <td>Cancelado</td>\n",
       "      <td>NaN</td>\n",
       "      <td>NaN</td>\n",
       "      <td>52.0</td>\n",
       "    </tr>\n",
       "  </tbody>\n",
       "</table>\n",
       "<p>5 rows × 28 columns</p>\n",
       "</div>"
      ],
      "text/plain": [
       "           id estadoNotificacao estadoNotificacaoIBGE municipioNotificacao  \\\n",
       "0  aR35LpJ5Yu           Alagoas                   NaN               Maceió   \n",
       "1  wq6wsOpQAA           Alagoas                   NaN               Maceió   \n",
       "2  nBLA0EFemN           Alagoas                   NaN               Maceió   \n",
       "3  1zpeU1ElwN             Bahia                   NaN             Salvador   \n",
       "4  DNhpq6ZMSp             Bahia                   NaN                Irecê   \n",
       "\n",
       "   municipioNotificacaoIBGE profissionalSaude profissionalSeguranca  cbo  \\\n",
       "0                       NaN               Não                   Não  NaN   \n",
       "1                       NaN               Não                   Não  NaN   \n",
       "2                       NaN               Não                   Não  NaN   \n",
       "3                       NaN               Não                   Não  NaN   \n",
       "4                       NaN               Não                   Não  NaN   \n",
       "\n",
       "        sexo racaCor  ...                   condicoes           estadoTeste  \\\n",
       "0  Masculino   Parda  ...                         NaN            Solicitado   \n",
       "1   Feminino   Parda  ...  Doenças cardíacas crônicas  Exame Não Solicitado   \n",
       "2  Masculino   Parda  ...                         NaN             Concluído   \n",
       "3   Feminino     NaN  ...                         NaN            Solicitado   \n",
       "4  Masculino     NaN  ...                         NaN            Solicitado   \n",
       "\n",
       "    dataTeste                 tipoTeste resultadoTeste classificacaoFinal  \\\n",
       "0         NaN                       NaN            NaN                NaN   \n",
       "1         NaN                       NaN            NaN                NaN   \n",
       "2  2020-06-05  TESTE RÁPIDO - ANTICORPO       Negativo                NaN   \n",
       "3         NaN                    RT-PCR            NaN         Descartado   \n",
       "4         NaN                       NaN            NaN                NaN   \n",
       "\n",
       "  evolucaoCaso dataEncerramento       cnes idade  \n",
       "0          NaN              NaN  2005808.0  66.0  \n",
       "1          NaN              NaN  2005727.0  29.0  \n",
       "2          NaN              NaN  2005808.0  66.0  \n",
       "3         Cura       2020-10-15  3814378.0  38.0  \n",
       "4    Cancelado              NaN        NaN  52.0  \n",
       "\n",
       "[5 rows x 28 columns]"
      ]
     },
     "execution_count": 3,
     "metadata": {},
     "output_type": "execute_result"
    }
   ],
   "source": [
    "df.head()"
   ]
  },
  {
   "cell_type": "code",
   "execution_count": 4,
   "metadata": {},
   "outputs": [],
   "source": [
    "df['ones'] = 1"
   ]
  },
  {
   "cell_type": "code",
   "execution_count": 5,
   "metadata": {},
   "outputs": [
    {
     "data": {
      "text/plain": [
       "Index(['id', 'estadoNotificacao', 'estadoNotificacaoIBGE',\n",
       "       'municipioNotificacao', 'municipioNotificacaoIBGE', 'profissionalSaude',\n",
       "       'profissionalSeguranca', 'cbo', 'sexo', 'racaCor', 'estado',\n",
       "       'estadoIBGE', 'municipio', 'municipioIBGE', 'dataNotificacao',\n",
       "       'sintomas', 'outrosSintomas', 'dataInicioSintomas', 'condicoes',\n",
       "       'estadoTeste', 'dataTeste', 'tipoTeste', 'resultadoTeste',\n",
       "       'classificacaoFinal', 'evolucaoCaso', 'dataEncerramento', 'cnes',\n",
       "       'idade', 'ones'],\n",
       "      dtype='object')"
      ]
     },
     "execution_count": 5,
     "metadata": {},
     "output_type": "execute_result"
    }
   ],
   "source": [
    "df.columns"
   ]
  },
  {
   "cell_type": "code",
   "execution_count": 6,
   "metadata": {},
   "outputs": [
    {
     "name": "stdout",
     "output_type": "stream",
     "text": [
      "<class 'pandas.core.frame.DataFrame'>\n",
      "RangeIndex: 32855 entries, 0 to 32854\n",
      "Data columns (total 29 columns):\n",
      " #   Column                    Non-Null Count  Dtype  \n",
      "---  ------                    --------------  -----  \n",
      " 0   id                        32855 non-null  object \n",
      " 1   estadoNotificacao         32855 non-null  object \n",
      " 2   estadoNotificacaoIBGE     1805 non-null   object \n",
      " 3   municipioNotificacao      32847 non-null  object \n",
      " 4   municipioNotificacaoIBGE  1805 non-null   float64\n",
      " 5   profissionalSaude         32848 non-null  object \n",
      " 6   profissionalSeguranca     32663 non-null  object \n",
      " 7   cbo                       2763 non-null   object \n",
      " 8   sexo                      32855 non-null  object \n",
      " 9   racaCor                   32517 non-null  object \n",
      " 10  estado                    32849 non-null  object \n",
      " 11  estadoIBGE                14317 non-null  object \n",
      " 12  municipio                 32855 non-null  object \n",
      " 13  municipioIBGE             32855 non-null  int64  \n",
      " 14  dataNotificacao           32842 non-null  object \n",
      " 15  sintomas                  32848 non-null  object \n",
      " 16  outrosSintomas            14848 non-null  object \n",
      " 17  dataInicioSintomas        32465 non-null  object \n",
      " 18  condicoes                 1348 non-null   object \n",
      " 19  estadoTeste               31043 non-null  object \n",
      " 20  dataTeste                 29317 non-null  object \n",
      " 21  tipoTeste                 29946 non-null  object \n",
      " 22  resultadoTeste            28800 non-null  object \n",
      " 23  classificacaoFinal        30488 non-null  object \n",
      " 24  evolucaoCaso              30863 non-null  object \n",
      " 25  dataEncerramento          30453 non-null  object \n",
      " 26  cnes                      22599 non-null  float64\n",
      " 27  idade                     32854 non-null  float64\n",
      " 28  ones                      32855 non-null  int64  \n",
      "dtypes: float64(3), int64(2), object(24)\n",
      "memory usage: 7.3+ MB\n"
     ]
    }
   ],
   "source": [
    "df.info()"
   ]
  },
  {
   "cell_type": "code",
   "execution_count": 7,
   "metadata": {
    "scrolled": true
   },
   "outputs": [
    {
     "data": {
      "text/html": [
       "<div>\n",
       "<style scoped>\n",
       "    .dataframe tbody tr th:only-of-type {\n",
       "        vertical-align: middle;\n",
       "    }\n",
       "\n",
       "    .dataframe tbody tr th {\n",
       "        vertical-align: top;\n",
       "    }\n",
       "\n",
       "    .dataframe thead th {\n",
       "        text-align: right;\n",
       "    }\n",
       "</style>\n",
       "<table border=\"1\" class=\"dataframe\">\n",
       "  <thead>\n",
       "    <tr style=\"text-align: right;\">\n",
       "      <th></th>\n",
       "      <th>estado</th>\n",
       "      <th>estadoIBGE</th>\n",
       "      <th>municipio</th>\n",
       "      <th>municipioIBGE</th>\n",
       "    </tr>\n",
       "  </thead>\n",
       "  <tbody>\n",
       "    <tr>\n",
       "      <th>0</th>\n",
       "      <td>Bahia</td>\n",
       "      <td>NaN</td>\n",
       "      <td>Irecê</td>\n",
       "      <td>2914604</td>\n",
       "    </tr>\n",
       "    <tr>\n",
       "      <th>1</th>\n",
       "      <td>Bahia</td>\n",
       "      <td>NaN</td>\n",
       "      <td>Irecê</td>\n",
       "      <td>2914604</td>\n",
       "    </tr>\n",
       "    <tr>\n",
       "      <th>2</th>\n",
       "      <td>Bahia</td>\n",
       "      <td>NaN</td>\n",
       "      <td>Irecê</td>\n",
       "      <td>2914604</td>\n",
       "    </tr>\n",
       "    <tr>\n",
       "      <th>3</th>\n",
       "      <td>Bahia</td>\n",
       "      <td>NaN</td>\n",
       "      <td>Irecê</td>\n",
       "      <td>2914604</td>\n",
       "    </tr>\n",
       "    <tr>\n",
       "      <th>4</th>\n",
       "      <td>Bahia</td>\n",
       "      <td>NaN</td>\n",
       "      <td>Irecê</td>\n",
       "      <td>2914604</td>\n",
       "    </tr>\n",
       "  </tbody>\n",
       "</table>\n",
       "</div>"
      ],
      "text/plain": [
       "  estado estadoIBGE municipio  municipioIBGE\n",
       "0  Bahia        NaN     Irecê        2914604\n",
       "1  Bahia        NaN     Irecê        2914604\n",
       "2  Bahia        NaN     Irecê        2914604\n",
       "3  Bahia        NaN     Irecê        2914604\n",
       "4  Bahia        NaN     Irecê        2914604"
      ]
     },
     "execution_count": 7,
     "metadata": {},
     "output_type": "execute_result"
    }
   ],
   "source": [
    "df.filter(['estado','estadoIBGE', 'municipio', 'municipioIBGE']).head()"
   ]
  },
  {
   "cell_type": "markdown",
   "metadata": {},
   "source": [
    "## Contagens de casos "
   ]
  },
  {
   "cell_type": "code",
   "execution_count": 8,
   "metadata": {
    "scrolled": false
   },
   "outputs": [
    {
     "data": {
      "text/html": [
       "<div>\n",
       "<style scoped>\n",
       "    .dataframe tbody tr th:only-of-type {\n",
       "        vertical-align: middle;\n",
       "    }\n",
       "\n",
       "    .dataframe tbody tr th {\n",
       "        vertical-align: top;\n",
       "    }\n",
       "\n",
       "    .dataframe thead th {\n",
       "        text-align: right;\n",
       "    }\n",
       "</style>\n",
       "<table border=\"1\" class=\"dataframe\">\n",
       "  <thead>\n",
       "    <tr style=\"text-align: right;\">\n",
       "      <th></th>\n",
       "      <th>estadoTeste</th>\n",
       "      <th>dataTeste</th>\n",
       "      <th>tipoTeste</th>\n",
       "      <th>resultadoTeste</th>\n",
       "      <th>classificacaoFinal</th>\n",
       "      <th>evolucaoCaso</th>\n",
       "    </tr>\n",
       "  </thead>\n",
       "  <tbody>\n",
       "    <tr>\n",
       "      <th>0</th>\n",
       "      <td>Solicitado</td>\n",
       "      <td>NaN</td>\n",
       "      <td>NaN</td>\n",
       "      <td>NaN</td>\n",
       "      <td>NaN</td>\n",
       "      <td>NaN</td>\n",
       "    </tr>\n",
       "    <tr>\n",
       "      <th>1</th>\n",
       "      <td>Exame Não Solicitado</td>\n",
       "      <td>NaN</td>\n",
       "      <td>NaN</td>\n",
       "      <td>NaN</td>\n",
       "      <td>NaN</td>\n",
       "      <td>NaN</td>\n",
       "    </tr>\n",
       "    <tr>\n",
       "      <th>2</th>\n",
       "      <td>Concluído</td>\n",
       "      <td>2020-06-05</td>\n",
       "      <td>TESTE RÁPIDO - ANTICORPO</td>\n",
       "      <td>Negativo</td>\n",
       "      <td>NaN</td>\n",
       "      <td>NaN</td>\n",
       "    </tr>\n",
       "    <tr>\n",
       "      <th>3</th>\n",
       "      <td>Solicitado</td>\n",
       "      <td>NaN</td>\n",
       "      <td>RT-PCR</td>\n",
       "      <td>NaN</td>\n",
       "      <td>Descartado</td>\n",
       "      <td>Cura</td>\n",
       "    </tr>\n",
       "    <tr>\n",
       "      <th>4</th>\n",
       "      <td>Solicitado</td>\n",
       "      <td>NaN</td>\n",
       "      <td>NaN</td>\n",
       "      <td>NaN</td>\n",
       "      <td>NaN</td>\n",
       "      <td>Cancelado</td>\n",
       "    </tr>\n",
       "    <tr>\n",
       "      <th>...</th>\n",
       "      <td>...</td>\n",
       "      <td>...</td>\n",
       "      <td>...</td>\n",
       "      <td>...</td>\n",
       "      <td>...</td>\n",
       "      <td>...</td>\n",
       "    </tr>\n",
       "    <tr>\n",
       "      <th>32850</th>\n",
       "      <td>NaN</td>\n",
       "      <td>NaN</td>\n",
       "      <td>NaN</td>\n",
       "      <td>NaN</td>\n",
       "      <td>Descartado</td>\n",
       "      <td>Cura</td>\n",
       "    </tr>\n",
       "    <tr>\n",
       "      <th>32851</th>\n",
       "      <td>NaN</td>\n",
       "      <td>NaN</td>\n",
       "      <td>NaN</td>\n",
       "      <td>NaN</td>\n",
       "      <td>Descartado</td>\n",
       "      <td>Internado</td>\n",
       "    </tr>\n",
       "    <tr>\n",
       "      <th>32852</th>\n",
       "      <td>NaN</td>\n",
       "      <td>NaN</td>\n",
       "      <td>NaN</td>\n",
       "      <td>NaN</td>\n",
       "      <td>Descartado</td>\n",
       "      <td>Internado</td>\n",
       "    </tr>\n",
       "    <tr>\n",
       "      <th>32853</th>\n",
       "      <td>NaN</td>\n",
       "      <td>NaN</td>\n",
       "      <td>NaN</td>\n",
       "      <td>NaN</td>\n",
       "      <td>NaN</td>\n",
       "      <td>NaN</td>\n",
       "    </tr>\n",
       "    <tr>\n",
       "      <th>32854</th>\n",
       "      <td>NaN</td>\n",
       "      <td>NaN</td>\n",
       "      <td>NaN</td>\n",
       "      <td>NaN</td>\n",
       "      <td>Confirmado Laboratorial</td>\n",
       "      <td>Em tratamento domiciliar</td>\n",
       "    </tr>\n",
       "  </tbody>\n",
       "</table>\n",
       "<p>32855 rows × 6 columns</p>\n",
       "</div>"
      ],
      "text/plain": [
       "                estadoTeste   dataTeste                 tipoTeste  \\\n",
       "0                Solicitado         NaN                       NaN   \n",
       "1      Exame Não Solicitado         NaN                       NaN   \n",
       "2                 Concluído  2020-06-05  TESTE RÁPIDO - ANTICORPO   \n",
       "3                Solicitado         NaN                    RT-PCR   \n",
       "4                Solicitado         NaN                       NaN   \n",
       "...                     ...         ...                       ...   \n",
       "32850                   NaN         NaN                       NaN   \n",
       "32851                   NaN         NaN                       NaN   \n",
       "32852                   NaN         NaN                       NaN   \n",
       "32853                   NaN         NaN                       NaN   \n",
       "32854                   NaN         NaN                       NaN   \n",
       "\n",
       "      resultadoTeste       classificacaoFinal              evolucaoCaso  \n",
       "0                NaN                      NaN                       NaN  \n",
       "1                NaN                      NaN                       NaN  \n",
       "2           Negativo                      NaN                       NaN  \n",
       "3                NaN               Descartado                      Cura  \n",
       "4                NaN                      NaN                 Cancelado  \n",
       "...              ...                      ...                       ...  \n",
       "32850            NaN               Descartado                      Cura  \n",
       "32851            NaN               Descartado                 Internado  \n",
       "32852            NaN               Descartado                 Internado  \n",
       "32853            NaN                      NaN                       NaN  \n",
       "32854            NaN  Confirmado Laboratorial  Em tratamento domiciliar  \n",
       "\n",
       "[32855 rows x 6 columns]"
      ]
     },
     "execution_count": 8,
     "metadata": {},
     "output_type": "execute_result"
    }
   ],
   "source": [
    "df.filter(['estadoTeste', 'dataTeste', 'tipoTeste', 'resultadoTeste',\n",
    "       'classificacaoFinal', 'evolucaoCaso',])"
   ]
  },
  {
   "cell_type": "markdown",
   "metadata": {},
   "source": [
    "### Padronização"
   ]
  },
  {
   "cell_type": "code",
   "execution_count": 9,
   "metadata": {},
   "outputs": [],
   "source": [
    "df.estadoTeste=df.estadoTeste.replace({'Concluído': 0, 'Coletado': 1, 'Solicitado':2,'Exame Não Solicitado':3})\n",
    "\n",
    "df.tipoTeste=df.tipoTeste.replace({'RT-PCR': 0, 'TESTE RÁPIDO - ANTICORPO': 1, 'TESTE RÁPIDO - ANTÍGENO':2,\n",
    "                                   'Enzimaimunoensaio - ELISA IgM':3,'Quimioluminescência - CLIA':4,\n",
    "                                  'Imunoensaio por Eletroquimioluminescência - ECLIA IgG':5,\n",
    "                                  'Enzimaimunoensaio – ELISA':6})\n",
    "\n",
    "df.resultadoTeste=df.resultadoTeste.replace({'Negativo': 0, 'Positivo': 1, 'Inconclusivo ou Indeterminado':88})\n",
    "\n",
    "df.classificacaoFinal=df.classificacaoFinal.replace({'Descartado': 0, 'Confirmado Laboratorial': 1,\n",
    "                                                     'Síndrome Gripal Não Especificada':2,\n",
    "                                                     'Confirmado Clínico-Imagem':3,\n",
    "                                                    'Confirmado Clínico-Epidemiológico':4,\n",
    "                                                    'Confirmado por Critério Clínico':5})\n",
    "\n",
    "df.estadoTeste=df.estadoTeste.fillna(99)\n",
    "df.tipoTeste=df.tipoTeste.fillna(99)\n",
    "df.resultadoTeste=df.resultadoTeste.fillna(99)\n",
    "df.classificacaoFinal=df.classificacaoFinal.fillna(99)"
   ]
  },
  {
   "cell_type": "code",
   "execution_count": 10,
   "metadata": {
    "scrolled": false
   },
   "outputs": [
    {
     "data": {
      "text/plain": [
       "0.0     28910\n",
       "99.0     1812\n",
       "1.0       802\n",
       "2.0       712\n",
       "3.0       619\n",
       "Name: estadoTeste, dtype: int64"
      ]
     },
     "execution_count": 10,
     "metadata": {},
     "output_type": "execute_result"
    }
   ],
   "source": [
    "df.estadoTeste.value_counts()"
   ]
  },
  {
   "cell_type": "code",
   "execution_count": 41,
   "metadata": {},
   "outputs": [
    {
     "data": {
      "text/plain": [
       "87.99269517577233"
      ]
     },
     "execution_count": 41,
     "metadata": {},
     "output_type": "execute_result"
    }
   ],
   "source": [
    "# Porcentagem de caso suspeitos testados (estadoTeste = 0)*100/total de casos suspeitos \n",
    "28910*100/32855"
   ]
  },
  {
   "cell_type": "code",
   "execution_count": 12,
   "metadata": {},
   "outputs": [
    {
     "data": {
      "text/plain": [
       "0.0     19034\n",
       "1.0      6847\n",
       "2.0      4038\n",
       "99.0     2909\n",
       "3.0        10\n",
       "4.0         9\n",
       "5.0         7\n",
       "6.0         1\n",
       "Name: tipoTeste, dtype: int64"
      ]
     },
     "execution_count": 12,
     "metadata": {},
     "output_type": "execute_result"
    }
   ],
   "source": [
    "df.tipoTeste.value_counts()"
   ]
  },
  {
   "cell_type": "code",
   "execution_count": 13,
   "metadata": {
    "scrolled": true
   },
   "outputs": [
    {
     "data": {
      "text/plain": [
       "0.0     19251\n",
       "1.0      9464\n",
       "99.0     4055\n",
       "88.0       85\n",
       "Name: resultadoTeste, dtype: int64"
      ]
     },
     "execution_count": 13,
     "metadata": {},
     "output_type": "execute_result"
    }
   ],
   "source": [
    "df.resultadoTeste.value_counts()"
   ]
  },
  {
   "cell_type": "code",
   "execution_count": 14,
   "metadata": {},
   "outputs": [
    {
     "data": {
      "text/plain": [
       "0.0     19473\n",
       "1.0      9462\n",
       "99.0     2367\n",
       "2.0      1532\n",
       "3.0        11\n",
       "4.0         7\n",
       "5.0         3\n",
       "Name: classificacaoFinal, dtype: int64"
      ]
     },
     "execution_count": 14,
     "metadata": {},
     "output_type": "execute_result"
    }
   ],
   "source": [
    "df.classificacaoFinal.value_counts()"
   ]
  },
  {
   "cell_type": "code",
   "execution_count": 15,
   "metadata": {},
   "outputs": [
    {
     "data": {
      "text/plain": [
       "Cura                        29354\n",
       "Cancelado                     657\n",
       "Em tratamento domiciliar      449\n",
       "Óbito                         179\n",
       "Ignorado                      140\n",
       "Internado                      79\n",
       "Internado em UTI                5\n",
       "Name: evolucaoCaso, dtype: int64"
      ]
     },
     "execution_count": 15,
     "metadata": {},
     "output_type": "execute_result"
    }
   ],
   "source": [
    "df.evolucaoCaso.value_counts()"
   ]
  },
  {
   "cell_type": "code",
   "execution_count": 17,
   "metadata": {},
   "outputs": [],
   "source": [
    "data = df.groupby(['tipoTeste','estadoTeste','resultadoTeste','classificacaoFinal'])['ones'].count().reset_index()"
   ]
  },
  {
   "cell_type": "code",
   "execution_count": 35,
   "metadata": {
    "scrolled": false
   },
   "outputs": [
    {
     "data": {
      "text/plain": [
       "11015"
      ]
     },
     "execution_count": 35,
     "metadata": {},
     "output_type": "execute_result"
    }
   ],
   "source": [
    "# Contar casos que deram positivos na classificaçãomfinal ou pelo teste\n",
    "\n",
    "data[(data.classificacaoFinal != 0) & (data.classificacaoFinal != 99)].ones.sum()"
   ]
  },
  {
   "cell_type": "code",
   "execution_count": 39,
   "metadata": {
    "scrolled": true
   },
   "outputs": [
    {
     "data": {
      "text/plain": [
       "96"
      ]
     },
     "execution_count": 39,
     "metadata": {},
     "output_type": "execute_result"
    }
   ],
   "source": [
    "data[(data.classificacaoFinal == 0) & (data.resultadoTeste == 1)].ones.sum()"
   ]
  },
  {
   "cell_type": "code",
   "execution_count": 40,
   "metadata": {
    "scrolled": true
   },
   "outputs": [
    {
     "data": {
      "text/plain": [
       "11111"
      ]
     },
     "execution_count": 40,
     "metadata": {},
     "output_type": "execute_result"
    }
   ],
   "source": [
    "11015+96 #casos confirmados"
   ]
  },
  {
   "cell_type": "code",
   "execution_count": 42,
   "metadata": {},
   "outputs": [
    {
     "data": {
      "text/plain": [
       "1647"
      ]
     },
     "execution_count": 42,
     "metadata": {},
     "output_type": "execute_result"
    }
   ],
   "source": [
    "11111 -9464"
   ]
  },
  {
   "cell_type": "code",
   "execution_count": 44,
   "metadata": {},
   "outputs": [
    {
     "data": {
      "text/plain": [
       "66.18170750266322"
      ]
     },
     "execution_count": 44,
     "metadata": {},
     "output_type": "execute_result"
    }
   ],
   "source": [
    "(32855 - 11111)*100/32855"
   ]
  },
  {
   "cell_type": "code",
   "execution_count": 45,
   "metadata": {},
   "outputs": [
    {
     "data": {
      "text/plain": [
       "-33.81999999999999"
      ]
     },
     "execution_count": 45,
     "metadata": {},
     "output_type": "execute_result"
    }
   ],
   "source": [
    "66.18 -100"
   ]
  },
  {
   "cell_type": "code",
   "execution_count": null,
   "metadata": {},
   "outputs": [],
   "source": []
  }
 ],
 "metadata": {
  "kernelspec": {
   "display_name": "Python 3",
   "language": "python",
   "name": "python3"
  },
  "language_info": {
   "codemirror_mode": {
    "name": "ipython",
    "version": 3
   },
   "file_extension": ".py",
   "mimetype": "text/x-python",
   "name": "python",
   "nbconvert_exporter": "python",
   "pygments_lexer": "ipython3",
   "version": "3.8.5"
  }
 },
 "nbformat": 4,
 "nbformat_minor": 4
}
