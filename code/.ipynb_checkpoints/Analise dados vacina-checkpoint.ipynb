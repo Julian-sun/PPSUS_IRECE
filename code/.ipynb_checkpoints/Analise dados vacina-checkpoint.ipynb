{
 "cells": [
  {
   "cell_type": "code",
   "execution_count": 1,
   "metadata": {},
   "outputs": [],
   "source": [
    "from pyspark import SparkConf\n",
    "from pyspark.sql import SparkSession\n",
    "import pyspark.sql.functions as F\n",
    "import pyspark.sql.types as T\n",
    "import psutil\n",
    "import os"
   ]
  },
  {
   "cell_type": "code",
   "execution_count": 167,
   "metadata": {},
   "outputs": [],
   "source": [
    "from pyspark.sql.functions import countDistinct"
   ]
  },
  {
   "cell_type": "code",
   "execution_count": 2,
   "metadata": {},
   "outputs": [],
   "source": [
    "import matplotlib.pyplot as plt"
   ]
  },
  {
   "cell_type": "code",
   "execution_count": 3,
   "metadata": {},
   "outputs": [],
   "source": [
    "from unidecode import unidecode"
   ]
  },
  {
   "cell_type": "code",
   "execution_count": 4,
   "metadata": {},
   "outputs": [],
   "source": [
    "mem_base = psutil.virtual_memory()\n",
    "thread_base = int(round(psutil.cpu_count() / 5, 0))\n",
    "\n",
    "\n",
    "cores = str((thread_base * 6) - 1)\n",
    "ram = str((int(round((mem_base.total / 1024**3), 0)) // 2) -1) + 'g'\n",
    "mem_driver = str(int(round(0.40 * (mem_base.total / 1024**3), 0))) + 'g'\n",
    "tmp = os.path.expanduser('/Users/julianeoliveira/Desktop/tmp')\n",
    "\n",
    "\n",
    "conf = SparkConf().setAll([\n",
    "    ('spark.local.dir', tmp),\n",
    "    ('spark.driver.cores', '5'),\n",
    "    ('spark.driver.memory', mem_driver),\n",
    "    ('spark.executor.cores', cores),\n",
    "    ('spark.executor.memory', ram),\n",
    "])\n",
    "\n",
    "\n",
    "spark = SparkSession.builder.config(conf=conf).getOrCreate()"
   ]
  },
  {
   "cell_type": "code",
   "execution_count": 113,
   "metadata": {},
   "outputs": [],
   "source": [
    "df = spark.read.csv('/Users/julianeoliveira/Desktop/github/Datasets from the gitcomputations/Irece/ireceVac.csv', header=True, sep=',')"
   ]
  },
  {
   "cell_type": "code",
   "execution_count": 114,
   "metadata": {
    "scrolled": true
   },
   "outputs": [
    {
     "data": {
      "text/plain": [
       "['document_id',\n",
       " 'paciente_id',\n",
       " 'paciente_idade',\n",
       " 'paciente_dataNascimento',\n",
       " 'paciente_enumSexoBiologico',\n",
       " 'paciente_racaCor_codigo',\n",
       " 'paciente_racaCor_valor',\n",
       " 'paciente_endereco_coIbgeMunicipio',\n",
       " 'paciente_endereco_coPais',\n",
       " 'paciente_endereco_nmMunicipio',\n",
       " 'paciente_endereco_nmPais',\n",
       " 'paciente_endereco_uf',\n",
       " 'paciente_endereco_cep',\n",
       " 'paciente_nacionalidade_enumNacionalidade',\n",
       " 'estabelecimento_valor',\n",
       " 'estabelecimento_razaoSocial',\n",
       " 'estalecimento_noFantasia',\n",
       " 'estabelecimento_municipio_codigo',\n",
       " 'estabelecimento_municipio_nome',\n",
       " 'estabelecimento_uf',\n",
       " 'vacina_grupoAtendimento_codigo',\n",
       " 'vacina_grupoAtendimento_nome',\n",
       " 'vacina_categoria_codigo',\n",
       " 'vacina_categoria_nome',\n",
       " 'vacina_lote',\n",
       " 'vacina_fabricante_nome',\n",
       " 'vacina_fabricante_referencia',\n",
       " 'vacina_dataAplicacao',\n",
       " 'vacina_descricao_dose',\n",
       " 'vacina_codigo',\n",
       " 'vacina_nome',\n",
       " 'sistema_origem']"
      ]
     },
     "execution_count": 114,
     "metadata": {},
     "output_type": "execute_result"
    }
   ],
   "source": [
    "df.columns"
   ]
  },
  {
   "cell_type": "code",
   "execution_count": 115,
   "metadata": {},
   "outputs": [],
   "source": [
    "df = df.withColumnRenamed('paciente_id', 'id') \\\n",
    "    .withColumnRenamed('paciente_idade', 'idade') \\\n",
    "    .withColumnRenamed('paciente_enumsexobiologico', 'sexo') \\\n",
    "    .withColumnRenamed('paciente_racacor_codigo', 'raca') \\\n",
    "    .withColumnRenamed('paciente_endereco_coibgemunicipio', 'mun_res') \\\n",
    "    .withColumnRenamed('paciente_endereco_nmmunicipio', 'nome_mun_res') \\\n",
    "    .withColumnRenamed('paciente_endereco_uf', 'uf_res') \\\n",
    "    .withColumnRenamed('vacina_dataaplicacao', 'data') \\\n",
    "    .withColumnRenamed('vacina_descricao_dose', 'dose') \\\n",
    "    .withColumnRenamed('vacina_nome', 'vacina')"
   ]
  },
  {
   "cell_type": "code",
   "execution_count": 116,
   "metadata": {},
   "outputs": [],
   "source": [
    "df = df.withColumn('vacina', F.when(F.col('vacina').contains('astrazeneca'), F.lit(1)) \\\n",
    "              .when(F.col('vacina').contains('coronavac'), F.lit(2)) \\\n",
    "              .when(F.col('vacina').contains('pfizer'), F.lit(3)) \\\n",
    "              .when(F.col('vacina').contains('janssen'), F.lit(4)) \\\n",
    "              .otherwise(F.col('vacina')))"
   ]
  },
  {
   "cell_type": "code",
   "execution_count": 117,
   "metadata": {},
   "outputs": [],
   "source": [
    "from pyspark.sql.functions import when\n",
    "\n",
    "df = df.withColumn(\"faixa\", \\\n",
    "              when((df['idade'] < 18), '0-17').otherwise(df['idade']))"
   ]
  },
  {
   "cell_type": "code",
   "execution_count": 118,
   "metadata": {},
   "outputs": [],
   "source": [
    "df = df.withColumn(\"faixa\", \\\n",
    "              when((df['idade']>= 18) & (df['idade'] < 30),  '18-29').otherwise(df['faixa']))"
   ]
  },
  {
   "cell_type": "code",
   "execution_count": 119,
   "metadata": {},
   "outputs": [],
   "source": [
    "df = df.withColumn(\"faixa\", \\\n",
    "              when((df['idade']>= 30) & (df['idade'] < 40),  '30-39').otherwise(df['faixa']))"
   ]
  },
  {
   "cell_type": "code",
   "execution_count": 120,
   "metadata": {},
   "outputs": [],
   "source": [
    "df = df.withColumn(\"faixa\", \\\n",
    "              when((df['idade']>= 40) & (df['idade'] < 50),  '40-49').otherwise(df['faixa']))"
   ]
  },
  {
   "cell_type": "code",
   "execution_count": 121,
   "metadata": {},
   "outputs": [],
   "source": [
    "df = df.withColumn(\"faixa\", \\\n",
    "              when((df['idade']>= 50) & (df['idade'] < 65),  '50-64').otherwise(df['faixa']))"
   ]
  },
  {
   "cell_type": "code",
   "execution_count": 122,
   "metadata": {},
   "outputs": [],
   "source": [
    "df = df.withColumn(\"faixa\", \\\n",
    "              when((df['idade']>= 65) & (df['idade'] < 75),  '65-74').otherwise(df['faixa']))"
   ]
  },
  {
   "cell_type": "code",
   "execution_count": 123,
   "metadata": {},
   "outputs": [],
   "source": [
    "df = df.withColumn(\"faixa\", \\\n",
    "              when((df['idade']>= 75) & (df['idade'] < 85),  '75-84').otherwise(df['faixa']))"
   ]
  },
  {
   "cell_type": "code",
   "execution_count": 124,
   "metadata": {},
   "outputs": [],
   "source": [
    "df = df.withColumn(\"faixa\", \\\n",
    "              when((df['idade']>= 85),  '85+').otherwise(df['faixa']))"
   ]
  },
  {
   "cell_type": "code",
   "execution_count": 125,
   "metadata": {},
   "outputs": [],
   "source": [
    "columns = ['data', 'id', 'idade', 'sexo', 'raca', 'uf_res', 'nome_mun_res', 'mun_res', 'vacina', 'dose','faixa']"
   ]
  },
  {
   "cell_type": "code",
   "execution_count": 126,
   "metadata": {},
   "outputs": [
    {
     "name": "stdout",
     "output_type": "stream",
     "text": [
      "+----------+--------------------+-----+----+----+------+------------+-------+--------------------+-------+-----+\n",
      "|      data|                  id|idade|sexo|raca|uf_res|nome_mun_res|mun_res|              vacina|   dose|faixa|\n",
      "+----------+--------------------+-----+----+----+------+------------+-------+--------------------+-------+-----+\n",
      "|2021-10-20|42c9911d53023d82a...|   73|   F|  04|    BA|       IRECE| 291460|COVID-19 PFIZER -...|Reforço|65-74|\n",
      "|2021-03-03|37bf223b515b8e06f...|   34|   F|  04|    BA|       IRECE| 291460|COVID-19 ASTRAZEN...|1ª Dose|30-39|\n",
      "|2021-07-21|30a82eed13de43b44...|   40|   M|  03|    BA|       IRECE| 291460|COVID-19 SINOVAC/...|1ª Dose|40-49|\n",
      "|2021-11-10|f218aa7a6fb8b1148...|   19|   F|  04|    BA|       IRECE| 291460|COVID-19 PFIZER -...|2ª Dose|18-29|\n",
      "|2022-01-14|5e9a0732aabc072b9...|   59|   M|  04|    BA|       IRECE| 291460|COVID-19 PFIZER -...|Reforço|50-64|\n",
      "|2021-11-22|074011af4a2116c45...|   23|   M|  04|    BA|       IRECE| 291460|COVID-19 PFIZER -...|2ª Dose|18-29|\n",
      "|2021-08-24|3f01f0fed795221e6...|   22|   M|  04|    BA|       IRECE| 291460|COVID-19 PFIZER -...|1ª Dose|18-29|\n",
      "|2022-01-28|850e2e1f173fc62a3...|   25|   F|  01|    BA|       IRECE| 291460|COVID-19 PFIZER -...|Reforço|18-29|\n",
      "|2021-11-09|bd23450ca6a8cb2f0...|   49|   F|  04|    BA|       IRECE| 291460|COVID-19 PFIZER -...|2ª Dose|40-49|\n",
      "|2021-03-18|822a7d89feb425a49...|   74|   M|  02|    BA|       IRECE| 291460|COVID-19 SINOVAC/...|1ª Dose|65-74|\n",
      "|2021-11-10|5b1a32260fc58c35f...|   29|   M|  01|    BA|       IRECE| 291460|COVID-19 ASTRAZEN...|2ª Dose|18-29|\n",
      "|2021-09-24|c9abdc479d8951d5a...|   91|   F|  01|    BA|       IRECE| 291460|COVID-19 PFIZER -...|Reforço|  85+|\n",
      "|2021-07-23|567f1401a44995d4f...|   23|   M|  03|    BA|       IRECE| 291460|COVID-19 ASTRAZEN...|2ª Dose|18-29|\n",
      "|2021-04-12|3a36a8401a0057076...|   79|   F|  04|    BA|       IRECE| 291460|COVID-19 SINOVAC/...|2ª Dose|75-84|\n",
      "|2021-06-22|4af34eafad1094ad2...|   47|   F|  99|    BA|       IRECE| 291460|COVID-19 PFIZER -...|1ª Dose|40-49|\n",
      "|2021-09-03|9d282154ef53af6b5...|   18|   M|  04|    BA|       IRECE| 291460|COVID-19 SINOVAC/...|1ª Dose|18-29|\n",
      "|2021-11-10|23cee574b4b9338ba...|   30|   M|  04|    BA|       IRECE| 291460|COVID-19 ASTRAZEN...|2ª Dose|30-39|\n",
      "|2021-09-13|1a018cbea078c09c8...|   49|   M|  01|    BA|       IRECE| 291460|COVID-19 PFIZER -...|2ª Dose|40-49|\n",
      "|2022-02-01|89fe9b4a6c7830a70...|   18|   F|  03|    BA|       IRECE| 291460|COVID-19 SINOVAC/...|1ª Dose|18-29|\n",
      "|2021-09-29|db4c657169ef65608...|   21|   F|  04|    BA|       IRECE| 291460|COVID-19 SINOVAC/...|2ª Dose|18-29|\n",
      "+----------+--------------------+-----+----+----+------+------------+-------+--------------------+-------+-----+\n",
      "only showing top 20 rows\n",
      "\n"
     ]
    }
   ],
   "source": [
    "df.select(columns).show()"
   ]
  },
  {
   "cell_type": "code",
   "execution_count": 21,
   "metadata": {},
   "outputs": [
    {
     "data": {
      "text/plain": [
       "148276"
      ]
     },
     "execution_count": 21,
     "metadata": {},
     "output_type": "execute_result"
    }
   ],
   "source": [
    "df.count()"
   ]
  },
  {
   "cell_type": "markdown",
   "metadata": {},
   "source": [
    "# Selected data "
   ]
  },
  {
   "cell_type": "code",
   "execution_count": 127,
   "metadata": {},
   "outputs": [],
   "source": [
    "data = df.filter(df.data <= '2022-02-07').select(columns)#.write.csv('/Users/julianeoliveira/Desktop/github/Datasets from the gitcomputations/Irece', header=True)"
   ]
  },
  {
   "cell_type": "code",
   "execution_count": 128,
   "metadata": {},
   "outputs": [
    {
     "data": {
      "text/plain": [
       "142238"
      ]
     },
     "execution_count": 128,
     "metadata": {},
     "output_type": "execute_result"
    }
   ],
   "source": [
    "data.count()"
   ]
  },
  {
   "cell_type": "code",
   "execution_count": 129,
   "metadata": {},
   "outputs": [
    {
     "data": {
      "text/plain": [
       "71472"
      ]
     },
     "execution_count": 129,
     "metadata": {},
     "output_type": "execute_result"
    }
   ],
   "source": [
    "data.select('id').distinct().count()"
   ]
  },
  {
   "cell_type": "code",
   "execution_count": 33,
   "metadata": {},
   "outputs": [
    {
     "data": {
      "text/plain": [
       "96.58378378378379"
      ]
     },
     "execution_count": 33,
     "metadata": {},
     "output_type": "execute_result"
    }
   ],
   "source": [
    "71472*100/74000"
   ]
  },
  {
   "cell_type": "markdown",
   "metadata": {},
   "source": [
    "# Tipo da vacina"
   ]
  },
  {
   "cell_type": "code",
   "execution_count": 166,
   "metadata": {
    "scrolled": true
   },
   "outputs": [
    {
     "name": "stdout",
     "output_type": "stream",
     "text": [
      "+-----------------------------------------+\n",
      "|vacina                                   |\n",
      "+-----------------------------------------+\n",
      "|COVID-19 ASTRAZENECA - ChAdOx1-S         |\n",
      "|COVID-19 SINOVAC/BUTANTAN - CORONAVAC    |\n",
      "|COVID-19 PFIZER - COMIRNATY              |\n",
      "|COVID-19 PEDIÁTRICA - PFIZER COMIRNATY   |\n",
      "|COVID-19 ASTRAZENECA/FIOCRUZ - COVISHIELD|\n",
      "|COVID-19 JANSSEN - Ad26.COV2.S           |\n",
      "+-----------------------------------------+\n",
      "\n"
     ]
    }
   ],
   "source": [
    "data.select('vacina').distinct().show(truncate=False)"
   ]
  },
  {
   "cell_type": "code",
   "execution_count": 170,
   "metadata": {},
   "outputs": [
    {
     "name": "stdout",
     "output_type": "stream",
     "text": [
      "+----------------------+\n",
      "|count(DISTINCT vacina)|\n",
      "+----------------------+\n",
      "|                     6|\n",
      "+----------------------+\n",
      "\n"
     ]
    }
   ],
   "source": [
    "data.select(countDistinct(\"vacina\")).show()"
   ]
  },
  {
   "cell_type": "code",
   "execution_count": 172,
   "metadata": {},
   "outputs": [
    {
     "name": "stdout",
     "output_type": "stream",
     "text": [
      "+-----------------------------------------+-----+\n",
      "|vacina                                   |count|\n",
      "+-----------------------------------------+-----+\n",
      "|COVID-19 ASTRAZENECA - ChAdOx1-S         |3143 |\n",
      "|COVID-19 SINOVAC/BUTANTAN - CORONAVAC    |36239|\n",
      "|COVID-19 PFIZER - COMIRNATY              |56650|\n",
      "|COVID-19 PEDIÁTRICA - PFIZER COMIRNATY   |1125 |\n",
      "|COVID-19 ASTRAZENECA/FIOCRUZ - COVISHIELD|43479|\n",
      "|COVID-19 JANSSEN - Ad26.COV2.S           |1602 |\n",
      "+-----------------------------------------+-----+\n",
      "\n"
     ]
    }
   ],
   "source": [
    "data.groupBy('vacina').count().show(truncate=False)"
   ]
  },
  {
   "cell_type": "code",
   "execution_count": 174,
   "metadata": {},
   "outputs": [
    {
     "data": {
      "text/plain": [
       "32.7774575008085"
      ]
     },
     "execution_count": 174,
     "metadata": {},
     "output_type": "execute_result"
    }
   ],
   "source": [
    "(3143+43479)*100/142238"
   ]
  },
  {
   "cell_type": "code",
   "execution_count": 175,
   "metadata": {
    "scrolled": true
   },
   "outputs": [
    {
     "data": {
      "text/plain": [
       "25.477720440388644"
      ]
     },
     "execution_count": 175,
     "metadata": {},
     "output_type": "execute_result"
    }
   ],
   "source": [
    "36239*100/142238"
   ]
  },
  {
   "cell_type": "code",
   "execution_count": 177,
   "metadata": {
    "scrolled": true
   },
   "outputs": [
    {
     "data": {
      "text/plain": [
       "39.82761287419677"
      ]
     },
     "execution_count": 177,
     "metadata": {},
     "output_type": "execute_result"
    }
   ],
   "source": [
    "56650*100/142238"
   ]
  },
  {
   "cell_type": "code",
   "execution_count": 179,
   "metadata": {},
   "outputs": [
    {
     "data": {
      "text/plain": [
       "0.790927881438153"
      ]
     },
     "execution_count": 179,
     "metadata": {},
     "output_type": "execute_result"
    }
   ],
   "source": [
    "1125*100/142238"
   ]
  },
  {
   "cell_type": "code",
   "execution_count": 181,
   "metadata": {},
   "outputs": [
    {
     "data": {
      "text/plain": [
       "1.1262813031679297"
      ]
     },
     "execution_count": 181,
     "metadata": {},
     "output_type": "execute_result"
    }
   ],
   "source": [
    "1602*100/142238"
   ]
  },
  {
   "cell_type": "code",
   "execution_count": 184,
   "metadata": {},
   "outputs": [
    {
     "data": {
      "text/plain": [
       "99.99"
      ]
     },
     "execution_count": 184,
     "metadata": {},
     "output_type": "execute_result"
    }
   ],
   "source": [
    "32.77+25.47+39.83+0.79+1.13"
   ]
  },
  {
   "cell_type": "markdown",
   "metadata": {},
   "source": [
    "## Contagem sexo"
   ]
  },
  {
   "cell_type": "code",
   "execution_count": 34,
   "metadata": {},
   "outputs": [
    {
     "name": "stdout",
     "output_type": "stream",
     "text": [
      "+----+\n",
      "|sexo|\n",
      "+----+\n",
      "|F   |\n",
      "|M   |\n",
      "+----+\n",
      "\n"
     ]
    }
   ],
   "source": [
    "data.select('sexo').distinct().show(truncate=False)"
   ]
  },
  {
   "cell_type": "code",
   "execution_count": 35,
   "metadata": {},
   "outputs": [],
   "source": [
    "pivotSexo = data.groupby(\"id\").pivot(\"sexo\").count()"
   ]
  },
  {
   "cell_type": "code",
   "execution_count": null,
   "metadata": {},
   "outputs": [],
   "source": [
    "pivotSexo = pivotSexo.withColumn(\"ind_linkado_F\",F.when(F.col('F').isNotNull(),1).otherwise(0))"
   ]
  },
  {
   "cell_type": "code",
   "execution_count": null,
   "metadata": {},
   "outputs": [],
   "source": [
    "pivotSexo = pivotSexo.withColumn(\"ind_linkado_M\",F.when(F.col('M').isNotNull(),1).otherwise(0))"
   ]
  },
  {
   "cell_type": "code",
   "execution_count": 39,
   "metadata": {},
   "outputs": [
    {
     "name": "stdout",
     "output_type": "stream",
     "text": [
      "+--------------------+----+----+-------------+-------------+\n",
      "|                  id|   F|   M|ind_linkado_F|ind_linkado_M|\n",
      "+--------------------+----+----+-------------+-------------+\n",
      "|5d48b806c720c3646...|null|   1|            0|            1|\n",
      "|1409e028d7fee2eb3...|null|   2|            0|            1|\n",
      "|597aec91ffbe7228b...|null|   2|            0|            1|\n",
      "|3119c46da3aac9d00...|   2|null|            1|            0|\n",
      "|64ed34b1dada82a84...|null|   3|            0|            1|\n",
      "|3563e39eb9bc00a9f...|null|   1|            0|            1|\n",
      "|c9754749e8176c168...|null|   2|            0|            1|\n",
      "|c612307ec66b2fb88...|null|   3|            0|            1|\n",
      "|e61005062a1a3b322...|   2|null|            1|            0|\n",
      "|c2efd3b50c5ad2427...|   2|null|            1|            0|\n",
      "|f35ebc3693182d2cb...|null|   2|            0|            1|\n",
      "|00904c41c8137ce84...|   2|null|            1|            0|\n",
      "|06f6ae4fcd3afdab1...|   2|null|            1|            0|\n",
      "|0c228876a03201e52...|null|   2|            0|            1|\n",
      "|555f24fe866b2ad42...|   2|null|            1|            0|\n",
      "|04a755126c810a96d...|   2|null|            1|            0|\n",
      "|fe3a8c8ad5c2e03b1...|   2|null|            1|            0|\n",
      "|783e6bba2f553a8bf...|   2|null|            1|            0|\n",
      "|be8320cf66fdf2665...|null|   1|            0|            1|\n",
      "|e6521b9958fed3ab0...|null|   2|            0|            1|\n",
      "+--------------------+----+----+-------------+-------------+\n",
      "only showing top 20 rows\n",
      "\n"
     ]
    }
   ],
   "source": [
    "pivotSexo.show()"
   ]
  },
  {
   "cell_type": "code",
   "execution_count": 40,
   "metadata": {},
   "outputs": [
    {
     "data": {
      "text/plain": [
       "71472"
      ]
     },
     "execution_count": 40,
     "metadata": {},
     "output_type": "execute_result"
    }
   ],
   "source": [
    "pivotSexo.count()"
   ]
  },
  {
   "cell_type": "code",
   "execution_count": 42,
   "metadata": {},
   "outputs": [],
   "source": [
    "col_to_select = ['ind_linkado_F','ind_linkado_M']"
   ]
  },
  {
   "cell_type": "code",
   "execution_count": 44,
   "metadata": {},
   "outputs": [
    {
     "name": "stdout",
     "output_type": "stream",
     "text": [
      "+-------------+-------------+-----+\n",
      "|ind_linkado_F|ind_linkado_M|count|\n",
      "+-------------+-------------+-----+\n",
      "|            1|            0|37620|\n",
      "|            1|            1|    6|\n",
      "|            0|            1|33846|\n",
      "+-------------+-------------+-----+\n",
      "\n"
     ]
    }
   ],
   "source": [
    "pivotSexo.groupby(col_to_select).count().show()"
   ]
  },
  {
   "cell_type": "code",
   "execution_count": 47,
   "metadata": {},
   "outputs": [
    {
     "data": {
      "text/plain": [
       "0.0083948959032908"
      ]
     },
     "execution_count": 47,
     "metadata": {},
     "output_type": "execute_result"
    }
   ],
   "source": [
    "6*100/71472"
   ]
  },
  {
   "cell_type": "markdown",
   "metadata": {},
   "source": [
    "# Contagem idade"
   ]
  },
  {
   "cell_type": "code",
   "execution_count": 131,
   "metadata": {},
   "outputs": [],
   "source": [
    "pivotFaixa = data.groupby(\"id\").pivot(\"faixa\").count()"
   ]
  },
  {
   "cell_type": "code",
   "execution_count": 134,
   "metadata": {},
   "outputs": [
    {
     "name": "stdout",
     "output_type": "stream",
     "text": [
      "+--------------------+----+-----+-----+-----+-----+-----+-----+----+----------------+-----------------+-----------------+-----------------+-----------------+-----------------+-----------------+---------------+\n",
      "|                  id|0-17|18-29|30-39|40-49|50-64|65-74|75-84| 85+|ind_linkado_0-17|ind_linkado_18-29|ind_linkado_30-39|ind_linkado_40-49|ind_linkado_50-64|ind_linkado_65-74|ind_linkado_75-84|ind_linkado_85+|\n",
      "+--------------------+----+-----+-----+-----+-----+-----+-----+----+----------------+-----------------+-----------------+-----------------+-----------------+-----------------+-----------------+---------------+\n",
      "|98b5f8e5eaba971e0...|null| null| null|    2| null| null| null|null|               0|                0|                0|                1|                0|                0|                0|              0|\n",
      "|7164b3934185cef8a...|null| null|    2| null| null| null| null|null|               0|                0|                1|                0|                0|                0|                0|              0|\n",
      "|383ef270377b5fc57...|null|    3| null| null| null| null| null|null|               0|                1|                0|                0|                0|                0|                0|              0|\n",
      "|531b86cd15f5f7339...|null| null|    1|    1| null| null| null|null|               0|                0|                1|                1|                0|                0|                0|              0|\n",
      "|24e60342253aedbf8...|null| null| null| null| null|    3| null|null|               0|                0|                0|                0|                0|                1|                0|              0|\n",
      "|a890e07bac42b66c1...|   1| null| null| null| null| null| null|null|               1|                0|                0|                0|                0|                0|                0|              0|\n",
      "|ca7df4733bb9c56a6...|null| null| null| null|    2| null| null|null|               0|                0|                0|                0|                1|                0|                0|              0|\n",
      "|f5054dfc577ecabba...|null| null| null|    2| null| null| null|null|               0|                0|                0|                1|                0|                0|                0|              0|\n",
      "|21743d3e1e1f96980...|null| null| null| null| null|    4| null|null|               0|                0|                0|                0|                0|                1|                0|              0|\n",
      "|905e1d1449086c5bf...|null| null|    2| null| null| null| null|null|               0|                0|                1|                0|                0|                0|                0|              0|\n",
      "|96ee66401638080cc...|null| null| null|    1| null| null| null|null|               0|                0|                0|                1|                0|                0|                0|              0|\n",
      "|3ef63f02009527be5...|null|    2| null| null| null| null| null|null|               0|                1|                0|                0|                0|                0|                0|              0|\n",
      "|6cd6bb2d1dc29deaa...|null| null| null|    1| null| null| null|null|               0|                0|                0|                1|                0|                0|                0|              0|\n",
      "|9807911c36e1c1077...|   1| null| null| null| null| null| null|null|               1|                0|                0|                0|                0|                0|                0|              0|\n",
      "|aa0cf5c1742c0134e...|null| null|    2| null| null| null| null|null|               0|                0|                1|                0|                0|                0|                0|              0|\n",
      "|2634e8b71476ec715...|null| null| null| null|    2| null| null|null|               0|                0|                0|                0|                1|                0|                0|              0|\n",
      "|55c5a9eba127e91f0...|null|    3| null| null| null| null| null|null|               0|                1|                0|                0|                0|                0|                0|              0|\n",
      "|fa55882651fb6ee4d...|null| null| null| null|    2| null| null|null|               0|                0|                0|                0|                1|                0|                0|              0|\n",
      "|9e5e243dcd667f7ed...|null| null| null|    2| null| null| null|null|               0|                0|                0|                1|                0|                0|                0|              0|\n",
      "|2d281582724491f1b...|null| null|    2| null| null| null| null|null|               0|                0|                1|                0|                0|                0|                0|              0|\n",
      "+--------------------+----+-----+-----+-----+-----+-----+-----+----+----------------+-----------------+-----------------+-----------------+-----------------+-----------------+-----------------+---------------+\n",
      "only showing top 20 rows\n",
      "\n"
     ]
    }
   ],
   "source": [
    "pivotFaixa.show()"
   ]
  },
  {
   "cell_type": "code",
   "execution_count": 133,
   "metadata": {},
   "outputs": [],
   "source": [
    "pivotFaixa = pivotFaixa.withColumn(\"ind_linkado_0-17\",F.when(F.col('0-17').isNotNull(),1).otherwise(0))\n",
    "pivotFaixa = pivotFaixa.withColumn(\"ind_linkado_18-29\",F.when(F.col('18-29').isNotNull(),1).otherwise(0))\n",
    "pivotFaixa = pivotFaixa.withColumn(\"ind_linkado_30-39\",F.when(F.col('30-39').isNotNull(),1).otherwise(0))\n",
    "pivotFaixa = pivotFaixa.withColumn(\"ind_linkado_40-49\",F.when(F.col('40-49').isNotNull(),1).otherwise(0))\n",
    "pivotFaixa = pivotFaixa.withColumn(\"ind_linkado_50-64\",F.when(F.col('50-64').isNotNull(),1).otherwise(0))\n",
    "pivotFaixa = pivotFaixa.withColumn(\"ind_linkado_65-74\",F.when(F.col('65-74').isNotNull(),1).otherwise(0))\n",
    "pivotFaixa = pivotFaixa.withColumn(\"ind_linkado_75-84\",F.when(F.col('75-84').isNotNull(),1).otherwise(0))\n",
    "pivotFaixa = pivotFaixa.withColumn(\"ind_linkado_85+\",F.when(F.col('85+').isNotNull(),1).otherwise(0))"
   ]
  },
  {
   "cell_type": "code",
   "execution_count": 135,
   "metadata": {},
   "outputs": [],
   "source": [
    "col_to_select = [\"ind_linkado_0-17\",\"ind_linkado_18-29\",\"ind_linkado_30-39\",\n",
    "                \"ind_linkado_40-49\",\"ind_linkado_50-64\",\"ind_linkado_65-74\",\n",
    "                \"ind_linkado_75-84\",\"ind_linkado_85+\"]"
   ]
  },
  {
   "cell_type": "code",
   "execution_count": 139,
   "metadata": {},
   "outputs": [],
   "source": [
    "pivotFaixa.groupby(col_to_select).count().coalesce(1).write.format(\"csv\").save(\"/Users/julianeoliveira/Desktop/tmp/vacIrece.csv\", header=True)\n",
    "\n"
   ]
  },
  {
   "cell_type": "markdown",
   "metadata": {},
   "source": [
    "# Contagem Raça/cor"
   ]
  },
  {
   "cell_type": "code",
   "execution_count": 140,
   "metadata": {},
   "outputs": [
    {
     "name": "stdout",
     "output_type": "stream",
     "text": [
      "+----+\n",
      "|raca|\n",
      "+----+\n",
      "|01  |\n",
      "|99  |\n",
      "|05  |\n",
      "|03  |\n",
      "|02  |\n",
      "|04  |\n",
      "+----+\n",
      "\n"
     ]
    }
   ],
   "source": [
    "data.select('raca').distinct().show(truncate=False)"
   ]
  },
  {
   "cell_type": "code",
   "execution_count": 141,
   "metadata": {},
   "outputs": [],
   "source": [
    "pivotRaca = data.groupby(\"id\").pivot(\"raca\").count()"
   ]
  },
  {
   "cell_type": "code",
   "execution_count": 142,
   "metadata": {},
   "outputs": [
    {
     "name": "stdout",
     "output_type": "stream",
     "text": [
      "+--------------------+----+----+----+----+----+----+\n",
      "|                  id|  01|  02|  03|  04|  05|  99|\n",
      "+--------------------+----+----+----+----+----+----+\n",
      "|d7c5774ecb93dce08...|null|null|   2|null|null|null|\n",
      "|7a1b9cdcf40fd197f...|null|null|null|null|null|   2|\n",
      "|12021e2d50419fb33...|null|null|null|   2|null|null|\n",
      "|b1d14ce555fc35a72...|null|null|null|   3|null|null|\n",
      "|6cd6bb2d1dc29deaa...|null|null|null|   1|null|null|\n",
      "|20390eb545bc17d07...|null|null|null|   2|null|null|\n",
      "|f5054dfc577ecabba...|null|null|null|   2|null|null|\n",
      "|13861dd0b36f9a9f7...|null|null|null|   2|null|null|\n",
      "|e418588cbfb05f4a8...|null|null|null|   2|null|null|\n",
      "|5f448e0a2e78cfdc4...|   2|null|null|null|null|null|\n",
      "|c0a3dedaa10dec3b9...|null|null|null|   2|null|null|\n",
      "|9ad5475fe47b68a4c...|null|null|null|null|null|   2|\n",
      "|4f5aa4d8c7f040023...|null|null|   2|null|null|null|\n",
      "|018cfd16238ce3608...|null|null|null|   2|null|null|\n",
      "|a48709473b05efb26...|null|null|null|   2|null|null|\n",
      "|531b86cd15f5f7339...|   2|null|null|null|null|null|\n",
      "|aec93c769c7767f9c...|null|null|null|null|null|   1|\n",
      "|ca229c84f7895b95d...|null|null|null|   3|null|null|\n",
      "|e0b4cdfe2e1e78ed7...|null|null|   3|null|null|null|\n",
      "|cf6c884693d2c79ce...|null|null|null|   1|null|null|\n",
      "+--------------------+----+----+----+----+----+----+\n",
      "only showing top 20 rows\n",
      "\n"
     ]
    }
   ],
   "source": [
    "pivotRaca.show()"
   ]
  },
  {
   "cell_type": "code",
   "execution_count": 143,
   "metadata": {},
   "outputs": [],
   "source": [
    "pivotRaca = pivotRaca.withColumn(\"ind_link_01\",F.when(F.col('01').isNotNull(),1).otherwise(0))\n",
    "pivotRaca = pivotRaca.withColumn(\"ind_link_02\",F.when(F.col('02').isNotNull(),1).otherwise(0))\n",
    "pivotRaca = pivotRaca.withColumn(\"ind_link_03\",F.when(F.col('03').isNotNull(),1).otherwise(0))\n",
    "pivotRaca = pivotRaca.withColumn(\"ind_link_04\",F.when(F.col('04').isNotNull(),1).otherwise(0))\n",
    "pivotRaca = pivotRaca.withColumn(\"ind_link_05\",F.when(F.col('05').isNotNull(),1).otherwise(0))\n",
    "pivotRaca = pivotRaca.withColumn(\"ind_link_99\",F.when(F.col('99').isNotNull(),1).otherwise(0))"
   ]
  },
  {
   "cell_type": "code",
   "execution_count": 144,
   "metadata": {},
   "outputs": [],
   "source": [
    "col_to_select = [\"ind_link_01\",\"ind_link_02\",\"ind_link_03\",\"ind_link_04\",\"ind_link_05\",\"ind_link_99\"]"
   ]
  },
  {
   "cell_type": "code",
   "execution_count": null,
   "metadata": {},
   "outputs": [],
   "source": [
    "1 = Branca; 2 = Preta; 3 = Parda; 4 = Amarela; 99 = Sem informação"
   ]
  },
  {
   "cell_type": "code",
   "execution_count": 148,
   "metadata": {},
   "outputs": [],
   "source": [
    "pivotRaca.groupby(col_to_select).count()"
   ]
  },
  {
   "cell_type": "code",
   "execution_count": 151,
   "metadata": {},
   "outputs": [],
   "source": [
    "par =2+179+163+2+1+18693+9+6+1\n",
    "branc=9635+1\n",
    "pre =1+3369\n",
    "amare= 30969+3\n",
    "null=8381\n",
    "ind=57"
   ]
  },
  {
   "cell_type": "code",
   "execution_count": 153,
   "metadata": {},
   "outputs": [
    {
     "data": {
      "text/plain": [
       "26.66218938885158"
      ]
     },
     "execution_count": 153,
     "metadata": {},
     "output_type": "execute_result"
    }
   ],
   "source": [
    "par*100/71472"
   ]
  },
  {
   "cell_type": "code",
   "execution_count": 155,
   "metadata": {},
   "outputs": [
    {
     "data": {
      "text/plain": [
       "13.482202820685023"
      ]
     },
     "execution_count": 155,
     "metadata": {},
     "output_type": "execute_result"
    }
   ],
   "source": [
    "branc*100/71472"
   ]
  },
  {
   "cell_type": "code",
   "execution_count": 157,
   "metadata": {},
   "outputs": [
    {
     "data": {
      "text/plain": [
       "4.715133199014999"
      ]
     },
     "execution_count": 157,
     "metadata": {},
     "output_type": "execute_result"
    }
   ],
   "source": [
    "pre*100/71472"
   ]
  },
  {
   "cell_type": "code",
   "execution_count": 159,
   "metadata": {},
   "outputs": [
    {
     "data": {
      "text/plain": [
       "43.33445265278711"
      ]
     },
     "execution_count": 159,
     "metadata": {},
     "output_type": "execute_result"
    }
   ],
   "source": [
    "amare*100/71472"
   ]
  },
  {
   "cell_type": "code",
   "execution_count": 161,
   "metadata": {},
   "outputs": [
    {
     "data": {
      "text/plain": [
       "0.07975151108126259"
      ]
     },
     "execution_count": 161,
     "metadata": {},
     "output_type": "execute_result"
    }
   ],
   "source": [
    "ind*100/71472"
   ]
  },
  {
   "cell_type": "code",
   "execution_count": 162,
   "metadata": {},
   "outputs": [
    {
     "data": {
      "text/plain": [
       "11.726270427580031"
      ]
     },
     "execution_count": 162,
     "metadata": {},
     "output_type": "execute_result"
    }
   ],
   "source": [
    "null*100/71472"
   ]
  },
  {
   "cell_type": "code",
   "execution_count": 165,
   "metadata": {},
   "outputs": [
    {
     "data": {
      "text/plain": [
       "100.0"
      ]
     },
     "execution_count": 165,
     "metadata": {},
     "output_type": "execute_result"
    }
   ],
   "source": [
    "13.48+26.66+4.72+43.33+0.08+11.73"
   ]
  },
  {
   "cell_type": "markdown",
   "metadata": {},
   "source": [
    "# Ciclo vacinal"
   ]
  },
  {
   "cell_type": "code",
   "execution_count": 200,
   "metadata": {},
   "outputs": [],
   "source": [
    "unidecode_udf = F.udf(\n",
    "    lambda string: unidecode(string).lower() if string is not None else '999',\n",
    "    T.StringType()\n",
    ")"
   ]
  },
  {
   "cell_type": "code",
   "execution_count": 196,
   "metadata": {},
   "outputs": [],
   "source": [
    "data = data.withColumn(\n",
    "    'vacina',\n",
    "    F.when(\n",
    "        F.col('vacina').contains('astrazeneca'),\n",
    "        F.lit(1)\n",
    "    ).when(\n",
    "        F.col('vacina').contains('coronavac'),\n",
    "        F.lit(2)\n",
    "    ).when(\n",
    "        F.col('vacina').contains('pfizer'),\n",
    "        F.lit(3)\n",
    "    ).when(\n",
    "        F.col('vacina').contains('janssen'),\n",
    "        F.lit(4)\n",
    "    ).otherwise(F.col('vacina'))\n",
    ")"
   ]
  },
  {
   "cell_type": "code",
   "execution_count": 197,
   "metadata": {},
   "outputs": [],
   "source": [
    "df_dose = data.groupby('id').pivot('dose') \\\n",
    ".agg(F.concat_ws(',', F.first(F.col('data')), F.first(F.col('vacina'))))"
   ]
  },
  {
   "cell_type": "code",
   "execution_count": 198,
   "metadata": {
    "scrolled": false
   },
   "outputs": [
    {
     "name": "stdout",
     "output_type": "stream",
     "text": [
      "+--------------------+--------------------+----------+--------------------+-------+--------------------+--------------+--------------------+-----+\n",
      "|                  id|             1ª Dose|1º Reforço|             2ª Dose|3ª Dose|                Dose|Dose Adicional|             Reforço|Única|\n",
      "+--------------------+--------------------+----------+--------------------+-------+--------------------+--------------+--------------------+-----+\n",
      "|006bf37a76ceece6f...|2021-07-28,COVID-...|          |2021-08-25,COVID-...|       |                    |              |2022-01-13,COVID-...|     |\n",
      "|00904c41c8137ce84...|2021-11-09,COVID-...|          |2022-01-10,COVID-...|       |                    |              |                    |     |\n",
      "|00c5adb9ab260c13e...|2021-07-21,COVID-...|          |2021-10-13,COVID-...|       |                    |              |                    |     |\n",
      "|01066bc874631f9c4...|2022-02-02,COVID-...|          |                    |       |                    |              |                    |     |\n",
      "|017cb38d070861435...|2021-08-11,COVID-...|          |                    |       |                    |              |                    |     |\n",
      "|018cfd16238ce3608...|                    |          |2021-09-03,COVID-...|       |                    |              |2022-01-05,COVID-...|     |\n",
      "|01e967285e4049793...|                    |          |                    |       |2021-07-07,COVID-...|              |2022-02-04,COVID-...|     |\n",
      "|01f5f5b3ecf343ba2...|2021-08-04,COVID-...|          |2022-01-03,COVID-...|       |                    |              |                    |     |\n",
      "|040880648022a4527...|2021-08-05,COVID-...|          |2021-10-18,COVID-...|       |                    |              |                    |     |\n",
      "|04a755126c810a96d...|2021-08-09,COVID-...|          |2021-11-16,COVID-...|       |                    |              |                    |     |\n",
      "|04c40fd7b6065a705...|2021-11-11,COVID-...|          |                    |       |                    |              |                    |     |\n",
      "|065b2d393189b5e71...|2021-05-03,COVID-...|          |2021-08-03,COVID-...|       |                    |              |2021-12-21,COVID-...|     |\n",
      "|06f6ae4fcd3afdab1...|2021-06-04,COVID-...|          |2021-09-03,COVID-...|       |                    |              |                    |     |\n",
      "|074a2fe630396a826...|2021-10-21,COVID-...|          |2021-12-14,COVID-...|       |                    |              |                    |     |\n",
      "|098a540af6fdd4bae...|2021-04-19,COVID-...|          |2021-07-12,COVID-...|       |                    |              |2021-12-13,COVID-...|     |\n",
      "|0996f7dfb57b96879...|2021-07-28,COVID-...|          |2021-08-25,COVID-...|       |                    |              |2022-01-20,COVID-...|     |\n",
      "|0c228876a03201e52...|2021-03-23,COVID-...|          |2021-06-15,COVID-...|       |                    |              |                    |     |\n",
      "|0c4b43194ca9e4ea3...|2021-04-05,COVID-...|          |2021-05-17,COVID-...|       |                    |              |2021-11-22,COVID-...|     |\n",
      "|0c8944f6ef58dd976...|2021-09-29,COVID-...|          |                    |       |                    |              |                    |     |\n",
      "|0da86a1a54f326d9c...|2021-07-23,COVID-...|          |2021-10-15,COVID-...|       |                    |              |                    |     |\n",
      "+--------------------+--------------------+----------+--------------------+-------+--------------------+--------------+--------------------+-----+\n",
      "only showing top 20 rows\n",
      "\n"
     ]
    }
   ],
   "source": [
    "df_dose.show()"
   ]
  },
  {
   "cell_type": "code",
   "execution_count": 199,
   "metadata": {},
   "outputs": [
    {
     "data": {
      "text/plain": [
       "['id',\n",
       " '1ª Dose',\n",
       " '1º Reforço',\n",
       " '2ª Dose',\n",
       " '3ª Dose',\n",
       " 'Dose',\n",
       " 'Dose Adicional',\n",
       " 'Reforço',\n",
       " 'Única']"
      ]
     },
     "execution_count": 199,
     "metadata": {},
     "output_type": "execute_result"
    }
   ],
   "source": [
    "df_dose.columns"
   ]
  },
  {
   "cell_type": "code",
   "execution_count": 194,
   "metadata": {},
   "outputs": [
    {
     "ename": "AnalysisException",
     "evalue": "cannot resolve '`2a dose`' given input columns: [1ª Dose, 1º Reforço, 2ª Dose, 3ª Dose, Dose, Dose Adicional, Reforço, id, Única];\n'Project [id#10226, 1ª Dose#109831, 1º Reforço#109834, 2ª Dose#109837, 3ª Dose#109840, Dose#109843, Dose Adicional#109846, Reforço#109849, Única#109852, CASE WHEN ((((isnull('2a dose) AND isnull('1o reforco)) AND isnull('reforco)) AND isnull('3a dose)) AND isnull(dose adicional#109846)) THEN CASE WHEN isnotnull('1a dose) THEN '1a dose WHEN isnotnull('dose inicial) THEN 'dose inicial WHEN (isnotnull('dose inicial) AND isnotnull('1a dose)) THEN '1a dose END END AS prim_dose#109968]\n+- Aggregate [id#10226], [id#10226, concat_ws(,, first(if ((dose#10490 <=> cast(1ª Dose as string))) data#10457 else cast(null as string), true), first(if ((dose#10490 <=> cast(1ª Dose as string))) vacina#10556 else cast(null as string), true)) AS 1ª Dose#109831, concat_ws(,, first(if ((dose#10490 <=> cast(1º Reforço as string))) data#10457 else cast(null as string), true), first(if ((dose#10490 <=> cast(1º Reforço as string))) vacina#10556 else cast(null as string), true)) AS 1º Reforço#109834, concat_ws(,, first(if ((dose#10490 <=> cast(2ª Dose as string))) data#10457 else cast(null as string), true), first(if ((dose#10490 <=> cast(2ª Dose as string))) vacina#10556 else cast(null as string), true)) AS 2ª Dose#109837, concat_ws(,, first(if ((dose#10490 <=> cast(3ª Dose as string))) data#10457 else cast(null as string), true), first(if ((dose#10490 <=> cast(3ª Dose as string))) vacina#10556 else cast(null as string), true)) AS 3ª Dose#109840, concat_ws(,, first(if ((dose#10490 <=> cast(Dose as string))) data#10457 else cast(null as string), true), first(if ((dose#10490 <=> cast(Dose as string))) vacina#10556 else cast(null as string), true)) AS Dose#109843, concat_ws(,, first(if ((dose#10490 <=> cast(Dose Adicional as string))) data#10457 else cast(null as string), true), first(if ((dose#10490 <=> cast(Dose Adicional as string))) vacina#10556 else cast(null as string), true)) AS Dose Adicional#109846, concat_ws(,, first(if ((dose#10490 <=> cast(Reforço as string))) data#10457 else cast(null as string), true), first(if ((dose#10490 <=> cast(Reforço as string))) vacina#10556 else cast(null as string), true)) AS Reforço#109849, concat_ws(,, first(if ((dose#10490 <=> cast(Única as string))) data#10457 else cast(null as string), true), first(if ((dose#10490 <=> cast(Única as string))) vacina#10556 else cast(null as string), true)) AS Única#109852]\n   +- Project [data#10457, id#10226, idade#10259, sexo#10292, raca#10325, uf_res#10424, nome_mun_res#10391, mun_res#10358, vacina#10556, dose#10490, faixa#10827]\n      +- Filter (data#10457 <= 2022-02-07)\n         +- Project [document_id#10162, id#10226, idade#10259, paciente_dataNascimento#10165, sexo#10292, raca#10325, paciente_racaCor_valor#10168, mun_res#10358, paciente_endereco_coPais#10170, nome_mun_res#10391, paciente_endereco_nmPais#10172, uf_res#10424, paciente_endereco_cep#10174, paciente_nacionalidade_enumNacionalidade#10175, estabelecimento_valor#10176, estabelecimento_razaoSocial#10177, estalecimento_noFantasia#10178, estabelecimento_municipio_codigo#10179, estabelecimento_municipio_nome#10180, estabelecimento_uf#10181, vacina_grupoAtendimento_codigo#10182, vacina_grupoAtendimento_nome#10183, vacina_categoria_codigo#10184, vacina_categoria_nome#10185, ... 9 more fields]\n            +- Project [document_id#10162, id#10226, idade#10259, paciente_dataNascimento#10165, sexo#10292, raca#10325, paciente_racaCor_valor#10168, mun_res#10358, paciente_endereco_coPais#10170, nome_mun_res#10391, paciente_endereco_nmPais#10172, uf_res#10424, paciente_endereco_cep#10174, paciente_nacionalidade_enumNacionalidade#10175, estabelecimento_valor#10176, estabelecimento_razaoSocial#10177, estalecimento_noFantasia#10178, estabelecimento_municipio_codigo#10179, estabelecimento_municipio_nome#10180, estabelecimento_uf#10181, vacina_grupoAtendimento_codigo#10182, vacina_grupoAtendimento_nome#10183, vacina_categoria_codigo#10184, vacina_categoria_nome#10185, ... 9 more fields]\n               +- Project [document_id#10162, id#10226, idade#10259, paciente_dataNascimento#10165, sexo#10292, raca#10325, paciente_racaCor_valor#10168, mun_res#10358, paciente_endereco_coPais#10170, nome_mun_res#10391, paciente_endereco_nmPais#10172, uf_res#10424, paciente_endereco_cep#10174, paciente_nacionalidade_enumNacionalidade#10175, estabelecimento_valor#10176, estabelecimento_razaoSocial#10177, estalecimento_noFantasia#10178, estabelecimento_municipio_codigo#10179, estabelecimento_municipio_nome#10180, estabelecimento_uf#10181, vacina_grupoAtendimento_codigo#10182, vacina_grupoAtendimento_nome#10183, vacina_categoria_codigo#10184, vacina_categoria_nome#10185, ... 9 more fields]\n                  +- Project [document_id#10162, id#10226, idade#10259, paciente_dataNascimento#10165, sexo#10292, raca#10325, paciente_racaCor_valor#10168, mun_res#10358, paciente_endereco_coPais#10170, nome_mun_res#10391, paciente_endereco_nmPais#10172, uf_res#10424, paciente_endereco_cep#10174, paciente_nacionalidade_enumNacionalidade#10175, estabelecimento_valor#10176, estabelecimento_razaoSocial#10177, estalecimento_noFantasia#10178, estabelecimento_municipio_codigo#10179, estabelecimento_municipio_nome#10180, estabelecimento_uf#10181, vacina_grupoAtendimento_codigo#10182, vacina_grupoAtendimento_nome#10183, vacina_categoria_codigo#10184, vacina_categoria_nome#10185, ... 9 more fields]\n                     +- Project [document_id#10162, id#10226, idade#10259, paciente_dataNascimento#10165, sexo#10292, raca#10325, paciente_racaCor_valor#10168, mun_res#10358, paciente_endereco_coPais#10170, nome_mun_res#10391, paciente_endereco_nmPais#10172, uf_res#10424, paciente_endereco_cep#10174, paciente_nacionalidade_enumNacionalidade#10175, estabelecimento_valor#10176, estabelecimento_razaoSocial#10177, estalecimento_noFantasia#10178, estabelecimento_municipio_codigo#10179, estabelecimento_municipio_nome#10180, estabelecimento_uf#10181, vacina_grupoAtendimento_codigo#10182, vacina_grupoAtendimento_nome#10183, vacina_categoria_codigo#10184, vacina_categoria_nome#10185, ... 9 more fields]\n                        +- Project [document_id#10162, id#10226, idade#10259, paciente_dataNascimento#10165, sexo#10292, raca#10325, paciente_racaCor_valor#10168, mun_res#10358, paciente_endereco_coPais#10170, nome_mun_res#10391, paciente_endereco_nmPais#10172, uf_res#10424, paciente_endereco_cep#10174, paciente_nacionalidade_enumNacionalidade#10175, estabelecimento_valor#10176, estabelecimento_razaoSocial#10177, estalecimento_noFantasia#10178, estabelecimento_municipio_codigo#10179, estabelecimento_municipio_nome#10180, estabelecimento_uf#10181, vacina_grupoAtendimento_codigo#10182, vacina_grupoAtendimento_nome#10183, vacina_categoria_codigo#10184, vacina_categoria_nome#10185, ... 9 more fields]\n                           +- Project [document_id#10162, id#10226, idade#10259, paciente_dataNascimento#10165, sexo#10292, raca#10325, paciente_racaCor_valor#10168, mun_res#10358, paciente_endereco_coPais#10170, nome_mun_res#10391, paciente_endereco_nmPais#10172, uf_res#10424, paciente_endereco_cep#10174, paciente_nacionalidade_enumNacionalidade#10175, estabelecimento_valor#10176, estabelecimento_razaoSocial#10177, estalecimento_noFantasia#10178, estabelecimento_municipio_codigo#10179, estabelecimento_municipio_nome#10180, estabelecimento_uf#10181, vacina_grupoAtendimento_codigo#10182, vacina_grupoAtendimento_nome#10183, vacina_categoria_codigo#10184, vacina_categoria_nome#10185, ... 9 more fields]\n                              +- Project [document_id#10162, id#10226, idade#10259, paciente_dataNascimento#10165, sexo#10292, raca#10325, paciente_racaCor_valor#10168, mun_res#10358, paciente_endereco_coPais#10170, nome_mun_res#10391, paciente_endereco_nmPais#10172, uf_res#10424, paciente_endereco_cep#10174, paciente_nacionalidade_enumNacionalidade#10175, estabelecimento_valor#10176, estabelecimento_razaoSocial#10177, estalecimento_noFantasia#10178, estabelecimento_municipio_codigo#10179, estabelecimento_municipio_nome#10180, estabelecimento_uf#10181, vacina_grupoAtendimento_codigo#10182, vacina_grupoAtendimento_nome#10183, vacina_categoria_codigo#10184, vacina_categoria_nome#10185, ... 9 more fields]\n                                 +- Project [document_id#10162, id#10226, idade#10259, paciente_dataNascimento#10165, sexo#10292, raca#10325, paciente_racaCor_valor#10168, mun_res#10358, paciente_endereco_coPais#10170, nome_mun_res#10391, paciente_endereco_nmPais#10172, uf_res#10424, paciente_endereco_cep#10174, paciente_nacionalidade_enumNacionalidade#10175, estabelecimento_valor#10176, estabelecimento_razaoSocial#10177, estalecimento_noFantasia#10178, estabelecimento_municipio_codigo#10179, estabelecimento_municipio_nome#10180, estabelecimento_uf#10181, vacina_grupoAtendimento_codigo#10182, vacina_grupoAtendimento_nome#10183, vacina_categoria_codigo#10184, vacina_categoria_nome#10185, ... 8 more fields]\n                                    +- Project [document_id#10162, id#10226, idade#10259, paciente_dataNascimento#10165, sexo#10292, raca#10325, paciente_racaCor_valor#10168, mun_res#10358, paciente_endereco_coPais#10170, nome_mun_res#10391, paciente_endereco_nmPais#10172, uf_res#10424, paciente_endereco_cep#10174, paciente_nacionalidade_enumNacionalidade#10175, estabelecimento_valor#10176, estabelecimento_razaoSocial#10177, estalecimento_noFantasia#10178, estabelecimento_municipio_codigo#10179, estabelecimento_municipio_nome#10180, estabelecimento_uf#10181, vacina_grupoAtendimento_codigo#10182, vacina_grupoAtendimento_nome#10183, vacina_categoria_codigo#10184, vacina_categoria_nome#10185, ... 8 more fields]\n                                       +- Project [document_id#10162, id#10226, idade#10259, paciente_dataNascimento#10165, sexo#10292, raca#10325, paciente_racaCor_valor#10168, mun_res#10358, paciente_endereco_coPais#10170, nome_mun_res#10391, paciente_endereco_nmPais#10172, uf_res#10424, paciente_endereco_cep#10174, paciente_nacionalidade_enumNacionalidade#10175, estabelecimento_valor#10176, estabelecimento_razaoSocial#10177, estalecimento_noFantasia#10178, estabelecimento_municipio_codigo#10179, estabelecimento_municipio_nome#10180, estabelecimento_uf#10181, vacina_grupoAtendimento_codigo#10182, vacina_grupoAtendimento_nome#10183, vacina_categoria_codigo#10184, vacina_categoria_nome#10185, ... 8 more fields]\n                                          +- Project [document_id#10162, id#10226, idade#10259, paciente_dataNascimento#10165, sexo#10292, raca#10325, paciente_racaCor_valor#10168, mun_res#10358, paciente_endereco_coPais#10170, nome_mun_res#10391, paciente_endereco_nmPais#10172, uf_res#10424, paciente_endereco_cep#10174, paciente_nacionalidade_enumNacionalidade#10175, estabelecimento_valor#10176, estabelecimento_razaoSocial#10177, estalecimento_noFantasia#10178, estabelecimento_municipio_codigo#10179, estabelecimento_municipio_nome#10180, estabelecimento_uf#10181, vacina_grupoAtendimento_codigo#10182, vacina_grupoAtendimento_nome#10183, vacina_categoria_codigo#10184, vacina_categoria_nome#10185, ... 8 more fields]\n                                             +- Project [document_id#10162, id#10226, idade#10259, paciente_dataNascimento#10165, sexo#10292, raca#10325, paciente_racaCor_valor#10168, mun_res#10358, paciente_endereco_coPais#10170, nome_mun_res#10391, paciente_endereco_nmPais#10172, paciente_endereco_uf#10173 AS uf_res#10424, paciente_endereco_cep#10174, paciente_nacionalidade_enumNacionalidade#10175, estabelecimento_valor#10176, estabelecimento_razaoSocial#10177, estalecimento_noFantasia#10178, estabelecimento_municipio_codigo#10179, estabelecimento_municipio_nome#10180, estabelecimento_uf#10181, vacina_grupoAtendimento_codigo#10182, vacina_grupoAtendimento_nome#10183, vacina_categoria_codigo#10184, vacina_categoria_nome#10185, ... 8 more fields]\n                                                +- Project [document_id#10162, id#10226, idade#10259, paciente_dataNascimento#10165, sexo#10292, raca#10325, paciente_racaCor_valor#10168, mun_res#10358, paciente_endereco_coPais#10170, paciente_endereco_nmMunicipio#10171 AS nome_mun_res#10391, paciente_endereco_nmPais#10172, paciente_endereco_uf#10173, paciente_endereco_cep#10174, paciente_nacionalidade_enumNacionalidade#10175, estabelecimento_valor#10176, estabelecimento_razaoSocial#10177, estalecimento_noFantasia#10178, estabelecimento_municipio_codigo#10179, estabelecimento_municipio_nome#10180, estabelecimento_uf#10181, vacina_grupoAtendimento_codigo#10182, vacina_grupoAtendimento_nome#10183, vacina_categoria_codigo#10184, vacina_categoria_nome#10185, ... 8 more fields]\n                                                   +- Project [document_id#10162, id#10226, idade#10259, paciente_dataNascimento#10165, sexo#10292, raca#10325, paciente_racaCor_valor#10168, paciente_endereco_coIbgeMunicipio#10169 AS mun_res#10358, paciente_endereco_coPais#10170, paciente_endereco_nmMunicipio#10171, paciente_endereco_nmPais#10172, paciente_endereco_uf#10173, paciente_endereco_cep#10174, paciente_nacionalidade_enumNacionalidade#10175, estabelecimento_valor#10176, estabelecimento_razaoSocial#10177, estalecimento_noFantasia#10178, estabelecimento_municipio_codigo#10179, estabelecimento_municipio_nome#10180, estabelecimento_uf#10181, vacina_grupoAtendimento_codigo#10182, vacina_grupoAtendimento_nome#10183, vacina_categoria_codigo#10184, vacina_categoria_nome#10185, ... 8 more fields]\n                                                      +- Project [document_id#10162, id#10226, idade#10259, paciente_dataNascimento#10165, sexo#10292, paciente_racaCor_codigo#10167 AS raca#10325, paciente_racaCor_valor#10168, paciente_endereco_coIbgeMunicipio#10169, paciente_endereco_coPais#10170, paciente_endereco_nmMunicipio#10171, paciente_endereco_nmPais#10172, paciente_endereco_uf#10173, paciente_endereco_cep#10174, paciente_nacionalidade_enumNacionalidade#10175, estabelecimento_valor#10176, estabelecimento_razaoSocial#10177, estalecimento_noFantasia#10178, estabelecimento_municipio_codigo#10179, estabelecimento_municipio_nome#10180, estabelecimento_uf#10181, vacina_grupoAtendimento_codigo#10182, vacina_grupoAtendimento_nome#10183, vacina_categoria_codigo#10184, vacina_categoria_nome#10185, ... 8 more fields]\n                                                         +- Project [document_id#10162, id#10226, idade#10259, paciente_dataNascimento#10165, paciente_enumSexoBiologico#10166 AS sexo#10292, paciente_racaCor_codigo#10167, paciente_racaCor_valor#10168, paciente_endereco_coIbgeMunicipio#10169, paciente_endereco_coPais#10170, paciente_endereco_nmMunicipio#10171, paciente_endereco_nmPais#10172, paciente_endereco_uf#10173, paciente_endereco_cep#10174, paciente_nacionalidade_enumNacionalidade#10175, estabelecimento_valor#10176, estabelecimento_razaoSocial#10177, estalecimento_noFantasia#10178, estabelecimento_municipio_codigo#10179, estabelecimento_municipio_nome#10180, estabelecimento_uf#10181, vacina_grupoAtendimento_codigo#10182, vacina_grupoAtendimento_nome#10183, vacina_categoria_codigo#10184, vacina_categoria_nome#10185, ... 8 more fields]\n                                                            +- Project [document_id#10162, id#10226, paciente_idade#10164 AS idade#10259, paciente_dataNascimento#10165, paciente_enumSexoBiologico#10166, paciente_racaCor_codigo#10167, paciente_racaCor_valor#10168, paciente_endereco_coIbgeMunicipio#10169, paciente_endereco_coPais#10170, paciente_endereco_nmMunicipio#10171, paciente_endereco_nmPais#10172, paciente_endereco_uf#10173, paciente_endereco_cep#10174, paciente_nacionalidade_enumNacionalidade#10175, estabelecimento_valor#10176, estabelecimento_razaoSocial#10177, estalecimento_noFantasia#10178, estabelecimento_municipio_codigo#10179, estabelecimento_municipio_nome#10180, estabelecimento_uf#10181, vacina_grupoAtendimento_codigo#10182, vacina_grupoAtendimento_nome#10183, vacina_categoria_codigo#10184, vacina_categoria_nome#10185, ... 8 more fields]\n                                                               +- Project [document_id#10162, paciente_id#10163 AS id#10226, paciente_idade#10164, paciente_dataNascimento#10165, paciente_enumSexoBiologico#10166, paciente_racaCor_codigo#10167, paciente_racaCor_valor#10168, paciente_endereco_coIbgeMunicipio#10169, paciente_endereco_coPais#10170, paciente_endereco_nmMunicipio#10171, paciente_endereco_nmPais#10172, paciente_endereco_uf#10173, paciente_endereco_cep#10174, paciente_nacionalidade_enumNacionalidade#10175, estabelecimento_valor#10176, estabelecimento_razaoSocial#10177, estalecimento_noFantasia#10178, estabelecimento_municipio_codigo#10179, estabelecimento_municipio_nome#10180, estabelecimento_uf#10181, vacina_grupoAtendimento_codigo#10182, vacina_grupoAtendimento_nome#10183, vacina_categoria_codigo#10184, vacina_categoria_nome#10185, ... 8 more fields]\n                                                                  +- Relation[document_id#10162,paciente_id#10163,paciente_idade#10164,paciente_dataNascimento#10165,paciente_enumSexoBiologico#10166,paciente_racaCor_codigo#10167,paciente_racaCor_valor#10168,paciente_endereco_coIbgeMunicipio#10169,paciente_endereco_coPais#10170,paciente_endereco_nmMunicipio#10171,paciente_endereco_nmPais#10172,paciente_endereco_uf#10173,paciente_endereco_cep#10174,paciente_nacionalidade_enumNacionalidade#10175,estabelecimento_valor#10176,estabelecimento_razaoSocial#10177,estalecimento_noFantasia#10178,estabelecimento_municipio_codigo#10179,estabelecimento_municipio_nome#10180,estabelecimento_uf#10181,vacina_grupoAtendimento_codigo#10182,vacina_grupoAtendimento_nome#10183,vacina_categoria_codigo#10184,vacina_categoria_nome#10185,... 8 more fields] csv\n",
     "output_type": "error",
     "traceback": [
      "\u001b[0;31m---------------------------------------------------------------------------\u001b[0m",
      "\u001b[0;31mAnalysisException\u001b[0m                         Traceback (most recent call last)",
      "\u001b[0;32m<ipython-input-194-5dae0cb348dc>\u001b[0m in \u001b[0;36m<module>\u001b[0;34m\u001b[0m\n\u001b[0;32m----> 1\u001b[0;31m df_dose = df_dose.withColumn(\n\u001b[0m\u001b[1;32m      2\u001b[0m     \u001b[0;34m'prim_dose'\u001b[0m\u001b[0;34m,\u001b[0m\u001b[0;34m\u001b[0m\u001b[0;34m\u001b[0m\u001b[0m\n\u001b[1;32m      3\u001b[0m     F.when(\n\u001b[1;32m      4\u001b[0m         \u001b[0;34m(\u001b[0m\u001b[0mF\u001b[0m\u001b[0;34m.\u001b[0m\u001b[0mcol\u001b[0m\u001b[0;34m(\u001b[0m\u001b[0;34m'2a dose'\u001b[0m\u001b[0;34m)\u001b[0m\u001b[0;34m.\u001b[0m\u001b[0misNull\u001b[0m\u001b[0;34m(\u001b[0m\u001b[0;34m)\u001b[0m\u001b[0;34m)\u001b[0m \u001b[0;34m&\u001b[0m\u001b[0;34m\u001b[0m\u001b[0;34m\u001b[0m\u001b[0m\n\u001b[1;32m      5\u001b[0m         \u001b[0;34m(\u001b[0m\u001b[0mF\u001b[0m\u001b[0;34m.\u001b[0m\u001b[0mcol\u001b[0m\u001b[0;34m(\u001b[0m\u001b[0;34m'1o reforco'\u001b[0m\u001b[0;34m)\u001b[0m\u001b[0;34m.\u001b[0m\u001b[0misNull\u001b[0m\u001b[0;34m(\u001b[0m\u001b[0;34m)\u001b[0m\u001b[0;34m)\u001b[0m \u001b[0;34m&\u001b[0m\u001b[0;34m\u001b[0m\u001b[0;34m\u001b[0m\u001b[0m\n",
      "\u001b[0;32m~/opt/anaconda3/lib/python3.8/site-packages/pyspark/sql/dataframe.py\u001b[0m in \u001b[0;36mwithColumn\u001b[0;34m(self, colName, col)\u001b[0m\n\u001b[1;32m   2453\u001b[0m         \"\"\"\n\u001b[1;32m   2454\u001b[0m         \u001b[0;32massert\u001b[0m \u001b[0misinstance\u001b[0m\u001b[0;34m(\u001b[0m\u001b[0mcol\u001b[0m\u001b[0;34m,\u001b[0m \u001b[0mColumn\u001b[0m\u001b[0;34m)\u001b[0m\u001b[0;34m,\u001b[0m \u001b[0;34m\"col should be Column\"\u001b[0m\u001b[0;34m\u001b[0m\u001b[0;34m\u001b[0m\u001b[0m\n\u001b[0;32m-> 2455\u001b[0;31m         \u001b[0;32mreturn\u001b[0m \u001b[0mDataFrame\u001b[0m\u001b[0;34m(\u001b[0m\u001b[0mself\u001b[0m\u001b[0;34m.\u001b[0m\u001b[0m_jdf\u001b[0m\u001b[0;34m.\u001b[0m\u001b[0mwithColumn\u001b[0m\u001b[0;34m(\u001b[0m\u001b[0mcolName\u001b[0m\u001b[0;34m,\u001b[0m \u001b[0mcol\u001b[0m\u001b[0;34m.\u001b[0m\u001b[0m_jc\u001b[0m\u001b[0;34m)\u001b[0m\u001b[0;34m,\u001b[0m \u001b[0mself\u001b[0m\u001b[0;34m.\u001b[0m\u001b[0msql_ctx\u001b[0m\u001b[0;34m)\u001b[0m\u001b[0;34m\u001b[0m\u001b[0;34m\u001b[0m\u001b[0m\n\u001b[0m\u001b[1;32m   2456\u001b[0m \u001b[0;34m\u001b[0m\u001b[0m\n\u001b[1;32m   2457\u001b[0m     \u001b[0;32mdef\u001b[0m \u001b[0mwithColumnRenamed\u001b[0m\u001b[0;34m(\u001b[0m\u001b[0mself\u001b[0m\u001b[0;34m,\u001b[0m \u001b[0mexisting\u001b[0m\u001b[0;34m,\u001b[0m \u001b[0mnew\u001b[0m\u001b[0;34m)\u001b[0m\u001b[0;34m:\u001b[0m\u001b[0;34m\u001b[0m\u001b[0;34m\u001b[0m\u001b[0m\n",
      "\u001b[0;32m~/opt/anaconda3/lib/python3.8/site-packages/py4j/java_gateway.py\u001b[0m in \u001b[0;36m__call__\u001b[0;34m(self, *args)\u001b[0m\n\u001b[1;32m   1302\u001b[0m \u001b[0;34m\u001b[0m\u001b[0m\n\u001b[1;32m   1303\u001b[0m         \u001b[0manswer\u001b[0m \u001b[0;34m=\u001b[0m \u001b[0mself\u001b[0m\u001b[0;34m.\u001b[0m\u001b[0mgateway_client\u001b[0m\u001b[0;34m.\u001b[0m\u001b[0msend_command\u001b[0m\u001b[0;34m(\u001b[0m\u001b[0mcommand\u001b[0m\u001b[0;34m)\u001b[0m\u001b[0;34m\u001b[0m\u001b[0;34m\u001b[0m\u001b[0m\n\u001b[0;32m-> 1304\u001b[0;31m         return_value = get_return_value(\n\u001b[0m\u001b[1;32m   1305\u001b[0m             answer, self.gateway_client, self.target_id, self.name)\n\u001b[1;32m   1306\u001b[0m \u001b[0;34m\u001b[0m\u001b[0m\n",
      "\u001b[0;32m~/opt/anaconda3/lib/python3.8/site-packages/pyspark/sql/utils.py\u001b[0m in \u001b[0;36mdeco\u001b[0;34m(*a, **kw)\u001b[0m\n\u001b[1;32m    115\u001b[0m                 \u001b[0;31m# Hide where the exception came from that shows a non-Pythonic\u001b[0m\u001b[0;34m\u001b[0m\u001b[0;34m\u001b[0m\u001b[0;34m\u001b[0m\u001b[0m\n\u001b[1;32m    116\u001b[0m                 \u001b[0;31m# JVM exception message.\u001b[0m\u001b[0;34m\u001b[0m\u001b[0;34m\u001b[0m\u001b[0;34m\u001b[0m\u001b[0m\n\u001b[0;32m--> 117\u001b[0;31m                 \u001b[0;32mraise\u001b[0m \u001b[0mconverted\u001b[0m \u001b[0;32mfrom\u001b[0m \u001b[0;32mNone\u001b[0m\u001b[0;34m\u001b[0m\u001b[0;34m\u001b[0m\u001b[0m\n\u001b[0m\u001b[1;32m    118\u001b[0m             \u001b[0;32melse\u001b[0m\u001b[0;34m:\u001b[0m\u001b[0;34m\u001b[0m\u001b[0;34m\u001b[0m\u001b[0m\n\u001b[1;32m    119\u001b[0m                 \u001b[0;32mraise\u001b[0m\u001b[0;34m\u001b[0m\u001b[0;34m\u001b[0m\u001b[0m\n",
      "\u001b[0;31mAnalysisException\u001b[0m: cannot resolve '`2a dose`' given input columns: [1ª Dose, 1º Reforço, 2ª Dose, 3ª Dose, Dose, Dose Adicional, Reforço, id, Única];\n'Project [id#10226, 1ª Dose#109831, 1º Reforço#109834, 2ª Dose#109837, 3ª Dose#109840, Dose#109843, Dose Adicional#109846, Reforço#109849, Única#109852, CASE WHEN ((((isnull('2a dose) AND isnull('1o reforco)) AND isnull('reforco)) AND isnull('3a dose)) AND isnull(dose adicional#109846)) THEN CASE WHEN isnotnull('1a dose) THEN '1a dose WHEN isnotnull('dose inicial) THEN 'dose inicial WHEN (isnotnull('dose inicial) AND isnotnull('1a dose)) THEN '1a dose END END AS prim_dose#109968]\n+- Aggregate [id#10226], [id#10226, concat_ws(,, first(if ((dose#10490 <=> cast(1ª Dose as string))) data#10457 else cast(null as string), true), first(if ((dose#10490 <=> cast(1ª Dose as string))) vacina#10556 else cast(null as string), true)) AS 1ª Dose#109831, concat_ws(,, first(if ((dose#10490 <=> cast(1º Reforço as string))) data#10457 else cast(null as string), true), first(if ((dose#10490 <=> cast(1º Reforço as string))) vacina#10556 else cast(null as string), true)) AS 1º Reforço#109834, concat_ws(,, first(if ((dose#10490 <=> cast(2ª Dose as string))) data#10457 else cast(null as string), true), first(if ((dose#10490 <=> cast(2ª Dose as string))) vacina#10556 else cast(null as string), true)) AS 2ª Dose#109837, concat_ws(,, first(if ((dose#10490 <=> cast(3ª Dose as string))) data#10457 else cast(null as string), true), first(if ((dose#10490 <=> cast(3ª Dose as string))) vacina#10556 else cast(null as string), true)) AS 3ª Dose#109840, concat_ws(,, first(if ((dose#10490 <=> cast(Dose as string))) data#10457 else cast(null as string), true), first(if ((dose#10490 <=> cast(Dose as string))) vacina#10556 else cast(null as string), true)) AS Dose#109843, concat_ws(,, first(if ((dose#10490 <=> cast(Dose Adicional as string))) data#10457 else cast(null as string), true), first(if ((dose#10490 <=> cast(Dose Adicional as string))) vacina#10556 else cast(null as string), true)) AS Dose Adicional#109846, concat_ws(,, first(if ((dose#10490 <=> cast(Reforço as string))) data#10457 else cast(null as string), true), first(if ((dose#10490 <=> cast(Reforço as string))) vacina#10556 else cast(null as string), true)) AS Reforço#109849, concat_ws(,, first(if ((dose#10490 <=> cast(Única as string))) data#10457 else cast(null as string), true), first(if ((dose#10490 <=> cast(Única as string))) vacina#10556 else cast(null as string), true)) AS Única#109852]\n   +- Project [data#10457, id#10226, idade#10259, sexo#10292, raca#10325, uf_res#10424, nome_mun_res#10391, mun_res#10358, vacina#10556, dose#10490, faixa#10827]\n      +- Filter (data#10457 <= 2022-02-07)\n         +- Project [document_id#10162, id#10226, idade#10259, paciente_dataNascimento#10165, sexo#10292, raca#10325, paciente_racaCor_valor#10168, mun_res#10358, paciente_endereco_coPais#10170, nome_mun_res#10391, paciente_endereco_nmPais#10172, uf_res#10424, paciente_endereco_cep#10174, paciente_nacionalidade_enumNacionalidade#10175, estabelecimento_valor#10176, estabelecimento_razaoSocial#10177, estalecimento_noFantasia#10178, estabelecimento_municipio_codigo#10179, estabelecimento_municipio_nome#10180, estabelecimento_uf#10181, vacina_grupoAtendimento_codigo#10182, vacina_grupoAtendimento_nome#10183, vacina_categoria_codigo#10184, vacina_categoria_nome#10185, ... 9 more fields]\n            +- Project [document_id#10162, id#10226, idade#10259, paciente_dataNascimento#10165, sexo#10292, raca#10325, paciente_racaCor_valor#10168, mun_res#10358, paciente_endereco_coPais#10170, nome_mun_res#10391, paciente_endereco_nmPais#10172, uf_res#10424, paciente_endereco_cep#10174, paciente_nacionalidade_enumNacionalidade#10175, estabelecimento_valor#10176, estabelecimento_razaoSocial#10177, estalecimento_noFantasia#10178, estabelecimento_municipio_codigo#10179, estabelecimento_municipio_nome#10180, estabelecimento_uf#10181, vacina_grupoAtendimento_codigo#10182, vacina_grupoAtendimento_nome#10183, vacina_categoria_codigo#10184, vacina_categoria_nome#10185, ... 9 more fields]\n               +- Project [document_id#10162, id#10226, idade#10259, paciente_dataNascimento#10165, sexo#10292, raca#10325, paciente_racaCor_valor#10168, mun_res#10358, paciente_endereco_coPais#10170, nome_mun_res#10391, paciente_endereco_nmPais#10172, uf_res#10424, paciente_endereco_cep#10174, paciente_nacionalidade_enumNacionalidade#10175, estabelecimento_valor#10176, estabelecimento_razaoSocial#10177, estalecimento_noFantasia#10178, estabelecimento_municipio_codigo#10179, estabelecimento_municipio_nome#10180, estabelecimento_uf#10181, vacina_grupoAtendimento_codigo#10182, vacina_grupoAtendimento_nome#10183, vacina_categoria_codigo#10184, vacina_categoria_nome#10185, ... 9 more fields]\n                  +- Project [document_id#10162, id#10226, idade#10259, paciente_dataNascimento#10165, sexo#10292, raca#10325, paciente_racaCor_valor#10168, mun_res#10358, paciente_endereco_coPais#10170, nome_mun_res#10391, paciente_endereco_nmPais#10172, uf_res#10424, paciente_endereco_cep#10174, paciente_nacionalidade_enumNacionalidade#10175, estabelecimento_valor#10176, estabelecimento_razaoSocial#10177, estalecimento_noFantasia#10178, estabelecimento_municipio_codigo#10179, estabelecimento_municipio_nome#10180, estabelecimento_uf#10181, vacina_grupoAtendimento_codigo#10182, vacina_grupoAtendimento_nome#10183, vacina_categoria_codigo#10184, vacina_categoria_nome#10185, ... 9 more fields]\n                     +- Project [document_id#10162, id#10226, idade#10259, paciente_dataNascimento#10165, sexo#10292, raca#10325, paciente_racaCor_valor#10168, mun_res#10358, paciente_endereco_coPais#10170, nome_mun_res#10391, paciente_endereco_nmPais#10172, uf_res#10424, paciente_endereco_cep#10174, paciente_nacionalidade_enumNacionalidade#10175, estabelecimento_valor#10176, estabelecimento_razaoSocial#10177, estalecimento_noFantasia#10178, estabelecimento_municipio_codigo#10179, estabelecimento_municipio_nome#10180, estabelecimento_uf#10181, vacina_grupoAtendimento_codigo#10182, vacina_grupoAtendimento_nome#10183, vacina_categoria_codigo#10184, vacina_categoria_nome#10185, ... 9 more fields]\n                        +- Project [document_id#10162, id#10226, idade#10259, paciente_dataNascimento#10165, sexo#10292, raca#10325, paciente_racaCor_valor#10168, mun_res#10358, paciente_endereco_coPais#10170, nome_mun_res#10391, paciente_endereco_nmPais#10172, uf_res#10424, paciente_endereco_cep#10174, paciente_nacionalidade_enumNacionalidade#10175, estabelecimento_valor#10176, estabelecimento_razaoSocial#10177, estalecimento_noFantasia#10178, estabelecimento_municipio_codigo#10179, estabelecimento_municipio_nome#10180, estabelecimento_uf#10181, vacina_grupoAtendimento_codigo#10182, vacina_grupoAtendimento_nome#10183, vacina_categoria_codigo#10184, vacina_categoria_nome#10185, ... 9 more fields]\n                           +- Project [document_id#10162, id#10226, idade#10259, paciente_dataNascimento#10165, sexo#10292, raca#10325, paciente_racaCor_valor#10168, mun_res#10358, paciente_endereco_coPais#10170, nome_mun_res#10391, paciente_endereco_nmPais#10172, uf_res#10424, paciente_endereco_cep#10174, paciente_nacionalidade_enumNacionalidade#10175, estabelecimento_valor#10176, estabelecimento_razaoSocial#10177, estalecimento_noFantasia#10178, estabelecimento_municipio_codigo#10179, estabelecimento_municipio_nome#10180, estabelecimento_uf#10181, vacina_grupoAtendimento_codigo#10182, vacina_grupoAtendimento_nome#10183, vacina_categoria_codigo#10184, vacina_categoria_nome#10185, ... 9 more fields]\n                              +- Project [document_id#10162, id#10226, idade#10259, paciente_dataNascimento#10165, sexo#10292, raca#10325, paciente_racaCor_valor#10168, mun_res#10358, paciente_endereco_coPais#10170, nome_mun_res#10391, paciente_endereco_nmPais#10172, uf_res#10424, paciente_endereco_cep#10174, paciente_nacionalidade_enumNacionalidade#10175, estabelecimento_valor#10176, estabelecimento_razaoSocial#10177, estalecimento_noFantasia#10178, estabelecimento_municipio_codigo#10179, estabelecimento_municipio_nome#10180, estabelecimento_uf#10181, vacina_grupoAtendimento_codigo#10182, vacina_grupoAtendimento_nome#10183, vacina_categoria_codigo#10184, vacina_categoria_nome#10185, ... 9 more fields]\n                                 +- Project [document_id#10162, id#10226, idade#10259, paciente_dataNascimento#10165, sexo#10292, raca#10325, paciente_racaCor_valor#10168, mun_res#10358, paciente_endereco_coPais#10170, nome_mun_res#10391, paciente_endereco_nmPais#10172, uf_res#10424, paciente_endereco_cep#10174, paciente_nacionalidade_enumNacionalidade#10175, estabelecimento_valor#10176, estabelecimento_razaoSocial#10177, estalecimento_noFantasia#10178, estabelecimento_municipio_codigo#10179, estabelecimento_municipio_nome#10180, estabelecimento_uf#10181, vacina_grupoAtendimento_codigo#10182, vacina_grupoAtendimento_nome#10183, vacina_categoria_codigo#10184, vacina_categoria_nome#10185, ... 8 more fields]\n                                    +- Project [document_id#10162, id#10226, idade#10259, paciente_dataNascimento#10165, sexo#10292, raca#10325, paciente_racaCor_valor#10168, mun_res#10358, paciente_endereco_coPais#10170, nome_mun_res#10391, paciente_endereco_nmPais#10172, uf_res#10424, paciente_endereco_cep#10174, paciente_nacionalidade_enumNacionalidade#10175, estabelecimento_valor#10176, estabelecimento_razaoSocial#10177, estalecimento_noFantasia#10178, estabelecimento_municipio_codigo#10179, estabelecimento_municipio_nome#10180, estabelecimento_uf#10181, vacina_grupoAtendimento_codigo#10182, vacina_grupoAtendimento_nome#10183, vacina_categoria_codigo#10184, vacina_categoria_nome#10185, ... 8 more fields]\n                                       +- Project [document_id#10162, id#10226, idade#10259, paciente_dataNascimento#10165, sexo#10292, raca#10325, paciente_racaCor_valor#10168, mun_res#10358, paciente_endereco_coPais#10170, nome_mun_res#10391, paciente_endereco_nmPais#10172, uf_res#10424, paciente_endereco_cep#10174, paciente_nacionalidade_enumNacionalidade#10175, estabelecimento_valor#10176, estabelecimento_razaoSocial#10177, estalecimento_noFantasia#10178, estabelecimento_municipio_codigo#10179, estabelecimento_municipio_nome#10180, estabelecimento_uf#10181, vacina_grupoAtendimento_codigo#10182, vacina_grupoAtendimento_nome#10183, vacina_categoria_codigo#10184, vacina_categoria_nome#10185, ... 8 more fields]\n                                          +- Project [document_id#10162, id#10226, idade#10259, paciente_dataNascimento#10165, sexo#10292, raca#10325, paciente_racaCor_valor#10168, mun_res#10358, paciente_endereco_coPais#10170, nome_mun_res#10391, paciente_endereco_nmPais#10172, uf_res#10424, paciente_endereco_cep#10174, paciente_nacionalidade_enumNacionalidade#10175, estabelecimento_valor#10176, estabelecimento_razaoSocial#10177, estalecimento_noFantasia#10178, estabelecimento_municipio_codigo#10179, estabelecimento_municipio_nome#10180, estabelecimento_uf#10181, vacina_grupoAtendimento_codigo#10182, vacina_grupoAtendimento_nome#10183, vacina_categoria_codigo#10184, vacina_categoria_nome#10185, ... 8 more fields]\n                                             +- Project [document_id#10162, id#10226, idade#10259, paciente_dataNascimento#10165, sexo#10292, raca#10325, paciente_racaCor_valor#10168, mun_res#10358, paciente_endereco_coPais#10170, nome_mun_res#10391, paciente_endereco_nmPais#10172, paciente_endereco_uf#10173 AS uf_res#10424, paciente_endereco_cep#10174, paciente_nacionalidade_enumNacionalidade#10175, estabelecimento_valor#10176, estabelecimento_razaoSocial#10177, estalecimento_noFantasia#10178, estabelecimento_municipio_codigo#10179, estabelecimento_municipio_nome#10180, estabelecimento_uf#10181, vacina_grupoAtendimento_codigo#10182, vacina_grupoAtendimento_nome#10183, vacina_categoria_codigo#10184, vacina_categoria_nome#10185, ... 8 more fields]\n                                                +- Project [document_id#10162, id#10226, idade#10259, paciente_dataNascimento#10165, sexo#10292, raca#10325, paciente_racaCor_valor#10168, mun_res#10358, paciente_endereco_coPais#10170, paciente_endereco_nmMunicipio#10171 AS nome_mun_res#10391, paciente_endereco_nmPais#10172, paciente_endereco_uf#10173, paciente_endereco_cep#10174, paciente_nacionalidade_enumNacionalidade#10175, estabelecimento_valor#10176, estabelecimento_razaoSocial#10177, estalecimento_noFantasia#10178, estabelecimento_municipio_codigo#10179, estabelecimento_municipio_nome#10180, estabelecimento_uf#10181, vacina_grupoAtendimento_codigo#10182, vacina_grupoAtendimento_nome#10183, vacina_categoria_codigo#10184, vacina_categoria_nome#10185, ... 8 more fields]\n                                                   +- Project [document_id#10162, id#10226, idade#10259, paciente_dataNascimento#10165, sexo#10292, raca#10325, paciente_racaCor_valor#10168, paciente_endereco_coIbgeMunicipio#10169 AS mun_res#10358, paciente_endereco_coPais#10170, paciente_endereco_nmMunicipio#10171, paciente_endereco_nmPais#10172, paciente_endereco_uf#10173, paciente_endereco_cep#10174, paciente_nacionalidade_enumNacionalidade#10175, estabelecimento_valor#10176, estabelecimento_razaoSocial#10177, estalecimento_noFantasia#10178, estabelecimento_municipio_codigo#10179, estabelecimento_municipio_nome#10180, estabelecimento_uf#10181, vacina_grupoAtendimento_codigo#10182, vacina_grupoAtendimento_nome#10183, vacina_categoria_codigo#10184, vacina_categoria_nome#10185, ... 8 more fields]\n                                                      +- Project [document_id#10162, id#10226, idade#10259, paciente_dataNascimento#10165, sexo#10292, paciente_racaCor_codigo#10167 AS raca#10325, paciente_racaCor_valor#10168, paciente_endereco_coIbgeMunicipio#10169, paciente_endereco_coPais#10170, paciente_endereco_nmMunicipio#10171, paciente_endereco_nmPais#10172, paciente_endereco_uf#10173, paciente_endereco_cep#10174, paciente_nacionalidade_enumNacionalidade#10175, estabelecimento_valor#10176, estabelecimento_razaoSocial#10177, estalecimento_noFantasia#10178, estabelecimento_municipio_codigo#10179, estabelecimento_municipio_nome#10180, estabelecimento_uf#10181, vacina_grupoAtendimento_codigo#10182, vacina_grupoAtendimento_nome#10183, vacina_categoria_codigo#10184, vacina_categoria_nome#10185, ... 8 more fields]\n                                                         +- Project [document_id#10162, id#10226, idade#10259, paciente_dataNascimento#10165, paciente_enumSexoBiologico#10166 AS sexo#10292, paciente_racaCor_codigo#10167, paciente_racaCor_valor#10168, paciente_endereco_coIbgeMunicipio#10169, paciente_endereco_coPais#10170, paciente_endereco_nmMunicipio#10171, paciente_endereco_nmPais#10172, paciente_endereco_uf#10173, paciente_endereco_cep#10174, paciente_nacionalidade_enumNacionalidade#10175, estabelecimento_valor#10176, estabelecimento_razaoSocial#10177, estalecimento_noFantasia#10178, estabelecimento_municipio_codigo#10179, estabelecimento_municipio_nome#10180, estabelecimento_uf#10181, vacina_grupoAtendimento_codigo#10182, vacina_grupoAtendimento_nome#10183, vacina_categoria_codigo#10184, vacina_categoria_nome#10185, ... 8 more fields]\n                                                            +- Project [document_id#10162, id#10226, paciente_idade#10164 AS idade#10259, paciente_dataNascimento#10165, paciente_enumSexoBiologico#10166, paciente_racaCor_codigo#10167, paciente_racaCor_valor#10168, paciente_endereco_coIbgeMunicipio#10169, paciente_endereco_coPais#10170, paciente_endereco_nmMunicipio#10171, paciente_endereco_nmPais#10172, paciente_endereco_uf#10173, paciente_endereco_cep#10174, paciente_nacionalidade_enumNacionalidade#10175, estabelecimento_valor#10176, estabelecimento_razaoSocial#10177, estalecimento_noFantasia#10178, estabelecimento_municipio_codigo#10179, estabelecimento_municipio_nome#10180, estabelecimento_uf#10181, vacina_grupoAtendimento_codigo#10182, vacina_grupoAtendimento_nome#10183, vacina_categoria_codigo#10184, vacina_categoria_nome#10185, ... 8 more fields]\n                                                               +- Project [document_id#10162, paciente_id#10163 AS id#10226, paciente_idade#10164, paciente_dataNascimento#10165, paciente_enumSexoBiologico#10166, paciente_racaCor_codigo#10167, paciente_racaCor_valor#10168, paciente_endereco_coIbgeMunicipio#10169, paciente_endereco_coPais#10170, paciente_endereco_nmMunicipio#10171, paciente_endereco_nmPais#10172, paciente_endereco_uf#10173, paciente_endereco_cep#10174, paciente_nacionalidade_enumNacionalidade#10175, estabelecimento_valor#10176, estabelecimento_razaoSocial#10177, estalecimento_noFantasia#10178, estabelecimento_municipio_codigo#10179, estabelecimento_municipio_nome#10180, estabelecimento_uf#10181, vacina_grupoAtendimento_codigo#10182, vacina_grupoAtendimento_nome#10183, vacina_categoria_codigo#10184, vacina_categoria_nome#10185, ... 8 more fields]\n                                                                  +- Relation[document_id#10162,paciente_id#10163,paciente_idade#10164,paciente_dataNascimento#10165,paciente_enumSexoBiologico#10166,paciente_racaCor_codigo#10167,paciente_racaCor_valor#10168,paciente_endereco_coIbgeMunicipio#10169,paciente_endereco_coPais#10170,paciente_endereco_nmMunicipio#10171,paciente_endereco_nmPais#10172,paciente_endereco_uf#10173,paciente_endereco_cep#10174,paciente_nacionalidade_enumNacionalidade#10175,estabelecimento_valor#10176,estabelecimento_razaoSocial#10177,estalecimento_noFantasia#10178,estabelecimento_municipio_codigo#10179,estabelecimento_municipio_nome#10180,estabelecimento_uf#10181,vacina_grupoAtendimento_codigo#10182,vacina_grupoAtendimento_nome#10183,vacina_categoria_codigo#10184,vacina_categoria_nome#10185,... 8 more fields] csv\n"
     ]
    }
   ],
   "source": [
    "df_dose = df_dose.withColumn(\n",
    "    'prim_dose',\n",
    "    F.when(\n",
    "        (F.col('2a dose').isNull()) &\n",
    "        (F.col('1o reforco').isNull()) &\n",
    "        (F.col('reforco').isNull()) &\n",
    "        (F.col('3a dose').isNull()) &\n",
    "        (F.col('dose adicional').isNull()),\n",
    "        F.when(\n",
    "            F.col('1a dose').isNotNull(),\n",
    "            (F.col('1a dose'))\n",
    "        ).when(\n",
    "            F.col('dose inicial').isNotNull(),\n",
    "            (F.col('dose inicial'))\n",
    "        ).when(\n",
    "            (F.col('dose inicial').isNotNull()) &\n",
    "            (F.col('1a dose').isNotNull()),\n",
    "            F.col('1a dose'))\n",
    "    )\n",
    ").withColumn(\n",
    "    'vac_s_ref',\n",
    "    F.when(\n",
    "        (F.col('1a dose').isNotNull()) &\n",
    "        (F.col('2a dose').isNotNull()) &\n",
    "        (F.col('unica').isNull()) &\n",
    "        \n",
    "        (F.col('1o reforco').isNull()) &\n",
    "        (F.col('reforco').isNull()) &\n",
    "        (F.col('3a dose').isNull()) &\n",
    "        (F.col('dose adicional').isNull()),\n",
    "        \n",
    "        F.col('2a dose')\n",
    "    ).when(\n",
    "        (F.col('dose inicial').isNotNull()) &\n",
    "        (F.col('2a dose').isNotNull()) &\n",
    "        (F.col('unica').isNull()) &\n",
    "        \n",
    "        (F.col('1o reforco').isNull()) &\n",
    "        (F.col('reforco').isNull()) &\n",
    "        (F.col('3a dose').isNull()) &\n",
    "        (F.col('dose adicional').isNull()),\n",
    "        \n",
    "        (F.col('2a dose'))\n",
    "    ).when(\n",
    "        (F.col('unica').isNotNull()) &\n",
    "        (F.col('1a dose').isNull()) &\n",
    "        (F.col('dose inicial').isNull()) &\n",
    "        (F.col('2a dose').isNull()) &\n",
    "        \n",
    "        (F.col('1o reforco').isNull()) &\n",
    "        (F.col('reforco').isNull()) &\n",
    "        (F.col('3a dose').isNull()) &\n",
    "        (F.col('dose adicional').isNull()),\n",
    "        \n",
    "        F.col('unica')\n",
    "    )\n",
    ").withColumn(\n",
    "    'vac_c_ref',\n",
    "    F.when(\n",
    "        (F.col('1a dose').isNotNull()) &\n",
    "        (F.col('2a dose').isNotNull()) &\n",
    "        (F.col('unica').isNull()),\n",
    "        F.when(\n",
    "            F.col('1o reforco').isNotNull(), F.col('1o reforco')\n",
    "        ).when(\n",
    "            F.col('reforco').isNotNull(), F.col('reforco')\n",
    "        ).when(\n",
    "            F.col('3a dose').isNotNull(), F.col('3a dose')\n",
    "        ).when(\n",
    "            F.col('dose adicional').isNotNull(), F.col('dose adicional')\n",
    "        )\n",
    "    ).when(\n",
    "        (F.col('dose inicial').isNotNull()) &\n",
    "        (F.col('2a dose').isNotNull()) &\n",
    "        (F.col('unica').isNull()),\n",
    "        F.when(\n",
    "            F.col('1o reforco').isNotNull(), F.col('1o reforco')\n",
    "        ).when(\n",
    "            F.col('reforco').isNotNull(), F.col('reforco')\n",
    "        ).when(\n",
    "            F.col('3a dose').isNotNull(), F.col('3a dose')\n",
    "        ).when(\n",
    "            F.col('dose adicional').isNotNull(), F.col('dose adicional')\n",
    "        )\n",
    "    ).when(\n",
    "        (F.col('unica').isNotNull()) &\n",
    "        (F.col('1a dose').isNull()) &\n",
    "        (F.col('dose inicial').isNull()) &\n",
    "        (F.col('2a dose').isNull()),\n",
    "        F.when(\n",
    "            F.col('1o reforco').isNotNull(), F.col('1o reforco')\n",
    "        ).when(\n",
    "            F.col('reforco').isNotNull(), F.col('reforco')\n",
    "        ).when(\n",
    "            F.col('3a dose').isNotNull(), F.col('3a dose')\n",
    "        ).when(\n",
    "            F.col('dose adicional').isNotNull(), F.col('dose adicional')\n",
    "        )\n",
    "    )\n",
    ")"
   ]
  },
  {
   "cell_type": "code",
   "execution_count": null,
   "metadata": {},
   "outputs": [],
   "source": []
  }
 ],
 "metadata": {
  "kernelspec": {
   "display_name": "Python 3",
   "language": "python",
   "name": "python3"
  },
  "language_info": {
   "codemirror_mode": {
    "name": "ipython",
    "version": 3
   },
   "file_extension": ".py",
   "mimetype": "text/x-python",
   "name": "python",
   "nbconvert_exporter": "python",
   "pygments_lexer": "ipython3",
   "version": "3.8.5"
  }
 },
 "nbformat": 4,
 "nbformat_minor": 4
}
